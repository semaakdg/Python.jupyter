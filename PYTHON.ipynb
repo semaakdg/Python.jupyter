{
 "cells": [
  {
   "cell_type": "markdown",
   "id": "2386d21b",
   "metadata": {},
   "source": [
    "*"
   ]
  },
  {
   "cell_type": "code",
   "execution_count": 30,
   "id": "0e69525d",
   "metadata": {},
   "outputs": [
    {
     "data": {
      "text/plain": [
       "int"
      ]
     },
     "execution_count": 30,
     "metadata": {},
     "output_type": "execute_result"
    }
   ],
   "source": [
    "type(2) #type() yaparak paranteez içerisinde verdiğimiz değer, tanımın data typeını bize verir."
   ]
  },
  {
   "cell_type": "code",
   "execution_count": 33,
   "id": "53345b88",
   "metadata": {},
   "outputs": [
    {
     "data": {
      "text/plain": [
       "float"
      ]
     },
     "execution_count": 33,
     "metadata": {},
     "output_type": "execute_result"
    }
   ],
   "source": [
    "type(2.0)"
   ]
  },
  {
   "cell_type": "code",
   "execution_count": 38,
   "id": "7d131407",
   "metadata": {},
   "outputs": [
    {
     "data": {
      "text/plain": [
       "bool"
      ]
     },
     "execution_count": 38,
     "metadata": {},
     "output_type": "execute_result"
    }
   ],
   "source": [
    "type(True) #eğer 'true' tanımınındaki 't' harfini küçük yazarsam error verir. Bu yüzden büyük harfle yazmalıyız."
   ]
  },
  {
   "cell_type": "markdown",
   "id": "ceafbfda",
   "metadata": {},
   "source": [
    "*type casting(tip dönüştürmesi)"
   ]
  },
  {
   "cell_type": "code",
   "execution_count": 41,
   "id": "1f7f88be",
   "metadata": {},
   "outputs": [
    {
     "data": {
      "text/plain": [
       "2"
      ]
     },
     "execution_count": 41,
     "metadata": {},
     "output_type": "execute_result"
    }
   ],
   "source": [
    "int(2.4)"
   ]
  },
  {
   "cell_type": "code",
   "execution_count": 40,
   "id": "ba0594c9",
   "metadata": {},
   "outputs": [
    {
     "data": {
      "text/plain": [
       "2"
      ]
     },
     "execution_count": 40,
     "metadata": {},
     "output_type": "execute_result"
    }
   ],
   "source": [
    "int(2.9) #sayıları yuvarlamaz, sadece tam olan kısmını alır. Noktadan sonrası önemli değil, tam kısmını alırız."
   ]
  },
  {
   "cell_type": "code",
   "execution_count": 44,
   "id": "ec891794",
   "metadata": {},
   "outputs": [
    {
     "data": {
      "text/plain": [
       "4.2"
      ]
     },
     "execution_count": 44,
     "metadata": {},
     "output_type": "execute_result"
    }
   ],
   "source": [
    "float(4.2)"
   ]
  },
  {
   "cell_type": "code",
   "execution_count": null,
   "id": "ff6242ef",
   "metadata": {},
   "outputs": [],
   "source": []
  },
  {
   "cell_type": "markdown",
   "id": "da6f743b",
   "metadata": {},
   "source": [
    "# Variables (değişkenler)"
   ]
  },
  {
   "cell_type": "markdown",
   "id": "1d2bd410",
   "metadata": {},
   "source": [
    "* Bazı değerleri bilgisayarın hafızasında tutmak ve daha sonra bunlara verdiğimiz adlara erişmek isteyebiliriz. Buna variables'lar ile gerçekleştireceğiz."
   ]
  },
  {
   "cell_type": "markdown",
   "id": "65b4eff4",
   "metadata": {},
   "source": [
    "* İlk olarak yapacağımız şey variable'a vereceğimiz ismi yazmak. Bu isim penguen, uzunluk, maaş gibi istediğiniz bir isim olabilir (burada dikkat edilmesi gereken yer, verilecek ismin daha önceden python'ın defult olrak kullanmadığı isimler olması. Mesela if, continue, for gibi keyword'ler daha çnceden ayrıldığı için bunları variable ismi olarak kullanamayız) "
   ]
  },
  {
   "cell_type": "markdown",
   "id": "47f5b4eb",
   "metadata": {},
   "source": [
    "* Python'ın daha önceden kendisine ayırdığı isimler (reserved words)\n",
    "   \n",
    "   and,         del,       from,     not,      while,\n",
    "   as,        elif,      global,   or,       with,\n",
    "   assert,      else,      if,       pass,     yield,\n",
    "   break,       except,    import,   print,    True,\n",
    "   class,       exec,      in,       raise,    False,\n",
    "   continue,    finally,   is,       return,\n",
    "   def,         for,       lambda,   try."
   ]
  },
  {
   "cell_type": "markdown",
   "id": "ed7699ac",
   "metadata": {},
   "source": [
    "* Variable ismini seçtikten sonra bu ismin değerinin ne olacağını söylemeliyiz. Bu aşamadan sonra python verdiğimiz ismi gördüğünde aslında verdiğimiz değeri çağırıyor olacak."
   ]
  },
  {
   "cell_type": "markdown",
   "id": "f3695272",
   "metadata": {},
   "source": [
    "* Bu değer atama işlemini '=' sembolü ile yapacağız. Normalde bildiğimiz anlamdan farklı bu '=' işareti. Eşitliğin sağındaki değeri solda yazdığımızın değeri olarak ata demiş oluyoruz bununla. Bu işleme 'variable assigment' deniyor."
   ]
  },
  {
   "cell_type": "markdown",
   "id": "4756760f",
   "metadata": {},
   "source": [
    "# String\n",
    " * Stringler karakterlerden oluşan bir dizidir aslında. Stringlerin elemanları karakterlerdir.\n",
    " * Karakterler: (a, b, c, d...) gibi harfler, (*, ?, =, <, >, /...) gibi özel karakterler, (1, 2, 3...) gibi yazı biçiminde sayılar, boşluk(space) karakter olarak adlandırılabilir.\n",
    " * String'ler karakterlerden veya bunların kombinasyonlarından oluşabilirler."
   ]
  },
  {
   "cell_type": "markdown",
   "id": "1bd28c6d",
   "metadata": {},
   "source": [
    " * Bir şeyin string oldupunu belirtmek için yazacaklarımızı ikili tırnak(\"\") veya tekli tırnak('') içinde yazarız.\n",
    " * Tırnak işaretlerinin yaptığı şey aslında: Bu tırnak işaretlerinin içinde verdiğim diziye karakter dizisi olrak davran, öyle algıla demek.\n",
    " * İkili tırnak de yazsak, tekli tırnak içinde de yazsak aynı şekilde algılarlar. Önemli olan hangisiyle başladıysak onunla bitirmek.\n",
    " \n",
    " * Scalar ve Non-Scalar objelerden bahsetmiştik. Non-Scalar veri tiplerinin daha alt parçalara bölünebilen, elemanlar içeren yapılar olduğunu konuşmuştuk. String Non-Scalar bir veri tipi. İçcel yapı olarak karakterlerden oluşuyorlar."
   ]
  },
  {
   "cell_type": "markdown",
   "id": "56719a09",
   "metadata": {},
   "source": [
    " * Stringler immutable veri tipleridir.\n",
    " * Immutable: Elemanlarının değerleri değiştirilemez.\n"
   ]
  },
  {
   "cell_type": "code",
   "execution_count": 3,
   "id": "210d7c4c",
   "metadata": {},
   "outputs": [
    {
     "data": {
      "text/plain": [
       "'a'"
      ]
     },
     "execution_count": 3,
     "metadata": {},
     "output_type": "execute_result"
    }
   ],
   "source": [
    "#Hangisiyle başladıysak onunla bitirmeliyiz.\n",
    "\"a\" \n",
    "'a'"
   ]
  },
  {
   "cell_type": "code",
   "execution_count": 8,
   "id": "a1276793",
   "metadata": {},
   "outputs": [
    {
     "data": {
      "text/plain": [
       "'S + 10'"
      ]
     },
     "execution_count": 8,
     "metadata": {},
     "output_type": "execute_result"
    }
   ],
   "source": [
    "#Burada +'ya operatör olarak davranılmıyor, yazı olarak davranılıyor\n",
    "\"S + 10\"\n"
   ]
  },
  {
   "cell_type": "markdown",
   "id": "d4d13977",
   "metadata": {},
   "source": [
    " * Hangisiyle başladıysak onnunla bitireceğimiz için kesme işareti ve alıntı yapmada hangisiyle başladığımız önemli olabilir."
   ]
  },
  {
   "cell_type": "code",
   "execution_count": 9,
   "id": "9e1d8d73",
   "metadata": {},
   "outputs": [
    {
     "data": {
      "text/plain": [
       "\"Bu gün Kadıköy'e gidiyorum\""
      ]
     },
     "execution_count": 9,
     "metadata": {},
     "output_type": "execute_result"
    }
   ],
   "source": [
    "\"Bu gün Kadıköy'e gidiyorum\""
   ]
  },
  {
   "cell_type": "code",
   "execution_count": 10,
   "id": "9ccafdfc",
   "metadata": {},
   "outputs": [
    {
     "ename": "SyntaxError",
     "evalue": "invalid syntax (357955283.py, line 1)",
     "output_type": "error",
     "traceback": [
      "\u001b[1;36m  Input \u001b[1;32mIn [10]\u001b[1;36m\u001b[0m\n\u001b[1;33m    'Bugün kadıköy'e gidiyorum\u001b[0m\n\u001b[1;37m                   ^\u001b[0m\n\u001b[1;31mSyntaxError\u001b[0m\u001b[1;31m:\u001b[0m invalid syntax\n"
     ]
    }
   ],
   "source": [
    "'Bugün kadıköy'e gidiyorum"
   ]
  },
  {
   "cell_type": "code",
   "execution_count": 11,
   "id": "ac11e6eb",
   "metadata": {},
   "outputs": [
    {
     "ename": "SyntaxError",
     "evalue": "invalid syntax (878755970.py, line 1)",
     "output_type": "error",
     "traceback": [
      "\u001b[1;36m  Input \u001b[1;32mIn [11]\u001b[1;36m\u001b[0m\n\u001b[1;33m    \"Bana \"Bugün ne yapıyorsun?\" dedi \"\u001b[0m\n\u001b[1;37m           ^\u001b[0m\n\u001b[1;31mSyntaxError\u001b[0m\u001b[1;31m:\u001b[0m invalid syntax\n"
     ]
    }
   ],
   "source": [
    "\"Bana \"Bugün ne yapıyorsun?\" dedi \""
   ]
  },
  {
   "cell_type": "code",
   "execution_count": 12,
   "id": "12d66bf7",
   "metadata": {},
   "outputs": [
    {
     "data": {
      "text/plain": [
       "'Bana \"Bugün ne yapıyorsun\" dedi'"
      ]
     },
     "execution_count": 12,
     "metadata": {},
     "output_type": "execute_result"
    }
   ],
   "source": [
    "'Bana \"Bugün ne yapıyorsun\" dedi'"
   ]
  },
  {
   "cell_type": "code",
   "execution_count": 13,
   "id": "ffd07136",
   "metadata": {},
   "outputs": [
    {
     "ename": "SyntaxError",
     "evalue": "invalid syntax (3889464132.py, line 1)",
     "output_type": "error",
     "traceback": [
      "\u001b[1;36m  Input \u001b[1;32mIn [13]\u001b[1;36m\u001b[0m\n\u001b[1;33m    'Bana \"Bugün Kadıköy'e gidiyorum\" dedi '\u001b[0m\n\u001b[1;37m                         ^\u001b[0m\n\u001b[1;31mSyntaxError\u001b[0m\u001b[1;31m:\u001b[0m invalid syntax\n"
     ]
    }
   ],
   "source": [
    "'Bana \"Bugün Kadıköy'e gidiyorum\" dedi '"
   ]
  },
  {
   "cell_type": "markdown",
   "id": "e696bd12",
   "metadata": {},
   "source": [
    "# Escape sequences"
   ]
  },
  {
   "cell_type": "code",
   "execution_count": 14,
   "id": "a715a5a7",
   "metadata": {},
   "outputs": [
    {
     "data": {
      "text/plain": [
       "'Bana \"Bugün ne yapıyorsun\" dedi'"
      ]
     },
     "execution_count": 14,
     "metadata": {},
     "output_type": "execute_result"
    }
   ],
   "source": [
    "\"Bana \\\"Bugün ne yapıyorsun\\\" dedi\""
   ]
  },
  {
   "cell_type": "code",
   "execution_count": 15,
   "id": "97c01b66",
   "metadata": {},
   "outputs": [
    {
     "data": {
      "text/plain": [
       "\"Bugün Kadıköy'e gidiyorum.\""
      ]
     },
     "execution_count": 15,
     "metadata": {},
     "output_type": "execute_result"
    }
   ],
   "source": [
    "'Bugün Kadıköy\\'e gidiyorum.'"
   ]
  },
  {
   "cell_type": "code",
   "execution_count": 16,
   "id": "351e25dd",
   "metadata": {},
   "outputs": [
    {
     "name": "stdout",
     "output_type": "stream",
     "text": [
      "hey \n",
      " nasılsın\n"
     ]
    }
   ],
   "source": [
    "print(\"hey \\n nasılsın\") # \"\\n\" alt satıra geçirdi"
   ]
  },
  {
   "cell_type": "code",
   "execution_count": 17,
   "id": "33af2df1",
   "metadata": {},
   "outputs": [
    {
     "name": "stdout",
     "output_type": "stream",
     "text": [
      "Hey\tnasılsın\n"
     ]
    }
   ],
   "source": [
    "print(\"Hey\\tnasılsın\") # \"\\t\" aynı satır üzerinde boşluk bıraktı"
   ]
  },
  {
   "cell_type": "code",
   "execution_count": 18,
   "id": "8d12a98d",
   "metadata": {},
   "outputs": [
    {
     "ename": "SyntaxError",
     "evalue": "EOL while scanning string literal (2002776260.py, line 1)",
     "output_type": "error",
     "traceback": [
      "\u001b[1;36m  Input \u001b[1;32mIn [18]\u001b[1;36m\u001b[0m\n\u001b[1;33m    print(\"hmm \\\")\u001b[0m\n\u001b[1;37m                  ^\u001b[0m\n\u001b[1;31mSyntaxError\u001b[0m\u001b[1;31m:\u001b[0m EOL while scanning string literal\n"
     ]
    }
   ],
   "source": [
    "print(\"hmm \\\") "
   ]
  },
  {
   "cell_type": "code",
   "execution_count": 20,
   "id": "0ca08058",
   "metadata": {},
   "outputs": [
    {
     "name": "stdout",
     "output_type": "stream",
     "text": [
      "hmm \\\n"
     ]
    }
   ],
   "source": [
    "print(\"hmm \\\\\") # Yukarıda tek '\\' olduğu için eror verdi. Çünkü '\\' kendinde sonra gelen çift tıırnağı bir özel karakter,\n",
    "# string olarak algıladı. Bu yüzden çift tırnağı korudu. Bşdaki çift tırnak çalıştıdığımda tek olarak, ikicisi korunduğu için\n",
    "# çift tırnak olarak çıktı verdi. Tırnaklar, işlem başladığı gibi bitmediği için kod hata verdi. Burda çift '\\' kullanarak\n",
    "# bu hatanın önüne geçmiş olduk."
   ]
  },
  {
   "cell_type": "markdown",
   "id": "0412d47a",
   "metadata": {},
   "source": [
    "# Stringlerde değer atama (variable assignment)\n",
    " * Sayısal veri tiplerinde nasıl ki değer atayabiliyor, verilerin değerlerine isim verebiliyorsak, aynısını stringler için de yapabiliyoruz."
   ]
  },
  {
   "cell_type": "code",
   "execution_count": 22,
   "id": "ecb2be3b",
   "metadata": {},
   "outputs": [
    {
     "name": "stdout",
     "output_type": "stream",
     "text": [
      "Merhaba nasılsın bugün?\n"
     ]
    }
   ],
   "source": [
    "merhaba = \"Merhaba nasılsın bugün?\"\n",
    "print(merhaba)"
   ]
  },
  {
   "cell_type": "markdown",
   "id": "e6e1c05a",
   "metadata": {},
   "source": [
    "# String Concatenation\n",
    " * Operatörlerin uygulandıkları objelere göre değişik şeyler ifade edebileceğini yazmıştım\n",
    " \n",
    " * '+' operatörü sayısal veri tipleri üzerinde etki edince toplama işlemi yapıyor. Ama uygulandığı objeler string ise yapacağı işlem concatenation (birleştirme olacak), iki string'i ard arda birleştirecek.\n",
    " \n",
    " * En öok karıştırılan durumlardan biri string olarak ifade edilen sayıları + operatörüne sokmak\n"
   ]
  },
  {
   "cell_type": "code",
   "execution_count": 24,
   "id": "b75844f0",
   "metadata": {},
   "outputs": [
    {
     "data": {
      "text/plain": [
       "'54'"
      ]
     },
     "execution_count": 24,
     "metadata": {},
     "output_type": "execute_result"
    }
   ],
   "source": [
    "\"5\" + \"4\" # 5+4=9 yazmaz, bunları birleştirir yan yana yazar."
   ]
  },
  {
   "cell_type": "markdown",
   "id": "5cbb83d9",
   "metadata": {},
   "source": [
    " * Python tırnak işaretiiçinde verdiklerimize karakter olarak davrandığı için artık 5 ve 4 ü sayı olarak algılamıyor. + işlemi burada artık bu iki değeri yan yana koy demek, topla demek değil !"
   ]
  },
  {
   "cell_type": "code",
   "execution_count": 25,
   "id": "a522ebcd",
   "metadata": {},
   "outputs": [
    {
     "data": {
      "text/plain": [
       "'heynasılsın?'"
      ]
     },
     "execution_count": 25,
     "metadata": {},
     "output_type": "execute_result"
    }
   ],
   "source": [
    "\"hey\" + \"nasılsın?\""
   ]
  },
  {
   "cell_type": "markdown",
   "id": "97b7c1ca",
   "metadata": {},
   "source": [
    " * '+' operatörünün tek yaptığı birleştirmek, strinlerde boşluk (space) olmadığı için ifadenin sonucu boşluksuz çıktı."
   ]
  },
  {
   "cell_type": "code",
   "execution_count": 27,
   "id": "83274467",
   "metadata": {},
   "outputs": [
    {
     "data": {
      "text/plain": [
       "'hey nasılsın?'"
      ]
     },
     "execution_count": 27,
     "metadata": {},
     "output_type": "execute_result"
    }
   ],
   "source": [
    "\"hey \" + \"nasılsın?\" #hey den sonra boşluk bıraktığım için ayrı yazıldılar"
   ]
  },
  {
   "cell_type": "code",
   "execution_count": 28,
   "id": "7d654ccc",
   "metadata": {},
   "outputs": [
    {
     "data": {
      "text/plain": [
       "'heynasılsın?'"
      ]
     },
     "execution_count": 28,
     "metadata": {},
     "output_type": "execute_result"
    }
   ],
   "source": [
    "\"hey\" + \"\" + \"nasılsın?\""
   ]
  },
  {
   "cell_type": "code",
   "execution_count": 31,
   "id": "b02eb2df",
   "metadata": {},
   "outputs": [
    {
     "data": {
      "text/plain": [
       "'hey nasılsın?'"
      ]
     },
     "execution_count": 31,
     "metadata": {},
     "output_type": "execute_result"
    }
   ],
   "source": [
    "\"hey\" + \" \" + \"nasılsın?\" #ortadaki kesme işaretinin içerisinde boşluk bırakmazsam \n",
    "# tekrar yukarıdaki gibi bitişik yazardı."
   ]
  },
  {
   "cell_type": "markdown",
   "id": "5716e5c0",
   "metadata": {},
   "source": [
    " * Aynısını değer ataması yaparak da yapabilirdik\n",
    " * Diyelim ki karşılama masajı yazdırmak istiyoruz. İsim ve karşılama kısmını ayrı tutacğız çünkü (belki) karşılayacağımız kişinin ismi değişecek ve ben kodumda sadece o değeri değiştirerek karşılama mantığını korumaya devam edeyim istiyorum."
   ]
  },
  {
   "cell_type": "code",
   "execution_count": 32,
   "id": "89248343",
   "metadata": {},
   "outputs": [],
   "source": [
    "mesaj = \"Merhaba\""
   ]
  },
  {
   "cell_type": "code",
   "execution_count": 33,
   "id": "1129b69f",
   "metadata": {},
   "outputs": [],
   "source": [
    "isim = \"Berkay\""
   ]
  },
  {
   "cell_type": "code",
   "execution_count": 34,
   "id": "6131c650",
   "metadata": {},
   "outputs": [
    {
     "data": {
      "text/plain": [
       "'Merhaba Berkay'"
      ]
     },
     "execution_count": 34,
     "metadata": {},
     "output_type": "execute_result"
    }
   ],
   "source": [
    "mesaj + \" \" + isim"
   ]
  },
  {
   "cell_type": "markdown",
   "id": "f5ff8a1a",
   "metadata": {},
   "source": [
    " * Bu ifadenin değerini de başka bir değişkende tutabilirdik"
   ]
  },
  {
   "cell_type": "code",
   "execution_count": 35,
   "id": "f4b7fd0b",
   "metadata": {},
   "outputs": [],
   "source": [
    "karsılama = mesaj + \" \" + isim"
   ]
  },
  {
   "cell_type": "code",
   "execution_count": 36,
   "id": "02b0158b",
   "metadata": {},
   "outputs": [
    {
     "name": "stdout",
     "output_type": "stream",
     "text": [
      "Merhaba Berkay\n"
     ]
    }
   ],
   "source": [
    "print(karsılama)"
   ]
  },
  {
   "cell_type": "markdown",
   "id": "f10d9202",
   "metadata": {},
   "source": [
    "# Successive concatenation (ardışık birleştirme)\n",
    " * '=' operetörü sayı objeleri için çarpım olarak tanımlanmışken, stringler için ard arda birleştirme işlemi yapıyor."
   ]
  },
  {
   "cell_type": "code",
   "execution_count": 37,
   "id": "0fbc7368",
   "metadata": {},
   "outputs": [
    {
     "data": {
      "text/plain": [
       "'heyheyheyhey'"
      ]
     },
     "execution_count": 37,
     "metadata": {},
     "output_type": "execute_result"
    }
   ],
   "source": [
    "4 * \"hey\""
   ]
  },
  {
   "cell_type": "code",
   "execution_count": 38,
   "id": "42c11777",
   "metadata": {},
   "outputs": [
    {
     "data": {
      "text/plain": [
       "'heyheyheyhey'"
      ]
     },
     "execution_count": 38,
     "metadata": {},
     "output_type": "execute_result"
    }
   ],
   "source": [
    "\"hey\" + \"hey\" + \"hey\" + \"hey\""
   ]
  },
  {
   "cell_type": "code",
   "execution_count": 39,
   "id": "7383922e",
   "metadata": {},
   "outputs": [
    {
     "data": {
      "text/plain": [
       "'10000000000'"
      ]
     },
     "execution_count": 39,
     "metadata": {},
     "output_type": "execute_result"
    }
   ],
   "source": [
    "\"1\" + \"0\"*10"
   ]
  },
  {
   "cell_type": "markdown",
   "id": "eecc4e62",
   "metadata": {},
   "source": [
    "# Len()\n",
    " * Bu metod ile (metodları ayrıntılı göreceğiz), elimizdeki string'in kaç karakterden oluştuğunu öğrenebiliriz (boşluklar da sayılıyor)"
   ]
  },
  {
   "cell_type": "code",
   "execution_count": 1,
   "id": "23d6c99e",
   "metadata": {},
   "outputs": [
    {
     "data": {
      "text/plain": [
       "1"
      ]
     },
     "execution_count": 1,
     "metadata": {},
     "output_type": "execute_result"
    }
   ],
   "source": [
    "len(\"4\")"
   ]
  },
  {
   "cell_type": "code",
   "execution_count": 2,
   "id": "9e28c9a1",
   "metadata": {},
   "outputs": [
    {
     "data": {
      "text/plain": [
       "2"
      ]
     },
     "execution_count": 2,
     "metadata": {},
     "output_type": "execute_result"
    }
   ],
   "source": [
    "len(\"42\")"
   ]
  },
  {
   "cell_type": "code",
   "execution_count": 3,
   "id": "00c06108",
   "metadata": {},
   "outputs": [
    {
     "data": {
      "text/plain": [
       "3"
      ]
     },
     "execution_count": 3,
     "metadata": {},
     "output_type": "execute_result"
    }
   ],
   "source": [
    "len(\"hey\")"
   ]
  },
  {
   "cell_type": "code",
   "execution_count": 4,
   "id": "3a6e6e79",
   "metadata": {},
   "outputs": [
    {
     "data": {
      "text/plain": [
       "14"
      ]
     },
     "execution_count": 4,
     "metadata": {},
     "output_type": "execute_result"
    }
   ],
   "source": [
    "len(\"hey, nasılsın?\")"
   ]
  },
  {
   "cell_type": "markdown",
   "id": "44c7d963",
   "metadata": {},
   "source": [
    "# Indexing (elemanlara erişim)\n",
    " * Strinlerin non-scalar veri tipilerine örnek olduğunu yazmıştım. Stringler elemanları karakterler olan, alt birim olrak karakterler içeren bir veri tipi\n",
    " * Stringler karakterler dizisi olduğu için, bu dizideki spesifik konumlardaki elemanlara erişme aklımıza gelebilir. Mesela String'in ilk karakteri nedir gibi\n",
    " * Bir yapının  alt elemanlarına erişmek için yapacağımız işleme 'indexing' deniyor. Bunu kçşeli paraztez ile sağlayacağız.\n",
    " * İsim diye bir değişken oluşturup, string'e eşitleyip bunun ilk elemanına erişelim;"
   ]
  },
  {
   "cell_type": "code",
   "execution_count": 5,
   "id": "948b678f",
   "metadata": {},
   "outputs": [],
   "source": [
    "isim = \"Deniz\""
   ]
  },
  {
   "cell_type": "code",
   "execution_count": 6,
   "id": "4f01bb88",
   "metadata": {},
   "outputs": [
    {
     "data": {
      "text/plain": [
       "'e'"
      ]
     },
     "execution_count": 6,
     "metadata": {},
     "output_type": "execute_result"
    }
   ],
   "source": [
    "isim[1]"
   ]
  },
  {
   "cell_type": "code",
   "execution_count": 7,
   "id": "bf152477",
   "metadata": {},
   "outputs": [
    {
     "data": {
      "text/plain": [
       "'e'"
      ]
     },
     "execution_count": 7,
     "metadata": {},
     "output_type": "execute_result"
    }
   ],
   "source": [
    "\"Deniz\"[1]"
   ]
  },
  {
   "cell_type": "markdown",
   "id": "dbee3cbd",
   "metadata": {},
   "source": [
    " * Python'da indexler '0' dan başlıyor. Yani biz ilk elemana ulaşmak istiyorsak [0] ile sorgulamamız lazım"
   ]
  },
  {
   "cell_type": "code",
   "execution_count": 8,
   "id": "fa3ff8a2",
   "metadata": {},
   "outputs": [
    {
     "data": {
      "text/plain": [
       "'D'"
      ]
     },
     "execution_count": 8,
     "metadata": {},
     "output_type": "execute_result"
    }
   ],
   "source": [
    "isim[0]"
   ]
  },
  {
   "cell_type": "markdown",
   "id": "b04bb1d4",
   "metadata": {},
   "source": [
    " * İkinci eleman için 1; üçüncü eleman için 2 ile sorgulamalıyz"
   ]
  },
  {
   "cell_type": "code",
   "execution_count": 9,
   "id": "8480b4fb",
   "metadata": {},
   "outputs": [
    {
     "data": {
      "text/plain": [
       "'e'"
      ]
     },
     "execution_count": 9,
     "metadata": {},
     "output_type": "execute_result"
    }
   ],
   "source": [
    "isim[1]"
   ]
  },
  {
   "cell_type": "code",
   "execution_count": 10,
   "id": "97c10c5d",
   "metadata": {},
   "outputs": [
    {
     "data": {
      "text/plain": [
       "'n'"
      ]
     },
     "execution_count": 10,
     "metadata": {},
     "output_type": "execute_result"
    }
   ],
   "source": [
    "isim[2]"
   ]
  },
  {
   "cell_type": "markdown",
   "id": "adc15955",
   "metadata": {},
   "source": [
    " * Son elemanı elde etmek için [-1] yazabiliriz"
   ]
  },
  {
   "cell_type": "code",
   "execution_count": 11,
   "id": "1ad388bc",
   "metadata": {},
   "outputs": [
    {
     "data": {
      "text/plain": [
       "'z'"
      ]
     },
     "execution_count": 11,
     "metadata": {},
     "output_type": "execute_result"
    }
   ],
   "source": [
    "isim[-1]"
   ]
  },
  {
   "cell_type": "markdown",
   "id": "0aac4998",
   "metadata": {},
   "source": [
    " * Stringlerin elemanları değiştirilemezdir. O yüzden şçyle şeyler yapamayız; "
   ]
  },
  {
   "cell_type": "code",
   "execution_count": 12,
   "id": "14933d71",
   "metadata": {},
   "outputs": [
    {
     "ename": "TypeError",
     "evalue": "'str' object does not support item assignment",
     "output_type": "error",
     "traceback": [
      "\u001b[1;31m---------------------------------------------------------------------------\u001b[0m",
      "\u001b[1;31mTypeError\u001b[0m                                 Traceback (most recent call last)",
      "Input \u001b[1;32mIn [12]\u001b[0m, in \u001b[0;36m<cell line: 1>\u001b[1;34m()\u001b[0m\n\u001b[1;32m----> 1\u001b[0m isim[\u001b[38;5;241m0\u001b[39m] \u001b[38;5;241m=\u001b[39m \u001b[38;5;124m\"\u001b[39m\u001b[38;5;124mB\u001b[39m\u001b[38;5;124m\"\u001b[39m\n",
      "\u001b[1;31mTypeError\u001b[0m: 'str' object does not support item assignment"
     ]
    }
   ],
   "source": [
    "isim[0] = \"B\""
   ]
  },
  {
   "cell_type": "markdown",
   "id": "b8a6e5b0",
   "metadata": {},
   "source": [
    "# Slicing (dilimleme)\n",
    " * Indexing ile sonuç olarak sadece bir eleman elde ettik, ama bir kaç tanesini arka arkaya, bir öbek olarak istiyorsam ne yaprdım?\n",
    " * Diyelim ki 2 elemandan başlayarak 3.elemana kadar olan karakterleri elde etmek istiyorum (0.indexten 3.indexe kadar olanlara)"
   ]
  },
  {
   "cell_type": "code",
   "execution_count": 13,
   "id": "7990248c",
   "metadata": {},
   "outputs": [
    {
     "data": {
      "text/plain": [
       "'Deniz'"
      ]
     },
     "execution_count": 13,
     "metadata": {},
     "output_type": "execute_result"
    }
   ],
   "source": [
    "isim"
   ]
  },
  {
   "cell_type": "code",
   "execution_count": 14,
   "id": "7897c0de",
   "metadata": {},
   "outputs": [
    {
     "data": {
      "text/plain": [
       "'Den'"
      ]
     },
     "execution_count": 14,
     "metadata": {},
     "output_type": "execute_result"
    }
   ],
   "source": [
    "# Burada önemli olan nokta ilk belirtilen indexing dahil edilip son olarak yazılanın dahil edilmemesi\n",
    "# 0, 1, 2 indexlerini döndürdü bana sonuç olrak\n",
    "isim[0:3]"
   ]
  },
  {
   "cell_type": "code",
   "execution_count": 15,
   "id": "de4bf43a",
   "metadata": {},
   "outputs": [
    {
     "data": {
      "text/plain": [
       "'en'"
      ]
     },
     "execution_count": 15,
     "metadata": {},
     "output_type": "execute_result"
    }
   ],
   "source": [
    "isim[1:3]"
   ]
  },
  {
   "cell_type": "markdown",
   "id": "d3550190",
   "metadata": {},
   "source": [
    " * başlangıç:bitiş olarak veriyoruz ve bitiş olarak verdiğimiz index dahil olmuyor. Başlangıç belirtmezsek Python defult olarak başlangıç 0 alıyor."
   ]
  },
  {
   "cell_type": "code",
   "execution_count": 16,
   "id": "fea5512c",
   "metadata": {},
   "outputs": [
    {
     "data": {
      "text/plain": [
       "'Den'"
      ]
     },
     "execution_count": 16,
     "metadata": {},
     "output_type": "execute_result"
    }
   ],
   "source": [
    "isim[:3]"
   ]
  },
  {
   "cell_type": "markdown",
   "id": "65597ede",
   "metadata": {},
   "source": [
    " * Bitişi belitmezsek Python string'in sonuna kadar alıyor, bu sefer son elemanı da dahil ediyor."
   ]
  },
  {
   "cell_type": "code",
   "execution_count": 17,
   "id": "9c25b44c",
   "metadata": {},
   "outputs": [
    {
     "data": {
      "text/plain": [
       "'eniz'"
      ]
     },
     "execution_count": 17,
     "metadata": {},
     "output_type": "execute_result"
    }
   ],
   "source": [
    "isim[1:]"
   ]
  },
  {
   "cell_type": "code",
   "execution_count": 18,
   "id": "0b9b290a",
   "metadata": {},
   "outputs": [
    {
     "data": {
      "text/plain": [
       "'Deniz'"
      ]
     },
     "execution_count": 18,
     "metadata": {},
     "output_type": "execute_result"
    }
   ],
   "source": [
    "isim[0:]"
   ]
  },
  {
   "cell_type": "code",
   "execution_count": 19,
   "id": "5a69e4be",
   "metadata": {},
   "outputs": [
    {
     "data": {
      "text/plain": [
       "'Deniz'"
      ]
     },
     "execution_count": 19,
     "metadata": {},
     "output_type": "execute_result"
    }
   ],
   "source": [
    "# İkisini de belitmezsek [0:] ile aynı olurdu, çünkü belirtilmediği zaman başlangıcı 0 alıyor\n",
    "isim[:]"
   ]
  },
  {
   "cell_type": "markdown",
   "id": "d449d994",
   "metadata": {},
   "source": [
    " * Slicing yaparken bitiş bitiş olarak değer en büyük index'imizden büyükse de hata alamayız, sonuna kadar alır ( sadece indexing yaparken en büyük indeximden büyük olan değerler için hata alıyordum)"
   ]
  },
  {
   "cell_type": "code",
   "execution_count": 20,
   "id": "16a01058",
   "metadata": {},
   "outputs": [
    {
     "data": {
      "text/plain": [
       "'eniz'"
      ]
     },
     "execution_count": 20,
     "metadata": {},
     "output_type": "execute_result"
    }
   ],
   "source": [
    "isim[1:20]"
   ]
  },
  {
   "cell_type": "code",
   "execution_count": 21,
   "id": "d934fca2",
   "metadata": {},
   "outputs": [
    {
     "data": {
      "text/plain": [
       "'Deniz'"
      ]
     },
     "execution_count": 21,
     "metadata": {},
     "output_type": "execute_result"
    }
   ],
   "source": [
    "isim[0:20]"
   ]
  },
  {
   "cell_type": "code",
   "execution_count": 22,
   "id": "8eda3d5f",
   "metadata": {},
   "outputs": [
    {
     "data": {
      "text/plain": [
       "'eniz'"
      ]
     },
     "execution_count": 22,
     "metadata": {},
     "output_type": "execute_result"
    }
   ],
   "source": [
    "isim[1:200]"
   ]
  },
  {
   "cell_type": "code",
   "execution_count": 23,
   "id": "0f59a394",
   "metadata": {},
   "outputs": [
    {
     "data": {
      "text/plain": [
       "'eniz'"
      ]
     },
     "execution_count": 23,
     "metadata": {},
     "output_type": "execute_result"
    }
   ],
   "source": [
    "isim[1:]"
   ]
  },
  {
   "cell_type": "markdown",
   "id": "bc32e12a",
   "metadata": {},
   "source": [
    " * başlangıç:bitiş olark slicing yapabileceğimiz gibi, başlangıç:bitiş:adım formunda da slicing yapabiliriz. Buradaki adım parametresi kaçar kaçar gideceğimizi belirler."
   ]
  },
  {
   "cell_type": "code",
   "execution_count": 24,
   "id": "d5399c09",
   "metadata": {},
   "outputs": [
    {
     "data": {
      "text/plain": [
       "'Deniz'"
      ]
     },
     "execution_count": 24,
     "metadata": {},
     "output_type": "execute_result"
    }
   ],
   "source": [
    "isim"
   ]
  },
  {
   "cell_type": "code",
   "execution_count": 25,
   "id": "607cdfc8",
   "metadata": {},
   "outputs": [
    {
     "data": {
      "text/plain": [
       "'Dnz'"
      ]
     },
     "execution_count": 25,
     "metadata": {},
     "output_type": "execute_result"
    }
   ],
   "source": [
    "isim[0:10:2]"
   ]
  },
  {
   "cell_type": "code",
   "execution_count": 27,
   "id": "cedd3322",
   "metadata": {},
   "outputs": [
    {
     "data": {
      "text/plain": [
       "'Dn'"
      ]
     },
     "execution_count": 27,
     "metadata": {},
     "output_type": "execute_result"
    }
   ],
   "source": [
    "isim[0:3:2]"
   ]
  },
  {
   "cell_type": "code",
   "execution_count": 26,
   "id": "49961f2c",
   "metadata": {},
   "outputs": [
    {
     "data": {
      "text/plain": [
       "'Di'"
      ]
     },
     "execution_count": 26,
     "metadata": {},
     "output_type": "execute_result"
    }
   ],
   "source": [
    "isim[0:10:3]"
   ]
  },
  {
   "cell_type": "markdown",
   "id": "01b46256",
   "metadata": {},
   "source": [
    " * Adım eski bir değer de olabilir, böylece ters yönde gitmiş oluruz. Ama başlangıç değerini ona göre belirlemek gerekir."
   ]
  },
  {
   "cell_type": "code",
   "execution_count": 28,
   "id": "d4726d63",
   "metadata": {},
   "outputs": [
    {
     "data": {
      "text/plain": [
       "''"
      ]
     },
     "execution_count": 28,
     "metadata": {},
     "output_type": "execute_result"
    }
   ],
   "source": [
    "# 0.indexten 10. indexe 1 azaltarak gidemez o yüzden boş string döndürür.\n",
    "isim[0:10:-1]"
   ]
  },
  {
   "cell_type": "code",
   "execution_count": 29,
   "id": "40c02bd4",
   "metadata": {},
   "outputs": [
    {
     "data": {
      "text/plain": [
       "'zine'"
      ]
     },
     "execution_count": 29,
     "metadata": {},
     "output_type": "execute_result"
    }
   ],
   "source": [
    "isim[10:0:-1]"
   ]
  },
  {
   "cell_type": "code",
   "execution_count": 30,
   "id": "7747a705",
   "metadata": {},
   "outputs": [
    {
     "data": {
      "text/plain": [
       "'zineD'"
      ]
     },
     "execution_count": 30,
     "metadata": {},
     "output_type": "execute_result"
    }
   ],
   "source": [
    "isim[10::-1]"
   ]
  },
  {
   "cell_type": "code",
   "execution_count": 31,
   "id": "6a5db403",
   "metadata": {},
   "outputs": [
    {
     "data": {
      "text/plain": [
       "'zineD'"
      ]
     },
     "execution_count": 31,
     "metadata": {},
     "output_type": "execute_result"
    }
   ],
   "source": [
    "isim[::-1]"
   ]
  },
  {
   "cell_type": "code",
   "execution_count": 32,
   "id": "917a286b",
   "metadata": {},
   "outputs": [
    {
     "data": {
      "text/plain": [
       "'znD'"
      ]
     },
     "execution_count": 32,
     "metadata": {},
     "output_type": "execute_result"
    }
   ],
   "source": [
    "isim[::-2]"
   ]
  },
  {
   "cell_type": "markdown",
   "id": "60e81456",
   "metadata": {},
   "source": [
    "# Casting in Strings"
   ]
  },
  {
   "cell_type": "code",
   "execution_count": 33,
   "id": "a80a986f",
   "metadata": {},
   "outputs": [],
   "source": [
    "a = \"5\""
   ]
  },
  {
   "cell_type": "code",
   "execution_count": 34,
   "id": "98b9671b",
   "metadata": {},
   "outputs": [],
   "source": [
    "b = \"5.3\""
   ]
  },
  {
   "cell_type": "code",
   "execution_count": 37,
   "id": "34a175a0",
   "metadata": {},
   "outputs": [
    {
     "data": {
      "text/plain": [
       "5"
      ]
     },
     "execution_count": 37,
     "metadata": {},
     "output_type": "execute_result"
    }
   ],
   "source": [
    "int(a)"
   ]
  },
  {
   "cell_type": "code",
   "execution_count": 36,
   "id": "d7809964",
   "metadata": {},
   "outputs": [
    {
     "data": {
      "text/plain": [
       "5.3"
      ]
     },
     "execution_count": 36,
     "metadata": {},
     "output_type": "execute_result"
    }
   ],
   "source": [
    "float(b)"
   ]
  },
  {
   "cell_type": "code",
   "execution_count": 39,
   "id": "03a423ed",
   "metadata": {},
   "outputs": [
    {
     "data": {
      "text/plain": [
       "5"
      ]
     },
     "execution_count": 39,
     "metadata": {},
     "output_type": "execute_result"
    }
   ],
   "source": [
    "int(float(b)) #float olan b'nin sadece tam kısmını almak için bu şekilde bir yöntem kullanabilirim."
   ]
  },
  {
   "cell_type": "markdown",
   "id": "f54e8e55",
   "metadata": {},
   "source": [
    "# Input\n",
    " * Bazen kullanacağımız değeri kullanıcıdan almak isteyebilirz. Bunu input metodu ile yapacağız\n",
    " * Input'un içinde yazacağımız bize kullanıcıya gösterilecek yazıyı verecek, kullanıcıdan girdi bekleyip enter'a basmasını bekleyecek ve girdiyi string olarak döndürecek"
   ]
  },
  {
   "cell_type": "code",
   "execution_count": 40,
   "id": "d042591f",
   "metadata": {},
   "outputs": [
    {
     "name": "stdout",
     "output_type": "stream",
     "text": [
      "Bir sayı giriniz: 10\n"
     ]
    }
   ],
   "source": [
    "x = input(\"Bir sayı giriniz: \")"
   ]
  },
  {
   "cell_type": "code",
   "execution_count": 41,
   "id": "8850b980",
   "metadata": {},
   "outputs": [
    {
     "ename": "TypeError",
     "evalue": "can only concatenate str (not \"int\") to str",
     "output_type": "error",
     "traceback": [
      "\u001b[1;31m---------------------------------------------------------------------------\u001b[0m",
      "\u001b[1;31mTypeError\u001b[0m                                 Traceback (most recent call last)",
      "Input \u001b[1;32mIn [41]\u001b[0m, in \u001b[0;36m<cell line: 1>\u001b[1;34m()\u001b[0m\n\u001b[1;32m----> 1\u001b[0m \u001b[43mx\u001b[49m\u001b[43m \u001b[49m\u001b[38;5;241;43m+\u001b[39;49m\u001b[43m \u001b[49m\u001b[38;5;241;43m10\u001b[39;49m\n",
      "\u001b[1;31mTypeError\u001b[0m: can only concatenate str (not \"int\") to str"
     ]
    }
   ],
   "source": [
    "x + 10"
   ]
  },
  {
   "cell_type": "code",
   "execution_count": 42,
   "id": "eb9753c7",
   "metadata": {},
   "outputs": [
    {
     "data": {
      "text/plain": [
       "str"
      ]
     },
     "execution_count": 42,
     "metadata": {},
     "output_type": "execute_result"
    }
   ],
   "source": [
    "type(x)"
   ]
  },
  {
   "cell_type": "code",
   "execution_count": 43,
   "id": "235b33fd",
   "metadata": {},
   "outputs": [
    {
     "data": {
      "text/plain": [
       "20"
      ]
     },
     "execution_count": 43,
     "metadata": {},
     "output_type": "execute_result"
    }
   ],
   "source": [
    "int(x) + 10"
   ]
  },
  {
   "cell_type": "code",
   "execution_count": 44,
   "id": "361bdcb0",
   "metadata": {},
   "outputs": [
    {
     "name": "stdout",
     "output_type": "stream",
     "text": [
      "Bir sayı giriniz: 10\n"
     ]
    }
   ],
   "source": [
    "x = int(input(\"Bir sayı giriniz: \"))"
   ]
  },
  {
   "cell_type": "code",
   "execution_count": 45,
   "id": "da9c33fc",
   "metadata": {},
   "outputs": [
    {
     "data": {
      "text/plain": [
       "20"
      ]
     },
     "execution_count": 45,
     "metadata": {},
     "output_type": "execute_result"
    }
   ],
   "source": [
    "x + 10"
   ]
  },
  {
   "cell_type": "code",
   "execution_count": 46,
   "id": "5752940f",
   "metadata": {},
   "outputs": [
    {
     "name": "stdout",
     "output_type": "stream",
     "text": [
      "Mesajı girin: Merhaba\n"
     ]
    }
   ],
   "source": [
    "mesaj = input(\"Mesajı girin: \")"
   ]
  },
  {
   "cell_type": "code",
   "execution_count": 52,
   "id": "1e85e372",
   "metadata": {},
   "outputs": [
    {
     "name": "stdout",
     "output_type": "stream",
     "text": [
      "Ad girin: Sema\n"
     ]
    }
   ],
   "source": [
    "ad = input(\"Ad girin: \")"
   ]
  },
  {
   "cell_type": "code",
   "execution_count": 53,
   "id": "6088f31a",
   "metadata": {},
   "outputs": [
    {
     "data": {
      "text/plain": [
       "'Merhaba Sema'"
      ]
     },
     "execution_count": 53,
     "metadata": {},
     "output_type": "execute_result"
    }
   ],
   "source": [
    "mesaj + \" \" + ad"
   ]
  },
  {
   "cell_type": "markdown",
   "id": "f98329c8",
   "metadata": {},
   "source": [
    "# Commands"
   ]
  },
  {
   "cell_type": "markdown",
   "id": "824c36ee",
   "metadata": {},
   "source": [
    " * Tek satıra yorum yazma"
   ]
  },
  {
   "cell_type": "code",
   "execution_count": null,
   "id": "77e0109b",
   "metadata": {},
   "outputs": [],
   "source": [
    "# '#' bunu kullanarak tek satırda yorum yazabilrim"
   ]
  },
  {
   "cell_type": "code",
   "execution_count": null,
   "id": "575b47c2",
   "metadata": {},
   "outputs": [],
   "source": [
    "\"\"\" \n",
    "bu şekilde ise aynı anda birden fazla satırı command satıra cevirebilirim.(3 tane \" dan kullanmam lazım)\n",
    "\"\"\" "
   ]
  },
  {
   "cell_type": "markdown",
   "id": "3883115f",
   "metadata": {},
   "source": [
    " # Nümerik Veri Tiplerinde Karşılaştırma\n",
    " \n",
    " * Bir programın farklı durumlar olduğunda başka davranışlar göstermesini isteyebiliriz. Bunun için belirli testler yapmam lazım ve bu testler sonucuca göre farklı davranışlar tasarlamam lazım.\n",
    "\n",
    "\n",
    " * Bu testler için verilerimizi birbirleri ile karşılaştırabilir olmamız lazım. Bunları Comparison Operator'lar (karşılaştırma operatörleri) ile yapacağız. Cevabın True veya False olmasına göre, farklı durumlarda farklı davranacak program tasarlayabiliriz. Bu karşılaştırmalar o programların temelini oluşturacak.\n",
    "\n",
    "\n",
    " * Nümerik veri tiplerinde karşılaştırma deyince aklımıza bir kaç şey gelebilir:\n",
    "\n",
    "\n",
    " * i==j eşitlik testi (equality test). i ve j birbirlerine eşitse bu ifadenin değeri boolean veri objesi True, eşit değilse False olacak. = değişken atama operatörü olarak tanımlandığı için eşitlik test ederken onu kullanırsak ='in sağındaki değere solundaki adı vermiş oluruz.\n",
    "\n",
    "\n",
    " * i!=j eşitsizlik testi (inequality test). i ve j birbirlerine eşit değilse bu ifadenin değeri boolean veri objesi True, eşitse False olacak.\n",
    "\n",
    "\n",
    " * i>j i, j'den büyükse bu ifadenin değeri boolean veri objesi True, eşit veya az ise False olacak.\n",
    "\n",
    "\n",
    " * i>=j i, j'den büyükse veya eşitse bu ifadenin değeri boolean veri objesi True, az ise False olacak.\n",
    "\n",
    "\n",
    " * i<j i, j'den küçükse bu ifadenin değeri boolean veri objesi True, eşit veya büyük ise False olacak.\n",
    "\n",
    "\n",
    " * i<=j i, j'den küçükse veya eşitse bu ifadenin değeri boolean veri objesi True, büyük ise False olacak"
   ]
  },
  {
   "cell_type": "code",
   "execution_count": 1,
   "id": "e8195ebe",
   "metadata": {},
   "outputs": [
    {
     "data": {
      "text/plain": [
       "False"
      ]
     },
     "execution_count": 1,
     "metadata": {},
     "output_type": "execute_result"
    }
   ],
   "source": [
    "5 == 4"
   ]
  },
  {
   "cell_type": "code",
   "execution_count": 2,
   "id": "fa4a7776",
   "metadata": {},
   "outputs": [
    {
     "data": {
      "text/plain": [
       "True"
      ]
     },
     "execution_count": 2,
     "metadata": {},
     "output_type": "execute_result"
    }
   ],
   "source": [
    "5 == 5"
   ]
  },
  {
   "cell_type": "code",
   "execution_count": 3,
   "id": "bb471e56",
   "metadata": {},
   "outputs": [],
   "source": [
    "i = 10\n",
    "j = 20"
   ]
  },
  {
   "cell_type": "code",
   "execution_count": 4,
   "id": "0716d1ae",
   "metadata": {},
   "outputs": [
    {
     "data": {
      "text/plain": [
       "False"
      ]
     },
     "execution_count": 4,
     "metadata": {},
     "output_type": "execute_result"
    }
   ],
   "source": [
    "i == j"
   ]
  },
  {
   "cell_type": "code",
   "execution_count": 5,
   "id": "48b179ae",
   "metadata": {},
   "outputs": [],
   "source": [
    "j = 10"
   ]
  },
  {
   "cell_type": "code",
   "execution_count": 6,
   "id": "b03b103b",
   "metadata": {},
   "outputs": [
    {
     "data": {
      "text/plain": [
       "True"
      ]
     },
     "execution_count": 6,
     "metadata": {},
     "output_type": "execute_result"
    }
   ],
   "source": [
    "i == j"
   ]
  },
  {
   "cell_type": "markdown",
   "id": "b28856ee",
   "metadata": {},
   "source": [
    " * Float veri tipleri için eşitlik karşılaştırması yaparken == kullanılması çok mantıklı değil, bunun nedenini ileriki derslerde göreceğiz"
   ]
  },
  {
   "cell_type": "code",
   "execution_count": 7,
   "id": "4ac23db2",
   "metadata": {},
   "outputs": [
    {
     "data": {
      "text/plain": [
       "False"
      ]
     },
     "execution_count": 7,
     "metadata": {},
     "output_type": "execute_result"
    }
   ],
   "source": [
    "5.3 == 5.4"
   ]
  },
  {
   "cell_type": "code",
   "execution_count": 8,
   "id": "33c1cf32",
   "metadata": {},
   "outputs": [
    {
     "data": {
      "text/plain": [
       "True"
      ]
     },
     "execution_count": 8,
     "metadata": {},
     "output_type": "execute_result"
    }
   ],
   "source": [
    "5.4 == 5.4"
   ]
  },
  {
   "cell_type": "code",
   "execution_count": 9,
   "id": "5663f85b",
   "metadata": {},
   "outputs": [
    {
     "data": {
      "text/plain": [
       "False"
      ]
     },
     "execution_count": 9,
     "metadata": {},
     "output_type": "execute_result"
    }
   ],
   "source": [
    "x = (0.3 * 3) + 0.1\n",
    "y = 1.0\n",
    "x == y"
   ]
  },
  {
   "cell_type": "code",
   "execution_count": 11,
   "id": "7db4c614",
   "metadata": {},
   "outputs": [
    {
     "data": {
      "text/plain": [
       "0.9999999999999999"
      ]
     },
     "execution_count": 11,
     "metadata": {},
     "output_type": "execute_result"
    }
   ],
   "source": [
    "x"
   ]
  },
  {
   "cell_type": "code",
   "execution_count": 12,
   "id": "e6fac232",
   "metadata": {},
   "outputs": [
    {
     "data": {
      "text/plain": [
       "1.0"
      ]
     },
     "execution_count": 12,
     "metadata": {},
     "output_type": "execute_result"
    }
   ],
   "source": [
    "y"
   ]
  },
  {
   "cell_type": "markdown",
   "id": "cbb41908",
   "metadata": {},
   "source": [
    "# != Operator"
   ]
  },
  {
   "cell_type": "code",
   "execution_count": 13,
   "id": "fbb1b974",
   "metadata": {},
   "outputs": [
    {
     "data": {
      "text/plain": [
       "True"
      ]
     },
     "execution_count": 13,
     "metadata": {},
     "output_type": "execute_result"
    }
   ],
   "source": [
    "5 != 4"
   ]
  },
  {
   "cell_type": "code",
   "execution_count": 15,
   "id": "6938a959",
   "metadata": {},
   "outputs": [
    {
     "data": {
      "text/plain": [
       "False"
      ]
     },
     "execution_count": 15,
     "metadata": {},
     "output_type": "execute_result"
    }
   ],
   "source": [
    "5 != 5"
   ]
  },
  {
   "cell_type": "code",
   "execution_count": 14,
   "id": "e828583d",
   "metadata": {},
   "outputs": [],
   "source": [
    "i = 10\n",
    "j = 20"
   ]
  },
  {
   "cell_type": "code",
   "execution_count": 16,
   "id": "756f01ba",
   "metadata": {},
   "outputs": [
    {
     "data": {
      "text/plain": [
       "True"
      ]
     },
     "execution_count": 16,
     "metadata": {},
     "output_type": "execute_result"
    }
   ],
   "source": [
    "i != j"
   ]
  },
  {
   "cell_type": "code",
   "execution_count": 17,
   "id": "774648be",
   "metadata": {},
   "outputs": [],
   "source": [
    "j = 10"
   ]
  },
  {
   "cell_type": "code",
   "execution_count": 18,
   "id": "5b173544",
   "metadata": {},
   "outputs": [
    {
     "data": {
      "text/plain": [
       "False"
      ]
     },
     "execution_count": 18,
     "metadata": {},
     "output_type": "execute_result"
    }
   ],
   "source": [
    "i != j"
   ]
  },
  {
   "cell_type": "markdown",
   "id": "e051e201",
   "metadata": {},
   "source": [
    "# > Operator"
   ]
  },
  {
   "cell_type": "code",
   "execution_count": 19,
   "id": "8f2218d3",
   "metadata": {},
   "outputs": [
    {
     "data": {
      "text/plain": [
       "True"
      ]
     },
     "execution_count": 19,
     "metadata": {},
     "output_type": "execute_result"
    }
   ],
   "source": [
    "5 > 4"
   ]
  },
  {
   "cell_type": "code",
   "execution_count": 20,
   "id": "0b22fcb4",
   "metadata": {},
   "outputs": [
    {
     "data": {
      "text/plain": [
       "False"
      ]
     },
     "execution_count": 20,
     "metadata": {},
     "output_type": "execute_result"
    }
   ],
   "source": [
    "5>5"
   ]
  },
  {
   "cell_type": "code",
   "execution_count": 22,
   "id": "4aa98c87",
   "metadata": {},
   "outputs": [],
   "source": [
    "i = 10\n",
    "j = 20"
   ]
  },
  {
   "cell_type": "code",
   "execution_count": 23,
   "id": "cb681c2e",
   "metadata": {},
   "outputs": [
    {
     "data": {
      "text/plain": [
       "False"
      ]
     },
     "execution_count": 23,
     "metadata": {},
     "output_type": "execute_result"
    }
   ],
   "source": [
    "i > j"
   ]
  },
  {
   "cell_type": "code",
   "execution_count": 24,
   "id": "5ce25889",
   "metadata": {},
   "outputs": [],
   "source": [
    "j = 5"
   ]
  },
  {
   "cell_type": "code",
   "execution_count": 25,
   "id": "848010df",
   "metadata": {},
   "outputs": [
    {
     "data": {
      "text/plain": [
       "True"
      ]
     },
     "execution_count": 25,
     "metadata": {},
     "output_type": "execute_result"
    }
   ],
   "source": [
    "i > j"
   ]
  },
  {
   "cell_type": "code",
   "execution_count": 26,
   "id": "1a485829",
   "metadata": {},
   "outputs": [
    {
     "data": {
      "text/plain": [
       "False"
      ]
     },
     "execution_count": 26,
     "metadata": {},
     "output_type": "execute_result"
    }
   ],
   "source": [
    "5.3 > 5.4 "
   ]
  },
  {
   "cell_type": "code",
   "execution_count": 27,
   "id": "8b93d9e1",
   "metadata": {},
   "outputs": [
    {
     "data": {
      "text/plain": [
       "True"
      ]
     },
     "execution_count": 27,
     "metadata": {},
     "output_type": "execute_result"
    }
   ],
   "source": [
    "5.4 > 5.3 "
   ]
  },
  {
   "cell_type": "markdown",
   "id": "39eaa457",
   "metadata": {},
   "source": [
    "# >= Operator"
   ]
  },
  {
   "cell_type": "code",
   "execution_count": 30,
   "id": "7b0f4e0e",
   "metadata": {},
   "outputs": [
    {
     "data": {
      "text/plain": [
       "True"
      ]
     },
     "execution_count": 30,
     "metadata": {},
     "output_type": "execute_result"
    }
   ],
   "source": [
    "5 >= 4"
   ]
  },
  {
   "cell_type": "code",
   "execution_count": 28,
   "id": "6586a07f",
   "metadata": {},
   "outputs": [
    {
     "data": {
      "text/plain": [
       "True"
      ]
     },
     "execution_count": 28,
     "metadata": {},
     "output_type": "execute_result"
    }
   ],
   "source": [
    "5 >= 5"
   ]
  },
  {
   "cell_type": "code",
   "execution_count": 29,
   "id": "5a45530c",
   "metadata": {},
   "outputs": [
    {
     "data": {
      "text/plain": [
       "False"
      ]
     },
     "execution_count": 29,
     "metadata": {},
     "output_type": "execute_result"
    }
   ],
   "source": [
    "5 >= 7"
   ]
  },
  {
   "cell_type": "markdown",
   "id": "c63a78bf",
   "metadata": {},
   "source": [
    "# < Operator"
   ]
  },
  {
   "cell_type": "code",
   "execution_count": 31,
   "id": "f904ea4e",
   "metadata": {},
   "outputs": [
    {
     "data": {
      "text/plain": [
       "False"
      ]
     },
     "execution_count": 31,
     "metadata": {},
     "output_type": "execute_result"
    }
   ],
   "source": [
    "5 < 4"
   ]
  },
  {
   "cell_type": "code",
   "execution_count": 32,
   "id": "3384d8d6",
   "metadata": {},
   "outputs": [
    {
     "data": {
      "text/plain": [
       "False"
      ]
     },
     "execution_count": 32,
     "metadata": {},
     "output_type": "execute_result"
    }
   ],
   "source": [
    "5 < 5"
   ]
  },
  {
   "cell_type": "markdown",
   "id": "f7fc4522",
   "metadata": {},
   "source": [
    "# <= Operator"
   ]
  },
  {
   "cell_type": "code",
   "execution_count": 33,
   "id": "7f12d6cd",
   "metadata": {},
   "outputs": [
    {
     "data": {
      "text/plain": [
       "False"
      ]
     },
     "execution_count": 33,
     "metadata": {},
     "output_type": "execute_result"
    }
   ],
   "source": [
    "5 <= 4"
   ]
  },
  {
   "cell_type": "code",
   "execution_count": 34,
   "id": "86d51b05",
   "metadata": {},
   "outputs": [
    {
     "data": {
      "text/plain": [
       "True"
      ]
     },
     "execution_count": 34,
     "metadata": {},
     "output_type": "execute_result"
    }
   ],
   "source": [
    "5 <= 5"
   ]
  },
  {
   "cell_type": "code",
   "execution_count": 35,
   "id": "edc710e9",
   "metadata": {},
   "outputs": [],
   "source": [
    "i = 10\n",
    "j = 20\n"
   ]
  },
  {
   "cell_type": "code",
   "execution_count": 36,
   "id": "098e2597",
   "metadata": {},
   "outputs": [
    {
     "data": {
      "text/plain": [
       "True"
      ]
     },
     "execution_count": 36,
     "metadata": {},
     "output_type": "execute_result"
    }
   ],
   "source": [
    "i <= j"
   ]
  },
  {
   "cell_type": "code",
   "execution_count": 37,
   "id": "e2ac1d85",
   "metadata": {},
   "outputs": [],
   "source": [
    "j = 10"
   ]
  },
  {
   "cell_type": "code",
   "execution_count": 38,
   "id": "5a11eea9",
   "metadata": {},
   "outputs": [
    {
     "data": {
      "text/plain": [
       "True"
      ]
     },
     "execution_count": 38,
     "metadata": {},
     "output_type": "execute_result"
    }
   ],
   "source": [
    "i <= j"
   ]
  },
  {
   "cell_type": "code",
   "execution_count": 39,
   "id": "52468bef",
   "metadata": {},
   "outputs": [
    {
     "data": {
      "text/plain": [
       "True"
      ]
     },
     "execution_count": 39,
     "metadata": {},
     "output_type": "execute_result"
    }
   ],
   "source": [
    "5.3 <= 5.4"
   ]
  },
  {
   "cell_type": "code",
   "execution_count": 40,
   "id": "73a538ba",
   "metadata": {},
   "outputs": [
    {
     "data": {
      "text/plain": [
       "False"
      ]
     },
     "execution_count": 40,
     "metadata": {},
     "output_type": "execute_result"
    }
   ],
   "source": [
    "5.4 <= 5.3"
   ]
  },
  {
   "cell_type": "markdown",
   "id": "2273f606",
   "metadata": {},
   "source": [
    "# List\n",
    " * Elimizdeki verileri gruplamak bir yapı altında tutmak isteyebiliriz.\n",
    " * Mesela bir sınıftaki öğrencilerin notlarını tutmak istiyorum. 5 farklı öğrenci var, şimdiye kadar öğrendiklerimizle şöyle yapabilirdim:"
   ]
  },
  {
   "cell_type": "code",
   "execution_count": 41,
   "id": "77bcec64",
   "metadata": {},
   "outputs": [],
   "source": [
    "ogrenci_1 = 78\n",
    "ogrenci_2 = 80\n",
    "ogrenci_3 = 43\n",
    "ogrenci_4 = 65\n",
    "ogrenci_5 = 90"
   ]
  },
  {
   "cell_type": "markdown",
   "id": "1c4337d3",
   "metadata": {},
   "source": [
    "\n",
    " * Bunların hepsi bir sınıftaki notları ifade ediyor. Bunları bir veri tipi olarak bir arada tutsak daha mantıklı olmaz mı?\n",
    "\n",
    " * list veri tipi de tam burada devreye giriyor. Birden çok veriyi gruplayıp bir arada tutmak istediğimizde kullanabileceğimiz bir yapıdır.\n",
    "\n",
    " * listler belirtirken köşeli parantezle belirtiyoruz: [element1, element2,...].\n",
    "\n",
    " * listler içsel yapı içerdikleri için non-scalar veri tipidir.\n",
    "\n",
    " * Elemanları arasına virgül koyarak farklı eleman belirtmeye başladığımı ifade ediyorum.\n"
   ]
  },
  {
   "cell_type": "code",
   "execution_count": 42,
   "id": "5a962fb2",
   "metadata": {},
   "outputs": [],
   "source": [
    "notlar = [78, 80, 43, 65, 90]"
   ]
  },
  {
   "cell_type": "code",
   "execution_count": 44,
   "id": "4849bfd4",
   "metadata": {},
   "outputs": [
    {
     "data": {
      "text/plain": [
       "80"
      ]
     },
     "execution_count": 44,
     "metadata": {},
     "output_type": "execute_result"
    }
   ],
   "source": [
    "notlar[1]"
   ]
  },
  {
   "cell_type": "code",
   "execution_count": null,
   "id": "1b84e42e",
   "metadata": {},
   "outputs": [],
   "source": [
    "# bunun aynısını şu şekilde de tutabilirdik:"
   ]
  },
  {
   "cell_type": "code",
   "execution_count": 43,
   "id": "191c7b12",
   "metadata": {},
   "outputs": [],
   "source": [
    "notlar = [ogrenci_1, ogrenci_2, ogrenci_3, ogrenci_4, ogrenci_5]"
   ]
  },
  {
   "cell_type": "markdown",
   "id": "05cf6257",
   "metadata": {},
   "source": [
    " * Bu oluşturduğumuz yapının ilk elemanı ilk öğrencinin notu, ikinci elemanı ikinci öğrencinin notunu belirtiyor (bu mantık böyle devam ediyor). Böylece öğrencilerin notlarını farklı 5 değişkende tutmak yerine bir veri tipi altında düzenli tutabilmiş olduk.\n",
    " \n",
    " * Nasıl ki stringlerde elemanlarına indexleme yaparak [0] gibi değerlerle ulaşabiliyorsak, listlerde de aynı durum söz konusu.\n",
    " \n",
    " * notlar listesinin ilk elemanına ulaşmak için:\n"
   ]
  },
  {
   "cell_type": "code",
   "execution_count": 45,
   "id": "24a4971e",
   "metadata": {},
   "outputs": [
    {
     "data": {
      "text/plain": [
       "78"
      ]
     },
     "execution_count": 45,
     "metadata": {},
     "output_type": "execute_result"
    }
   ],
   "source": [
    "# ogrenci_1 in notu\n",
    "notlar[0]"
   ]
  },
  {
   "cell_type": "markdown",
   "id": "a1c8e11f",
   "metadata": {},
   "source": [
    " * list'lerin içine istediğimiz veri tipini koyabiliriz. listeleri sadece verilerimi içine koyduğumuz bir kutu olarak düşünün, listlerin tek yaptığı şey bunları bir arada tutmak. Elemanları istediğim veri objesi olabilir. int, float, string, hatta listler bile!\n"
   ]
  },
  {
   "cell_type": "code",
   "execution_count": 46,
   "id": "5e543352",
   "metadata": {},
   "outputs": [
    {
     "data": {
      "text/plain": [
       "['a', 'b']"
      ]
     },
     "execution_count": 46,
     "metadata": {},
     "output_type": "execute_result"
    }
   ],
   "source": [
    "[\"a\",\"b\"]"
   ]
  },
  {
   "cell_type": "code",
   "execution_count": 47,
   "id": "d9c6d657",
   "metadata": {},
   "outputs": [
    {
     "data": {
      "text/plain": [
       "[True, False]"
      ]
     },
     "execution_count": 47,
     "metadata": {},
     "output_type": "execute_result"
    }
   ],
   "source": [
    "[True, False]"
   ]
  },
  {
   "cell_type": "code",
   "execution_count": 48,
   "id": "3f7c8ecf",
   "metadata": {
    "scrolled": true
   },
   "outputs": [
    {
     "data": {
      "text/plain": [
       "[[1, 2], [3, 4, 5]]"
      ]
     },
     "execution_count": 48,
     "metadata": {},
     "output_type": "execute_result"
    }
   ],
   "source": [
    "[[1,2], [3,4,5]]"
   ]
  },
  {
   "cell_type": "markdown",
   "id": "9efa3b25",
   "metadata": {},
   "source": [
    "# Listler Farklı Veri Tiplerini İçerebilir\n",
    " * Aynı list'in içine farklı tipte veri tipleri koyabiliriz."
   ]
  },
  {
   "cell_type": "code",
   "execution_count": 51,
   "id": "e55851a1",
   "metadata": {},
   "outputs": [],
   "source": [
    "l = [1, 2, \"a\", \"b\", True, 4.5, [1,2,3]]"
   ]
  },
  {
   "cell_type": "code",
   "execution_count": 50,
   "id": "e26a52f4",
   "metadata": {},
   "outputs": [
    {
     "data": {
      "text/plain": [
       "1"
      ]
     },
     "execution_count": 50,
     "metadata": {},
     "output_type": "execute_result"
    }
   ],
   "source": [
    "1"
   ]
  },
  {
   "cell_type": "markdown",
   "id": "1166e00f",
   "metadata": {},
   "source": [
    "# Indexing ve Slicing\n",
    " * String konusunda yaptığımız indexleme mantığı ve slicing mantığı tamamen listler için de geçerli."
   ]
  },
  {
   "cell_type": "code",
   "execution_count": 52,
   "id": "baa1fe81",
   "metadata": {},
   "outputs": [
    {
     "data": {
      "text/plain": [
       "[78, 80, 43, 65, 90]"
      ]
     },
     "execution_count": 52,
     "metadata": {},
     "output_type": "execute_result"
    }
   ],
   "source": [
    "notlar"
   ]
  },
  {
   "cell_type": "code",
   "execution_count": 61,
   "id": "6607d261",
   "metadata": {},
   "outputs": [
    {
     "data": {
      "text/plain": [
       "78"
      ]
     },
     "execution_count": 61,
     "metadata": {},
     "output_type": "execute_result"
    }
   ],
   "source": [
    "notlar[0]"
   ]
  },
  {
   "cell_type": "code",
   "execution_count": 60,
   "id": "269d474e",
   "metadata": {},
   "outputs": [
    {
     "data": {
      "text/plain": [
       "90"
      ]
     },
     "execution_count": 60,
     "metadata": {},
     "output_type": "execute_result"
    }
   ],
   "source": [
    "notlar[-1]"
   ]
  },
  {
   "cell_type": "code",
   "execution_count": 65,
   "id": "b9bf1534",
   "metadata": {},
   "outputs": [
    {
     "ename": "IndexError",
     "evalue": "list index out of range",
     "output_type": "error",
     "traceback": [
      "\u001b[1;31m---------------------------------------------------------------------------\u001b[0m",
      "\u001b[1;31mIndexError\u001b[0m                                Traceback (most recent call last)",
      "Input \u001b[1;32mIn [65]\u001b[0m, in \u001b[0;36m<cell line: 1>\u001b[1;34m()\u001b[0m\n\u001b[1;32m----> 1\u001b[0m \u001b[43mnotlar\u001b[49m\u001b[43m[\u001b[49m\u001b[38;5;241;43m10\u001b[39;49m\u001b[43m]\u001b[49m\n",
      "\u001b[1;31mIndexError\u001b[0m: list index out of range"
     ]
    }
   ],
   "source": [
    "notlar[10]"
   ]
  },
  {
   "cell_type": "code",
   "execution_count": 58,
   "id": "957110b3",
   "metadata": {},
   "outputs": [
    {
     "data": {
      "text/plain": [
       "[80, 43, 65, 90]"
      ]
     },
     "execution_count": 58,
     "metadata": {},
     "output_type": "execute_result"
    }
   ],
   "source": [
    "notlar[1:]"
   ]
  },
  {
   "cell_type": "code",
   "execution_count": 62,
   "id": "0f663036",
   "metadata": {},
   "outputs": [
    {
     "data": {
      "text/plain": [
       "[80, 43]"
      ]
     },
     "execution_count": 62,
     "metadata": {},
     "output_type": "execute_result"
    }
   ],
   "source": [
    "notlar[1:3]"
   ]
  },
  {
   "cell_type": "code",
   "execution_count": 63,
   "id": "52feb8ba",
   "metadata": {},
   "outputs": [
    {
     "data": {
      "text/plain": [
       "[78, 80, 43, 65, 90]"
      ]
     },
     "execution_count": 63,
     "metadata": {},
     "output_type": "execute_result"
    }
   ],
   "source": [
    "notlar[:200]"
   ]
  },
  {
   "cell_type": "code",
   "execution_count": 64,
   "id": "e7f0a44d",
   "metadata": {},
   "outputs": [
    {
     "data": {
      "text/plain": [
       "[78, 80, 43, 65, 90]"
      ]
     },
     "execution_count": 64,
     "metadata": {},
     "output_type": "execute_result"
    }
   ],
   "source": [
    "notlar[:3000]"
   ]
  },
  {
   "cell_type": "markdown",
   "id": "7cab8f3b",
   "metadata": {},
   "source": [
    "# Listlerin Elemanları Değiştirilebilir\n",
    " * Listler mutable veri tipleridir. Elemanlarını güncelleyebiliriz."
   ]
  },
  {
   "cell_type": "code",
   "execution_count": 4,
   "id": "117e51d6",
   "metadata": {},
   "outputs": [],
   "source": [
    "notlar = [78, 80, 43, 65, 90]"
   ]
  },
  {
   "cell_type": "code",
   "execution_count": 5,
   "id": "89076a13",
   "metadata": {},
   "outputs": [
    {
     "data": {
      "text/plain": [
       "[78, 80, 43, 65, 90]"
      ]
     },
     "execution_count": 5,
     "metadata": {},
     "output_type": "execute_result"
    }
   ],
   "source": [
    "notlar"
   ]
  },
  {
   "cell_type": "markdown",
   "id": "5098b33c",
   "metadata": {},
   "source": [
    " * Diyelim ki ikinci öğrencinin notunu eksik okuduk. 5 puan yükseltmek istiyoruz:"
   ]
  },
  {
   "cell_type": "code",
   "execution_count": null,
   "id": "25239699",
   "metadata": {},
   "outputs": [],
   "source": [
    "notlar[1] += 5 # notlar[1] = notlar[1] + 5 // 1.indexteki notu 5 arttırarak ver"
   ]
  },
  {
   "cell_type": "code",
   "execution_count": 11,
   "id": "bac9e851",
   "metadata": {},
   "outputs": [
    {
     "data": {
      "text/plain": [
       "[78, 95, 43, 65, 90]"
      ]
     },
     "execution_count": 11,
     "metadata": {},
     "output_type": "execute_result"
    }
   ],
   "source": [
    "notlar"
   ]
  },
  {
   "cell_type": "markdown",
   "id": "cb58f828",
   "metadata": {},
   "source": [
    " * Birden çok elemanı da değiştirebiliriz."
   ]
  },
  {
   "cell_type": "code",
   "execution_count": 13,
   "id": "e71050ef",
   "metadata": {},
   "outputs": [],
   "source": [
    "l = [1, 2, 3, 4]"
   ]
  },
  {
   "cell_type": "code",
   "execution_count": 14,
   "id": "5b6bd10e",
   "metadata": {},
   "outputs": [
    {
     "data": {
      "text/plain": [
       "[1, 2, 3]"
      ]
     },
     "execution_count": 14,
     "metadata": {},
     "output_type": "execute_result"
    }
   ],
   "source": [
    "l [0:3]"
   ]
  },
  {
   "cell_type": "code",
   "execution_count": 16,
   "id": "9bf0e27e",
   "metadata": {},
   "outputs": [],
   "source": [
    "l[0:3] = 30, 40, 60"
   ]
  },
  {
   "cell_type": "code",
   "execution_count": 17,
   "id": "0d625e19",
   "metadata": {},
   "outputs": [
    {
     "data": {
      "text/plain": [
       "[30, 40, 60, 4]"
      ]
     },
     "execution_count": 17,
     "metadata": {},
     "output_type": "execute_result"
    }
   ],
   "source": [
    "l"
   ]
  },
  {
   "cell_type": "markdown",
   "id": "a4d95530",
   "metadata": {},
   "source": [
    " * Eşit sayıda vermemiz de gerekmez, l[0:3] olacak yere sadece solda yazdığımız yazılır.\n"
   ]
  },
  {
   "cell_type": "code",
   "execution_count": 18,
   "id": "a483ff2c",
   "metadata": {},
   "outputs": [],
   "source": [
    "l[0:3] = 30, 40"
   ]
  },
  {
   "cell_type": "code",
   "execution_count": 19,
   "id": "9401c616",
   "metadata": {},
   "outputs": [
    {
     "data": {
      "text/plain": [
       "[30, 40, 4]"
      ]
     },
     "execution_count": 19,
     "metadata": {},
     "output_type": "execute_result"
    }
   ],
   "source": [
    "l"
   ]
  },
  {
   "cell_type": "code",
   "execution_count": null,
   "id": "347491fd",
   "metadata": {},
   "outputs": [],
   "source": [
    "l = [1, 2, 3, 4]"
   ]
  },
  {
   "cell_type": "code",
   "execution_count": 24,
   "id": "2a6f761b",
   "metadata": {},
   "outputs": [
    {
     "ename": "TypeError",
     "evalue": "can only assign an iterable",
     "output_type": "error",
     "traceback": [
      "\u001b[1;31m---------------------------------------------------------------------------\u001b[0m",
      "\u001b[1;31mTypeError\u001b[0m                                 Traceback (most recent call last)",
      "Input \u001b[1;32mIn [24]\u001b[0m, in \u001b[0;36m<cell line: 1>\u001b[1;34m()\u001b[0m\n\u001b[1;32m----> 1\u001b[0m l[\u001b[38;5;241m0\u001b[39m:\u001b[38;5;241m3\u001b[39m] \u001b[38;5;241m=\u001b[39m \u001b[38;5;241m30\u001b[39m\n",
      "\u001b[1;31mTypeError\u001b[0m: can only assign an iterable"
     ]
    }
   ],
   "source": [
    "l[0:3] = 30"
   ]
  },
  {
   "cell_type": "markdown",
   "id": "7b82f8ff",
   "metadata": {},
   "source": [
    " * Slicing'in sonucuna tek bir değer yazacaksak bile direkt tek olarak veremeyiz, iterable olması gerekir. Bunun ayrıntısını ileride göreceğiz şimdilik sol tarafı list olarak verebileceğimizi bilmeniz yeterli."
   ]
  },
  {
   "cell_type": "code",
   "execution_count": 25,
   "id": "b5b53e69",
   "metadata": {},
   "outputs": [],
   "source": [
    "l[0:3] = [30]"
   ]
  },
  {
   "cell_type": "code",
   "execution_count": 22,
   "id": "a02d2194",
   "metadata": {},
   "outputs": [
    {
     "data": {
      "text/plain": [
       "[30]"
      ]
     },
     "execution_count": 22,
     "metadata": {},
     "output_type": "execute_result"
    }
   ],
   "source": [
    "l"
   ]
  },
  {
   "cell_type": "markdown",
   "id": "3b0e6002",
   "metadata": {},
   "source": [
    "#  len()\n",
    " * Bize list'te kaç eleman olduğunu verir."
   ]
  },
  {
   "cell_type": "code",
   "execution_count": 23,
   "id": "5b09c834",
   "metadata": {},
   "outputs": [
    {
     "data": {
      "text/plain": [
       "[30]"
      ]
     },
     "execution_count": 23,
     "metadata": {},
     "output_type": "execute_result"
    }
   ],
   "source": [
    "l"
   ]
  },
  {
   "cell_type": "code",
   "execution_count": 27,
   "id": "53db769f",
   "metadata": {},
   "outputs": [
    {
     "data": {
      "text/plain": [
       "1"
      ]
     },
     "execution_count": 27,
     "metadata": {},
     "output_type": "execute_result"
    }
   ],
   "source": [
    "len(l)"
   ]
  },
  {
   "cell_type": "markdown",
   "id": "3e8e2318",
   "metadata": {},
   "source": [
    "# Listin Sonuna Eleman Eklemek\n",
    " --append()\n",
    "   * İçine yazılan elemanı listenin sonuna ekler."
   ]
  },
  {
   "cell_type": "code",
   "execution_count": null,
   "id": "63a9ab6c",
   "metadata": {},
   "outputs": [],
   "source": [
    "l = [1,2,3]"
   ]
  },
  {
   "cell_type": "code",
   "execution_count": 28,
   "id": "f597166b",
   "metadata": {},
   "outputs": [],
   "source": [
    "l.append(200)"
   ]
  },
  {
   "cell_type": "code",
   "execution_count": 29,
   "id": "0ece52ab",
   "metadata": {},
   "outputs": [
    {
     "data": {
      "text/plain": [
       "[30, 200]"
      ]
     },
     "execution_count": 29,
     "metadata": {},
     "output_type": "execute_result"
    }
   ],
   "source": [
    "l"
   ]
  },
  {
   "cell_type": "markdown",
   "id": "75b4cea9",
   "metadata": {},
   "source": [
    " --extend()\n",
    "   * İçine yazılan birden çok elemanı listenin sonuna ekler.\n"
   ]
  },
  {
   "cell_type": "code",
   "execution_count": 33,
   "id": "b33c3bb3",
   "metadata": {},
   "outputs": [],
   "source": [
    "l = [1,2,3]"
   ]
  },
  {
   "cell_type": "code",
   "execution_count": 34,
   "id": "08edc5e2",
   "metadata": {},
   "outputs": [],
   "source": [
    "l.extend([100,200,300])"
   ]
  },
  {
   "cell_type": "code",
   "execution_count": 35,
   "id": "83646060",
   "metadata": {},
   "outputs": [
    {
     "data": {
      "text/plain": [
       "[1, 2, 3, 100, 200, 300]"
      ]
     },
     "execution_count": 35,
     "metadata": {},
     "output_type": "execute_result"
    }
   ],
   "source": [
    "l"
   ]
  },
  {
   "cell_type": "markdown",
   "id": "5638c5e8",
   "metadata": {},
   "source": [
    "# Spesifik Bir Indexe Eleman Eklemek\n",
    " * Belki list'in sonuna değil, spesifik bir indexine eleman eklemek istiyoruz. Bunu \"insert()\" ile yapabiliriz."
   ]
  },
  {
   "cell_type": "code",
   "execution_count": 36,
   "id": "af3592f7",
   "metadata": {},
   "outputs": [],
   "source": [
    "l = [1, 2, 3, 4, 5]"
   ]
  },
  {
   "cell_type": "code",
   "execution_count": 37,
   "id": "cca8463e",
   "metadata": {},
   "outputs": [],
   "source": [
    "l[0] = 100"
   ]
  },
  {
   "cell_type": "code",
   "execution_count": 38,
   "id": "9467658d",
   "metadata": {},
   "outputs": [
    {
     "data": {
      "text/plain": [
       "[100, 2, 3, 4, 5]"
      ]
     },
     "execution_count": 38,
     "metadata": {},
     "output_type": "execute_result"
    }
   ],
   "source": [
    "l"
   ]
  },
  {
   "cell_type": "code",
   "execution_count": 40,
   "id": "f98315a4",
   "metadata": {},
   "outputs": [],
   "source": [
    "l = [1, 2, 3, 4, 5]"
   ]
  },
  {
   "cell_type": "code",
   "execution_count": 41,
   "id": "22423456",
   "metadata": {},
   "outputs": [],
   "source": [
    "l.insert(0, 100) # is not l[0] = 100"
   ]
  },
  {
   "cell_type": "markdown",
   "id": "d64cedca",
   "metadata": {},
   "source": [
    " * eğer l[0] = 100 yazmış olsaydık, liste 100,2,3,4,5 e dönerdi, ama ben 1->100 dönüşümü yapmak istemiyorum, ilk indexe 100'ü eklemek istiyorum. l.insert(0,100) tam da istediğimi yapıyor. 0. indexe 100 değerini yazıyor ve 1 değerini sağa kaydırıyor, listeden silmemiş oluyor."
   ]
  },
  {
   "cell_type": "code",
   "execution_count": 42,
   "id": "a3beb9df",
   "metadata": {},
   "outputs": [
    {
     "data": {
      "text/plain": [
       "[100, 1, 2, 3, 4, 5]"
      ]
     },
     "execution_count": 42,
     "metadata": {},
     "output_type": "execute_result"
    }
   ],
   "source": [
    "l"
   ]
  },
  {
   "cell_type": "code",
   "execution_count": 43,
   "id": "3826a9e2",
   "metadata": {},
   "outputs": [],
   "source": [
    "l.insert(3,44)"
   ]
  },
  {
   "cell_type": "code",
   "execution_count": 44,
   "id": "fe6689e2",
   "metadata": {},
   "outputs": [
    {
     "data": {
      "text/plain": [
       "[100, 1, 2, 44, 3, 4, 5]"
      ]
     },
     "execution_count": 44,
     "metadata": {},
     "output_type": "execute_result"
    }
   ],
   "source": [
    "l"
   ]
  },
  {
   "cell_type": "markdown",
   "id": "2da58449",
   "metadata": {},
   "source": [
    " # remove()\n",
    " * Belirli bir elemanı listeden silmemize yarar. Eğer yazılan eleman listede yoksa error verir."
   ]
  },
  {
   "cell_type": "code",
   "execution_count": 45,
   "id": "e2aed478",
   "metadata": {},
   "outputs": [],
   "source": [
    "l = [1,2,3,4]"
   ]
  },
  {
   "cell_type": "code",
   "execution_count": 46,
   "id": "5a226a74",
   "metadata": {
    "scrolled": true
   },
   "outputs": [
    {
     "ename": "ValueError",
     "evalue": "list.remove(x): x not in list",
     "output_type": "error",
     "traceback": [
      "\u001b[1;31m---------------------------------------------------------------------------\u001b[0m",
      "\u001b[1;31mValueError\u001b[0m                                Traceback (most recent call last)",
      "Input \u001b[1;32mIn [46]\u001b[0m, in \u001b[0;36m<cell line: 1>\u001b[1;34m()\u001b[0m\n\u001b[1;32m----> 1\u001b[0m \u001b[43ml\u001b[49m\u001b[38;5;241;43m.\u001b[39;49m\u001b[43mremove\u001b[49m\u001b[43m(\u001b[49m\u001b[38;5;241;43m40\u001b[39;49m\u001b[43m)\u001b[49m\n",
      "\u001b[1;31mValueError\u001b[0m: list.remove(x): x not in list"
     ]
    }
   ],
   "source": [
    "l.remove(40)"
   ]
  },
  {
   "cell_type": "markdown",
   "id": "c7a57620",
   "metadata": {},
   "source": [
    " * Bunu try-except ile çözebiliriz ama daha o konuyu görmedik. Yine de aşağıya kodu ekliyorum.\n",
    "\n",
    "\n",
    "\n",
    "      try:\n",
    "           l.remove(40)\n",
    "      except ValueError:\n",
    "           pass\n",
    "    \n",
    "\n",
    "\n",
    " * remove() sadece ilk gördüğü değeri siler. l.remove(40) dersem ve listede 1'den çok 40 varsa ilk gördüğünü siler.\n"
   ]
  },
  {
   "cell_type": "code",
   "execution_count": 47,
   "id": "fb1edf4b",
   "metadata": {},
   "outputs": [],
   "source": [
    "l = [1,2,3,40,30,40]"
   ]
  },
  {
   "cell_type": "code",
   "execution_count": 48,
   "id": "4f4ae839",
   "metadata": {},
   "outputs": [],
   "source": [
    "l.remove(40)"
   ]
  },
  {
   "cell_type": "code",
   "execution_count": 49,
   "id": "939ece44",
   "metadata": {
    "scrolled": true
   },
   "outputs": [
    {
     "data": {
      "text/plain": [
       "[1, 2, 3, 30, 40]"
      ]
     },
     "execution_count": 49,
     "metadata": {},
     "output_type": "execute_result"
    }
   ],
   "source": [
    "l"
   ]
  },
  {
   "cell_type": "markdown",
   "id": "98c9dc43",
   "metadata": {},
   "source": [
    "# pop()\n",
    " * listenin belirli indexindeki elemanı silmeye ve o değeri döndürmeye yarar.\n",
    "\n",
    "\n",
    " * remove() sadece siliyordu, pop() aynı zamanda o değeri döndürüyor.\n",
    "\n"
   ]
  },
  {
   "cell_type": "code",
   "execution_count": 50,
   "id": "59c12269",
   "metadata": {},
   "outputs": [],
   "source": [
    "l = [1,2,3,4,5,6]"
   ]
  },
  {
   "cell_type": "code",
   "execution_count": 51,
   "id": "a3216439",
   "metadata": {},
   "outputs": [
    {
     "data": {
      "text/plain": [
       "2"
      ]
     },
     "execution_count": 51,
     "metadata": {},
     "output_type": "execute_result"
    }
   ],
   "source": [
    "# It deletes and return the value, remove() just removes it\n",
    "l.pop(1)"
   ]
  },
  {
   "cell_type": "code",
   "execution_count": 52,
   "id": "c31b6f78",
   "metadata": {},
   "outputs": [
    {
     "data": {
      "text/plain": [
       "[1, 3, 4, 5, 6]"
      ]
     },
     "execution_count": 52,
     "metadata": {},
     "output_type": "execute_result"
    }
   ],
   "source": [
    "l"
   ]
  },
  {
   "cell_type": "code",
   "execution_count": 53,
   "id": "13ec4fb0",
   "metadata": {},
   "outputs": [],
   "source": [
    "l = [1,2,3,4,5,6]"
   ]
  },
  {
   "cell_type": "code",
   "execution_count": 54,
   "id": "d76c8caf",
   "metadata": {},
   "outputs": [
    {
     "data": {
      "text/plain": [
       "6"
      ]
     },
     "execution_count": 54,
     "metadata": {},
     "output_type": "execute_result"
    }
   ],
   "source": [
    "l.pop(1) + 4"
   ]
  },
  {
   "cell_type": "code",
   "execution_count": 55,
   "id": "1ec4e1d9",
   "metadata": {
    "collapsed": true
   },
   "outputs": [
    {
     "ename": "IndexError",
     "evalue": "pop index out of range",
     "output_type": "error",
     "traceback": [
      "\u001b[1;31m---------------------------------------------------------------------------\u001b[0m",
      "\u001b[1;31mIndexError\u001b[0m                                Traceback (most recent call last)",
      "Input \u001b[1;32mIn [55]\u001b[0m, in \u001b[0;36m<cell line: 2>\u001b[1;34m()\u001b[0m\n\u001b[0;32m      1\u001b[0m \u001b[38;5;66;03m# out of range error\u001b[39;00m\n\u001b[1;32m----> 2\u001b[0m \u001b[43ml\u001b[49m\u001b[38;5;241;43m.\u001b[39;49m\u001b[43mpop\u001b[49m\u001b[43m(\u001b[49m\u001b[38;5;241;43m100\u001b[39;49m\u001b[43m)\u001b[49m\n",
      "\u001b[1;31mIndexError\u001b[0m: pop index out of range"
     ]
    }
   ],
   "source": [
    "# out of range error\n",
    "l.pop(100)"
   ]
  },
  {
   "cell_type": "markdown",
   "id": "43bd0379",
   "metadata": {},
   "source": [
    "# count()\n",
    " * count()'un içine yazdığımız değerin listede kaç defa göründüğünü döndürür.\n"
   ]
  },
  {
   "cell_type": "code",
   "execution_count": 56,
   "id": "ce460277",
   "metadata": {},
   "outputs": [],
   "source": [
    "l = [1, 2, 44, 4, 5, 1]"
   ]
  },
  {
   "cell_type": "code",
   "execution_count": 57,
   "id": "518d8c31",
   "metadata": {},
   "outputs": [
    {
     "data": {
      "text/plain": [
       "2"
      ]
     },
     "execution_count": 57,
     "metadata": {},
     "output_type": "execute_result"
    }
   ],
   "source": [
    "l.count(1)"
   ]
  },
  {
   "cell_type": "code",
   "execution_count": 58,
   "id": "d3758a1c",
   "metadata": {},
   "outputs": [
    {
     "data": {
      "text/plain": [
       "1"
      ]
     },
     "execution_count": 58,
     "metadata": {},
     "output_type": "execute_result"
    }
   ],
   "source": [
    "l.count(44)"
   ]
  },
  {
   "cell_type": "code",
   "execution_count": 59,
   "id": "db23cf54",
   "metadata": {},
   "outputs": [
    {
     "data": {
      "text/plain": [
       "0"
      ]
     },
     "execution_count": 59,
     "metadata": {},
     "output_type": "execute_result"
    }
   ],
   "source": [
    "l.count(1000)"
   ]
  },
  {
   "cell_type": "markdown",
   "id": "55b720ae",
   "metadata": {},
   "source": [
    "# Aliasing\n",
    " * Evet. Geldik olayların ilginç bir hal aldığı yere.\n",
    "\n",
    "\n",
    " * Listeler bilgisayarın hafızasında integer, float gibi veri tiplerinin tutulduğundan biraz daha farklı tutuluyor.\n",
    "\n",
    "\n",
    " * a = 2 dediğimiz zaman hafızada a adında bir kutucuk oluşturuluyor demiştik.\n",
    "\n",
    "\n",
    " * a = 2\n",
    "\n",
    "\n",
    " * a direkt o kutunun adı oluyor.\n",
    "\n",
    "\n",
    " * Ama listelerde durum böyle değil. l = [1,2,3] gibi bir liste yarattığımızda, l kutunun adı değil, kutuyu işaret eden etiketin adı oluyor.\n",
    "\n",
    "\n",
    " * l = [1,2,3]\n",
    "\n",
    "\n",
    " * Bu farkın getirdiği bazı yan etkiler var.\n",
    "\n",
    "\n",
    " * Mesela kutunun adı direkt değişken adı olduğunda ve aşağıdaki işlemi yaptığımızda:\n"
   ]
  },
  {
   "cell_type": "code",
   "execution_count": 60,
   "id": "f4b34007",
   "metadata": {},
   "outputs": [],
   "source": [
    "a = 2"
   ]
  },
  {
   "cell_type": "code",
   "execution_count": 62,
   "id": "ba7ce059",
   "metadata": {},
   "outputs": [],
   "source": [
    "b = a"
   ]
  },
  {
   "cell_type": "code",
   "execution_count": 63,
   "id": "1579e605",
   "metadata": {},
   "outputs": [
    {
     "data": {
      "text/plain": [
       "2"
      ]
     },
     "execution_count": 63,
     "metadata": {},
     "output_type": "execute_result"
    }
   ],
   "source": [
    "b"
   ]
  },
  {
   "cell_type": "code",
   "execution_count": 65,
   "id": "d26c8ad1",
   "metadata": {},
   "outputs": [],
   "source": [
    "a = a + 1"
   ]
  },
  {
   "cell_type": "code",
   "execution_count": 66,
   "id": "e097a4b3",
   "metadata": {},
   "outputs": [
    {
     "data": {
      "text/plain": [
       "4"
      ]
     },
     "execution_count": 66,
     "metadata": {},
     "output_type": "execute_result"
    }
   ],
   "source": [
    "a"
   ]
  },
  {
   "cell_type": "code",
   "execution_count": 67,
   "id": "7389f388",
   "metadata": {},
   "outputs": [
    {
     "data": {
      "text/plain": [
       "2"
      ]
     },
     "execution_count": 67,
     "metadata": {},
     "output_type": "execute_result"
    }
   ],
   "source": [
    "b"
   ]
  },
  {
   "cell_type": "markdown",
   "id": "1f6be4ba",
   "metadata": {},
   "source": [
    " * a yı güncellesek de b güncellenmiyor. b sadece a kutusunun değerine eşit olmuş oldu, kutunun kendisine değil.\n",
    "\n",
    "\n",
    " * Aynısını listlerde yaptığımızda:\n",
    "\n"
   ]
  },
  {
   "cell_type": "code",
   "execution_count": 68,
   "id": "4e5a0434",
   "metadata": {},
   "outputs": [],
   "source": [
    "l = [1,2,3]"
   ]
  },
  {
   "cell_type": "code",
   "execution_count": 69,
   "id": "b10fb763",
   "metadata": {},
   "outputs": [],
   "source": [
    "l2 = l"
   ]
  },
  {
   "cell_type": "code",
   "execution_count": 70,
   "id": "84c5c1f2",
   "metadata": {},
   "outputs": [
    {
     "data": {
      "text/plain": [
       "[1, 2, 3]"
      ]
     },
     "execution_count": 70,
     "metadata": {},
     "output_type": "execute_result"
    }
   ],
   "source": [
    "l"
   ]
  },
  {
   "cell_type": "code",
   "execution_count": 71,
   "id": "c2eb65fe",
   "metadata": {},
   "outputs": [
    {
     "data": {
      "text/plain": [
       "[1, 2, 3]"
      ]
     },
     "execution_count": 71,
     "metadata": {},
     "output_type": "execute_result"
    }
   ],
   "source": [
    "l2"
   ]
  },
  {
   "cell_type": "code",
   "execution_count": 72,
   "id": "d69645ad",
   "metadata": {},
   "outputs": [],
   "source": [
    "l[0] = 200"
   ]
  },
  {
   "cell_type": "code",
   "execution_count": 73,
   "id": "34c57885",
   "metadata": {},
   "outputs": [
    {
     "data": {
      "text/plain": [
       "[200, 2, 3]"
      ]
     },
     "execution_count": 73,
     "metadata": {},
     "output_type": "execute_result"
    }
   ],
   "source": [
    "l"
   ]
  },
  {
   "cell_type": "code",
   "execution_count": 74,
   "id": "4bf486d9",
   "metadata": {},
   "outputs": [
    {
     "data": {
      "text/plain": [
       "[200, 2, 3]"
      ]
     },
     "execution_count": 74,
     "metadata": {},
     "output_type": "execute_result"
    }
   ],
   "source": [
    "l2"
   ]
  },
  {
   "cell_type": "markdown",
   "id": "d9d4e971",
   "metadata": {},
   "source": [
    " * l2 de güncellendi!\n",
    "\n",
    "\n",
    " * Çünkü l2 = l dediğimizde l2, l etiketinin değerine eşit oldu, iki etikette aynı kutuyu, veri objesini gösteriyor, o yüzden listeyi güncellemem ikisine de yansıyor.\n",
    "\n",
    "\n",
    " * Git aynı değerle başka bir kutucuk yarat ve oraya etiket ol diyerek güncellenmemesini sağlayabilirim.\n",
    "\n",
    "\n",
    " * Bunu copy() ile yapacağız.\n"
   ]
  },
  {
   "cell_type": "code",
   "execution_count": null,
   "id": "1dc35d4d",
   "metadata": {},
   "outputs": [],
   "source": [
    "l2 = l.copy()"
   ]
  },
  {
   "cell_type": "code",
   "execution_count": 75,
   "id": "df9a0431",
   "metadata": {},
   "outputs": [
    {
     "data": {
      "text/plain": [
       "[200, 2, 3]"
      ]
     },
     "execution_count": 75,
     "metadata": {},
     "output_type": "execute_result"
    }
   ],
   "source": [
    "l"
   ]
  },
  {
   "cell_type": "code",
   "execution_count": 76,
   "id": "49bc1d7a",
   "metadata": {},
   "outputs": [
    {
     "data": {
      "text/plain": [
       "[200, 2, 3]"
      ]
     },
     "execution_count": 76,
     "metadata": {},
     "output_type": "execute_result"
    }
   ],
   "source": [
    "l2"
   ]
  },
  {
   "cell_type": "code",
   "execution_count": 77,
   "id": "82b3ed94",
   "metadata": {},
   "outputs": [],
   "source": [
    "l[0] = 300"
   ]
  },
  {
   "cell_type": "code",
   "execution_count": 78,
   "id": "bcc7f7ec",
   "metadata": {},
   "outputs": [
    {
     "data": {
      "text/plain": [
       "[300, 2, 3]"
      ]
     },
     "execution_count": 78,
     "metadata": {},
     "output_type": "execute_result"
    }
   ],
   "source": [
    "l"
   ]
  },
  {
   "cell_type": "code",
   "execution_count": 79,
   "id": "fc8d6b0a",
   "metadata": {},
   "outputs": [
    {
     "data": {
      "text/plain": [
       "[300, 2, 3]"
      ]
     },
     "execution_count": 79,
     "metadata": {},
     "output_type": "execute_result"
    }
   ],
   "source": [
    "l2"
   ]
  },
  {
   "cell_type": "markdown",
   "id": "bd065e5d",
   "metadata": {},
   "source": [
    "#  Listlerde Concatenation\n",
    " * \"+\" operatörü listlerde concatenation yapar."
   ]
  },
  {
   "cell_type": "code",
   "execution_count": 80,
   "id": "378504f3",
   "metadata": {},
   "outputs": [],
   "source": [
    "l = [1,2,3]"
   ]
  },
  {
   "cell_type": "code",
   "execution_count": 82,
   "id": "8e6d8cd3",
   "metadata": {},
   "outputs": [],
   "source": [
    "l2 = [4,5,6]"
   ]
  },
  {
   "cell_type": "code",
   "execution_count": 83,
   "id": "1959beb0",
   "metadata": {},
   "outputs": [
    {
     "data": {
      "text/plain": [
       "[1, 2, 3]"
      ]
     },
     "execution_count": 83,
     "metadata": {},
     "output_type": "execute_result"
    }
   ],
   "source": [
    "l"
   ]
  },
  {
   "cell_type": "code",
   "execution_count": 84,
   "id": "4cef5dd1",
   "metadata": {},
   "outputs": [
    {
     "data": {
      "text/plain": [
       "[4, 5, 6]"
      ]
     },
     "execution_count": 84,
     "metadata": {},
     "output_type": "execute_result"
    }
   ],
   "source": [
    "l2"
   ]
  },
  {
   "cell_type": "code",
   "execution_count": 85,
   "id": "30804bc7",
   "metadata": {},
   "outputs": [
    {
     "data": {
      "text/plain": [
       "[1, 2, 3, 4, 5, 6]"
      ]
     },
     "execution_count": 85,
     "metadata": {},
     "output_type": "execute_result"
    }
   ],
   "source": [
    "l + l2"
   ]
  },
  {
   "cell_type": "code",
   "execution_count": 86,
   "id": "726d7507",
   "metadata": {},
   "outputs": [],
   "source": [
    "l3 = l + l2"
   ]
  },
  {
   "cell_type": "code",
   "execution_count": 87,
   "id": "ac107fe4",
   "metadata": {},
   "outputs": [
    {
     "data": {
      "text/plain": [
       "[1, 2, 3, 4, 5, 6]"
      ]
     },
     "execution_count": 87,
     "metadata": {},
     "output_type": "execute_result"
    }
   ],
   "source": [
    "l3"
   ]
  },
  {
   "cell_type": "markdown",
   "id": "638f3b8b",
   "metadata": {},
   "source": [
    "# Belirli Bir Elemanın Indexini Bulmak"
   ]
  },
  {
   "cell_type": "code",
   "execution_count": 88,
   "id": "c865cb68",
   "metadata": {},
   "outputs": [],
   "source": [
    "l = [1, 2, 3, 4, 3, 5, 6]"
   ]
  },
  {
   "cell_type": "code",
   "execution_count": 89,
   "id": "10a949a6",
   "metadata": {},
   "outputs": [
    {
     "data": {
      "text/plain": [
       "[1, 2, 3, 4, 3, 5, 6]"
      ]
     },
     "execution_count": 89,
     "metadata": {},
     "output_type": "execute_result"
    }
   ],
   "source": [
    "l"
   ]
  },
  {
   "cell_type": "code",
   "execution_count": 90,
   "id": "a6ef5cb8",
   "metadata": {},
   "outputs": [
    {
     "data": {
      "text/plain": [
       "2"
      ]
     },
     "execution_count": 90,
     "metadata": {},
     "output_type": "execute_result"
    }
   ],
   "source": [
    "# İlk hangi indexte görünüyorsa onun değerini döndürür.\n",
    "l.index(3)"
   ]
  },
  {
   "cell_type": "code",
   "execution_count": 91,
   "id": "989537aa",
   "metadata": {},
   "outputs": [
    {
     "data": {
      "text/plain": [
       "3"
      ]
     },
     "execution_count": 91,
     "metadata": {},
     "output_type": "execute_result"
    }
   ],
   "source": [
    "l.index(4)"
   ]
  },
  {
   "cell_type": "code",
   "execution_count": 92,
   "id": "033e7111",
   "metadata": {
    "collapsed": true
   },
   "outputs": [
    {
     "ename": "ValueError",
     "evalue": "100 is not in list",
     "output_type": "error",
     "traceback": [
      "\u001b[1;31m---------------------------------------------------------------------------\u001b[0m",
      "\u001b[1;31mValueError\u001b[0m                                Traceback (most recent call last)",
      "Input \u001b[1;32mIn [92]\u001b[0m, in \u001b[0;36m<cell line: 2>\u001b[1;34m()\u001b[0m\n\u001b[0;32m      1\u001b[0m \u001b[38;5;66;03m# listede olmayan değerler için error verir.\u001b[39;00m\n\u001b[1;32m----> 2\u001b[0m \u001b[43ml\u001b[49m\u001b[38;5;241;43m.\u001b[39;49m\u001b[43mindex\u001b[49m\u001b[43m(\u001b[49m\u001b[38;5;241;43m100\u001b[39;49m\u001b[43m)\u001b[49m\n",
      "\u001b[1;31mValueError\u001b[0m: 100 is not in list"
     ]
    }
   ],
   "source": [
    "# listede olmayan değerler için error verir.\n",
    "l.index(100)"
   ]
  },
  {
   "cell_type": "markdown",
   "id": "0ea6deef",
   "metadata": {},
   "source": [
    "# List'i Tersine Çevirmek"
   ]
  },
  {
   "cell_type": "code",
   "execution_count": 93,
   "id": "6ffd957e",
   "metadata": {},
   "outputs": [],
   "source": [
    "l = [1,2,3,4]"
   ]
  },
  {
   "cell_type": "code",
   "execution_count": 94,
   "id": "47cf0763",
   "metadata": {},
   "outputs": [],
   "source": [
    "l.reverse() # inplace: yani l'yi günceller."
   ]
  },
  {
   "cell_type": "code",
   "execution_count": 95,
   "id": "914eab98",
   "metadata": {},
   "outputs": [
    {
     "data": {
      "text/plain": [
       "[4, 3, 2, 1]"
      ]
     },
     "execution_count": 95,
     "metadata": {},
     "output_type": "execute_result"
    }
   ],
   "source": [
    "l"
   ]
  },
  {
   "cell_type": "code",
   "execution_count": 96,
   "id": "0ab2399e",
   "metadata": {},
   "outputs": [],
   "source": [
    "l = [1,2,3,4]"
   ]
  },
  {
   "cell_type": "markdown",
   "id": "58f9b0ee",
   "metadata": {},
   "source": [
    " * Aynısını slicing mantığı ile de yapabilirdik."
   ]
  },
  {
   "cell_type": "code",
   "execution_count": 97,
   "id": "3199461f",
   "metadata": {},
   "outputs": [
    {
     "data": {
      "text/plain": [
       "[4, 3, 2, 1]"
      ]
     },
     "execution_count": 97,
     "metadata": {},
     "output_type": "execute_result"
    }
   ],
   "source": [
    "l[::-1]"
   ]
  },
  {
   "cell_type": "code",
   "execution_count": 98,
   "id": "7918256d",
   "metadata": {},
   "outputs": [
    {
     "data": {
      "text/plain": [
       "[1, 2, 3, 4]"
      ]
     },
     "execution_count": 98,
     "metadata": {},
     "output_type": "execute_result"
    }
   ],
   "source": [
    "l"
   ]
  },
  {
   "cell_type": "code",
   "execution_count": 99,
   "id": "1b6730c4",
   "metadata": {},
   "outputs": [],
   "source": [
    "l3 = l[::-1]"
   ]
  },
  {
   "cell_type": "code",
   "execution_count": 100,
   "id": "b5824d56",
   "metadata": {},
   "outputs": [
    {
     "data": {
      "text/plain": [
       "[4, 3, 2, 1]"
      ]
     },
     "execution_count": 100,
     "metadata": {},
     "output_type": "execute_result"
    }
   ],
   "source": [
    "l3"
   ]
  },
  {
   "cell_type": "code",
   "execution_count": 101,
   "id": "c21f8097",
   "metadata": {},
   "outputs": [
    {
     "data": {
      "text/plain": [
       "[1, 2, 3, 4]"
      ]
     },
     "execution_count": 101,
     "metadata": {},
     "output_type": "execute_result"
    }
   ],
   "source": [
    "l"
   ]
  },
  {
   "cell_type": "markdown",
   "id": "563eccd1",
   "metadata": {},
   "source": [
    " * Orijinalini güncellemiyor, güncellemesi için variable assignment yapmamız lazım."
   ]
  },
  {
   "cell_type": "code",
   "execution_count": 102,
   "id": "ff149ea7",
   "metadata": {},
   "outputs": [],
   "source": [
    "l = l[::-1]"
   ]
  },
  {
   "cell_type": "code",
   "execution_count": 103,
   "id": "709f0874",
   "metadata": {},
   "outputs": [
    {
     "data": {
      "text/plain": [
       "[4, 3, 2, 1]"
      ]
     },
     "execution_count": 103,
     "metadata": {},
     "output_type": "execute_result"
    }
   ],
   "source": [
    "l"
   ]
  },
  {
   "cell_type": "markdown",
   "id": "6d12eeb8",
   "metadata": {},
   "source": [
    "# List'in Elemanlarını Sıralamak (sorting)\n",
    " * sorted() orijinal listeyi güncellemez.\n",
    "\n",
    " * sorted() ve .sort() a bakacağız. İkisi de default olarak küçükten büyüğe sıralar. Sayısal verilerde sayısal değerine göre, stringlerde alfabetik sıraya göre sıralar."
   ]
  },
  {
   "cell_type": "code",
   "execution_count": 105,
   "id": "252dac9a",
   "metadata": {},
   "outputs": [],
   "source": [
    "l = [\"b\",\"a\",\"c\"]"
   ]
  },
  {
   "cell_type": "code",
   "execution_count": 106,
   "id": "b169c66e",
   "metadata": {},
   "outputs": [
    {
     "data": {
      "text/plain": [
       "['a', 'b', 'c']"
      ]
     },
     "execution_count": 106,
     "metadata": {},
     "output_type": "execute_result"
    }
   ],
   "source": [
    "sorted(l)"
   ]
  },
  {
   "cell_type": "code",
   "execution_count": 107,
   "id": "3d582bc4",
   "metadata": {},
   "outputs": [
    {
     "data": {
      "text/plain": [
       "['b', 'a', 'c']"
      ]
     },
     "execution_count": 107,
     "metadata": {},
     "output_type": "execute_result"
    }
   ],
   "source": [
    "l"
   ]
  },
  {
   "cell_type": "code",
   "execution_count": 109,
   "id": "9f209ed9",
   "metadata": {},
   "outputs": [],
   "source": [
    "l3 = sorted(l)"
   ]
  },
  {
   "cell_type": "code",
   "execution_count": 110,
   "id": "dce1ba54",
   "metadata": {},
   "outputs": [
    {
     "data": {
      "text/plain": [
       "['a', 'b', 'c']"
      ]
     },
     "execution_count": 110,
     "metadata": {},
     "output_type": "execute_result"
    }
   ],
   "source": [
    "l3"
   ]
  },
  {
   "cell_type": "markdown",
   "id": "0fb85c7c",
   "metadata": {},
   "source": [
    " * \".sort()\" günceller"
   ]
  },
  {
   "cell_type": "code",
   "execution_count": 112,
   "id": "c6a26301",
   "metadata": {},
   "outputs": [],
   "source": [
    "l = [\"b\",\"a\",\"c\"]"
   ]
  },
  {
   "cell_type": "code",
   "execution_count": 113,
   "id": "2cc3f8f8",
   "metadata": {},
   "outputs": [],
   "source": [
    "l.sort() # inplace"
   ]
  },
  {
   "cell_type": "code",
   "execution_count": 114,
   "id": "ac8fb29e",
   "metadata": {},
   "outputs": [
    {
     "data": {
      "text/plain": [
       "['a', 'b', 'c']"
      ]
     },
     "execution_count": 114,
     "metadata": {},
     "output_type": "execute_result"
    }
   ],
   "source": [
    "l"
   ]
  },
  {
   "cell_type": "code",
   "execution_count": 115,
   "id": "0f82fe4a",
   "metadata": {},
   "outputs": [],
   "source": [
    "l = [1,2,10,3,-1]"
   ]
  },
  {
   "cell_type": "code",
   "execution_count": 116,
   "id": "b9ddc1ad",
   "metadata": {},
   "outputs": [
    {
     "data": {
      "text/plain": [
       "[-1, 1, 2, 3, 10]"
      ]
     },
     "execution_count": 116,
     "metadata": {},
     "output_type": "execute_result"
    }
   ],
   "source": [
    "sorted(l)"
   ]
  },
  {
   "cell_type": "code",
   "execution_count": 117,
   "id": "2b07737b",
   "metadata": {},
   "outputs": [
    {
     "data": {
      "text/plain": [
       "[1, 2, 10, 3, -1]"
      ]
     },
     "execution_count": 117,
     "metadata": {},
     "output_type": "execute_result"
    }
   ],
   "source": [
    "l"
   ]
  },
  {
   "cell_type": "code",
   "execution_count": 118,
   "id": "b8348672",
   "metadata": {},
   "outputs": [],
   "source": [
    "# küçükten büyüğe sıralar\n",
    "l.sort()"
   ]
  },
  {
   "cell_type": "code",
   "execution_count": 119,
   "id": "e46b5c22",
   "metadata": {},
   "outputs": [
    {
     "data": {
      "text/plain": [
       "[-1, 1, 2, 3, 10]"
      ]
     },
     "execution_count": 119,
     "metadata": {},
     "output_type": "execute_result"
    }
   ],
   "source": [
    "l"
   ]
  },
  {
   "cell_type": "code",
   "execution_count": 120,
   "id": "825f21fd",
   "metadata": {},
   "outputs": [],
   "source": [
    "l = [\"b\",\"a\",\"c\",\"1\",\"3\",\"4\"]"
   ]
  },
  {
   "cell_type": "code",
   "execution_count": 121,
   "id": "44a4e671",
   "metadata": {},
   "outputs": [],
   "source": [
    "l.sort()"
   ]
  },
  {
   "cell_type": "code",
   "execution_count": 122,
   "id": "10cc1936",
   "metadata": {},
   "outputs": [
    {
     "data": {
      "text/plain": [
       "['1', '3', '4', 'a', 'b', 'c']"
      ]
     },
     "execution_count": 122,
     "metadata": {},
     "output_type": "execute_result"
    }
   ],
   "source": [
    "l"
   ]
  },
  {
   "cell_type": "code",
   "execution_count": 123,
   "id": "512df465",
   "metadata": {},
   "outputs": [],
   "source": [
    "l = [1,3.1,2,0.6]"
   ]
  },
  {
   "cell_type": "code",
   "execution_count": 125,
   "id": "a80dc0a7",
   "metadata": {},
   "outputs": [],
   "source": [
    "l.sort()"
   ]
  },
  {
   "cell_type": "code",
   "execution_count": 126,
   "id": "65190e76",
   "metadata": {},
   "outputs": [
    {
     "data": {
      "text/plain": [
       "[0.6, 1, 2, 3.1]"
      ]
     },
     "execution_count": 126,
     "metadata": {},
     "output_type": "execute_result"
    }
   ],
   "source": [
    "l"
   ]
  },
  {
   "cell_type": "code",
   "execution_count": 127,
   "id": "7c4c5049",
   "metadata": {},
   "outputs": [],
   "source": [
    "l = [\"b\",\"a\",\"c\",1,2]"
   ]
  },
  {
   "cell_type": "code",
   "execution_count": 128,
   "id": "f36e7735",
   "metadata": {
    "collapsed": true
   },
   "outputs": [
    {
     "ename": "TypeError",
     "evalue": "'<' not supported between instances of 'int' and 'str'",
     "output_type": "error",
     "traceback": [
      "\u001b[1;31m---------------------------------------------------------------------------\u001b[0m",
      "\u001b[1;31mTypeError\u001b[0m                                 Traceback (most recent call last)",
      "Input \u001b[1;32mIn [128]\u001b[0m, in \u001b[0;36m<cell line: 1>\u001b[1;34m()\u001b[0m\n\u001b[1;32m----> 1\u001b[0m \u001b[43ml\u001b[49m\u001b[38;5;241;43m.\u001b[39;49m\u001b[43msort\u001b[49m\u001b[43m(\u001b[49m\u001b[43m)\u001b[49m\n",
      "\u001b[1;31mTypeError\u001b[0m: '<' not supported between instances of 'int' and 'str'"
     ]
    }
   ],
   "source": [
    "l.sort()"
   ]
  },
  {
   "cell_type": "code",
   "execution_count": 129,
   "id": "372a097a",
   "metadata": {},
   "outputs": [],
   "source": [
    "l = [\"b\",\"a\",\"c\",\"1\",\"3.5\",\"4\",\"5.6\", \"0.6\"]"
   ]
  },
  {
   "cell_type": "code",
   "execution_count": 131,
   "id": "d661d4f7",
   "metadata": {},
   "outputs": [],
   "source": [
    "l.sort()"
   ]
  },
  {
   "cell_type": "code",
   "execution_count": 132,
   "id": "4d158920",
   "metadata": {},
   "outputs": [
    {
     "data": {
      "text/plain": [
       "['0.6', '1', '3.5', '4', '5.6', 'a', 'b', 'c']"
      ]
     },
     "execution_count": 132,
     "metadata": {},
     "output_type": "execute_result"
    }
   ],
   "source": [
    "l"
   ]
  },
  {
   "cell_type": "code",
   "execution_count": 133,
   "id": "722e8855",
   "metadata": {},
   "outputs": [],
   "source": [
    "l = [[1,-20,3], [2,-200,-3]]"
   ]
  },
  {
   "cell_type": "code",
   "execution_count": 134,
   "id": "668d40b2",
   "metadata": {},
   "outputs": [],
   "source": [
    "l.sort()"
   ]
  },
  {
   "cell_type": "code",
   "execution_count": 135,
   "id": "7e6b4d31",
   "metadata": {},
   "outputs": [
    {
     "data": {
      "text/plain": [
       "[[1, -20, 3], [2, -200, -3]]"
      ]
     },
     "execution_count": 135,
     "metadata": {},
     "output_type": "execute_result"
    }
   ],
   "source": [
    "l"
   ]
  },
  {
   "cell_type": "code",
   "execution_count": 136,
   "id": "0539dc7a",
   "metadata": {},
   "outputs": [],
   "source": [
    "l = [[10,-20,-3], [2,-2,3]]"
   ]
  },
  {
   "cell_type": "code",
   "execution_count": 137,
   "id": "9adff251",
   "metadata": {},
   "outputs": [],
   "source": [
    "l.sort()"
   ]
  },
  {
   "cell_type": "code",
   "execution_count": 138,
   "id": "7115150e",
   "metadata": {},
   "outputs": [
    {
     "data": {
      "text/plain": [
       "[[2, -2, 3], [10, -20, -3]]"
      ]
     },
     "execution_count": 138,
     "metadata": {},
     "output_type": "execute_result"
    }
   ],
   "source": [
    "l"
   ]
  },
  {
   "cell_type": "code",
   "execution_count": 139,
   "id": "cea2b3b1",
   "metadata": {},
   "outputs": [],
   "source": [
    "l = [[10,-20,-3], [10,-25,3]]"
   ]
  },
  {
   "cell_type": "code",
   "execution_count": 140,
   "id": "60c15691",
   "metadata": {},
   "outputs": [],
   "source": [
    "l.sort()"
   ]
  },
  {
   "cell_type": "code",
   "execution_count": 141,
   "id": "0df5d531",
   "metadata": {},
   "outputs": [
    {
     "data": {
      "text/plain": [
       "[[10, -25, 3], [10, -20, -3]]"
      ]
     },
     "execution_count": 141,
     "metadata": {},
     "output_type": "execute_result"
    }
   ],
   "source": [
    "l"
   ]
  },
  {
   "cell_type": "code",
   "execution_count": 142,
   "id": "20ceb912",
   "metadata": {},
   "outputs": [],
   "source": [
    "l = [[\"a\", \"b\", \"c\"], [2,-200,-3]]"
   ]
  },
  {
   "cell_type": "code",
   "execution_count": 143,
   "id": "6b2979fb",
   "metadata": {
    "collapsed": true
   },
   "outputs": [
    {
     "ename": "TypeError",
     "evalue": "'<' not supported between instances of 'int' and 'str'",
     "output_type": "error",
     "traceback": [
      "\u001b[1;31m---------------------------------------------------------------------------\u001b[0m",
      "\u001b[1;31mTypeError\u001b[0m                                 Traceback (most recent call last)",
      "Input \u001b[1;32mIn [143]\u001b[0m, in \u001b[0;36m<cell line: 1>\u001b[1;34m()\u001b[0m\n\u001b[1;32m----> 1\u001b[0m \u001b[43ml\u001b[49m\u001b[38;5;241;43m.\u001b[39;49m\u001b[43msort\u001b[49m\u001b[43m(\u001b[49m\u001b[43m)\u001b[49m\n",
      "\u001b[1;31mTypeError\u001b[0m: '<' not supported between instances of 'int' and 'str'"
     ]
    }
   ],
   "source": [
    "l.sort()"
   ]
  },
  {
   "cell_type": "code",
   "execution_count": 144,
   "id": "99dfe17e",
   "metadata": {},
   "outputs": [
    {
     "data": {
      "text/plain": [
       "[['a', 'b', 'c'], [2, -200, -3]]"
      ]
     },
     "execution_count": 144,
     "metadata": {},
     "output_type": "execute_result"
    }
   ],
   "source": [
    "l"
   ]
  },
  {
   "cell_type": "code",
   "execution_count": 145,
   "id": "d565cf04",
   "metadata": {},
   "outputs": [],
   "source": [
    "l = [[200, \"b\", \"c\"], [2,-200,-3,10]]"
   ]
  },
  {
   "cell_type": "code",
   "execution_count": 146,
   "id": "048cbcef",
   "metadata": {},
   "outputs": [],
   "source": [
    "l.sort()"
   ]
  },
  {
   "cell_type": "code",
   "execution_count": 147,
   "id": "3044452b",
   "metadata": {},
   "outputs": [
    {
     "data": {
      "text/plain": [
       "[[2, -200, -3, 10], [200, 'b', 'c']]"
      ]
     },
     "execution_count": 147,
     "metadata": {},
     "output_type": "execute_result"
    }
   ],
   "source": [
    "l"
   ]
  },
  {
   "cell_type": "code",
   "execution_count": 148,
   "id": "7a53fb76",
   "metadata": {},
   "outputs": [],
   "source": [
    "l = [[200, \"b\", \"c\"], [200,-200,-3,10]]"
   ]
  },
  {
   "cell_type": "code",
   "execution_count": 149,
   "id": "fccdaeff",
   "metadata": {
    "collapsed": true
   },
   "outputs": [
    {
     "ename": "TypeError",
     "evalue": "'<' not supported between instances of 'int' and 'str'",
     "output_type": "error",
     "traceback": [
      "\u001b[1;31m---------------------------------------------------------------------------\u001b[0m",
      "\u001b[1;31mTypeError\u001b[0m                                 Traceback (most recent call last)",
      "Input \u001b[1;32mIn [149]\u001b[0m, in \u001b[0;36m<cell line: 1>\u001b[1;34m()\u001b[0m\n\u001b[1;32m----> 1\u001b[0m \u001b[43ml\u001b[49m\u001b[38;5;241;43m.\u001b[39;49m\u001b[43msort\u001b[49m\u001b[43m(\u001b[49m\u001b[43m)\u001b[49m\n",
      "\u001b[1;31mTypeError\u001b[0m: '<' not supported between instances of 'int' and 'str'"
     ]
    }
   ],
   "source": [
    "l.sort()"
   ]
  },
  {
   "cell_type": "markdown",
   "id": "71e283dd",
   "metadata": {},
   "source": [
    "# Tuple\n",
    "\n",
    "\n",
    " * tuple veri tipi listeler gibi birden çok veri tipini bir arada tutmamızı sağlar.\n",
    "\n",
    "\n",
    " * listelerden farklı olarak tuple'lar immutabledır.\n",
    "\n",
    "\n",
    " * Mesela bir deniz fenerinin konumunu belirtmek istiyoruz. bunun x ve y koordinat değerleri var (x,y). Deniz fenerini söküp götüremiyoruz, ben bu iki değerin sabit, değiştirilemez olmasını istiyorum. Burada bu iki değeri tutmak için tuple kullanmam mantıklı olabilir.\n",
    "\n",
    "\n",
    " * Değişmeyeceğini bildiğim değerleri bir arada tutmak için.\n",
    "\n",
    "\n",
    " * tuple'lar (element1,element2...) şeklinde tanımlanır.\n",
    "\n",
    "\n",
    " * tuple'lar listeler gibi farklı veri yapılarında elemanlardan oluşabilir. Elemanları tuple bile olabilir.\n"
   ]
  },
  {
   "cell_type": "code",
   "execution_count": 166,
   "id": "dee7bfa1",
   "metadata": {},
   "outputs": [],
   "source": [
    "x = 10\n",
    "y = 34"
   ]
  },
  {
   "cell_type": "code",
   "execution_count": 167,
   "id": "ca022b47",
   "metadata": {},
   "outputs": [],
   "source": [
    "konum = (10, 34)"
   ]
  },
  {
   "cell_type": "markdown",
   "id": "e4f847a2",
   "metadata": {},
   "source": [
    "  * Aynı listelerdeki gibi indexleme yapabiliyoruz."
   ]
  },
  {
   "cell_type": "code",
   "execution_count": 168,
   "id": "b010f278",
   "metadata": {},
   "outputs": [],
   "source": [
    "konum = (10, 34)"
   ]
  },
  {
   "cell_type": "code",
   "execution_count": 169,
   "id": "b1e33ea2",
   "metadata": {},
   "outputs": [
    {
     "data": {
      "text/plain": [
       "10"
      ]
     },
     "execution_count": 169,
     "metadata": {},
     "output_type": "execute_result"
    }
   ],
   "source": [
    "konum[0]"
   ]
  },
  {
   "cell_type": "code",
   "execution_count": 170,
   "id": "04c8bb31",
   "metadata": {},
   "outputs": [
    {
     "data": {
      "text/plain": [
       "(10, 34)"
      ]
     },
     "execution_count": 170,
     "metadata": {},
     "output_type": "execute_result"
    }
   ],
   "source": [
    "konum[:]"
   ]
  },
  {
   "cell_type": "markdown",
   "id": "97632d1d",
   "metadata": {},
   "source": [
    " * Ama değerlerini değiştiremiyoruz."
   ]
  },
  {
   "cell_type": "code",
   "execution_count": 171,
   "id": "6ffdaaea",
   "metadata": {
    "collapsed": true
   },
   "outputs": [
    {
     "ename": "TypeError",
     "evalue": "'tuple' object does not support item assignment",
     "output_type": "error",
     "traceback": [
      "\u001b[1;31m---------------------------------------------------------------------------\u001b[0m",
      "\u001b[1;31mTypeError\u001b[0m                                 Traceback (most recent call last)",
      "Input \u001b[1;32mIn [171]\u001b[0m, in \u001b[0;36m<cell line: 1>\u001b[1;34m()\u001b[0m\n\u001b[1;32m----> 1\u001b[0m konum[\u001b[38;5;241m0\u001b[39m] \u001b[38;5;241m=\u001b[39m \u001b[38;5;241m100\u001b[39m\n",
      "\u001b[1;31mTypeError\u001b[0m: 'tuple' object does not support item assignment"
     ]
    }
   ],
   "source": [
    "konum[0] = 100"
   ]
  },
  {
   "cell_type": "markdown",
   "id": "05404bf5",
   "metadata": {},
   "source": [
    " * Farklı veri tipleri barındırabiliyor."
   ]
  },
  {
   "cell_type": "code",
   "execution_count": 172,
   "id": "2d289b95",
   "metadata": {},
   "outputs": [],
   "source": [
    "t = (1,2,3,\"a\")"
   ]
  },
  {
   "cell_type": "code",
   "execution_count": 173,
   "id": "788efd9f",
   "metadata": {},
   "outputs": [
    {
     "data": {
      "text/plain": [
       "(1, 2, 3, 'a')"
      ]
     },
     "execution_count": 173,
     "metadata": {},
     "output_type": "execute_result"
    }
   ],
   "source": [
    "t"
   ]
  },
  {
   "cell_type": "code",
   "execution_count": 174,
   "id": "0ba8d29e",
   "metadata": {},
   "outputs": [],
   "source": [
    "t = ((1,2),3)"
   ]
  },
  {
   "cell_type": "code",
   "execution_count": 175,
   "id": "42263a34",
   "metadata": {},
   "outputs": [
    {
     "data": {
      "text/plain": [
       "((1, 2), 3)"
      ]
     },
     "execution_count": 175,
     "metadata": {},
     "output_type": "execute_result"
    }
   ],
   "source": [
    "t"
   ]
  },
  {
   "cell_type": "code",
   "execution_count": 176,
   "id": "cf437bb2",
   "metadata": {},
   "outputs": [
    {
     "data": {
      "text/plain": [
       "(1, 2)"
      ]
     },
     "execution_count": 176,
     "metadata": {},
     "output_type": "execute_result"
    }
   ],
   "source": [
    "t[0]"
   ]
  },
  {
   "cell_type": "code",
   "execution_count": 177,
   "id": "1594a358",
   "metadata": {},
   "outputs": [
    {
     "data": {
      "text/plain": [
       "3"
      ]
     },
     "execution_count": 177,
     "metadata": {},
     "output_type": "execute_result"
    }
   ],
   "source": [
    "t[1]"
   ]
  },
  {
   "cell_type": "code",
   "execution_count": 179,
   "id": "0547c877",
   "metadata": {},
   "outputs": [],
   "source": [
    "t = ([1,2,3],2,(1,2))"
   ]
  },
  {
   "cell_type": "code",
   "execution_count": 180,
   "id": "93c4ce02",
   "metadata": {},
   "outputs": [
    {
     "data": {
      "text/plain": [
       "([1, 2, 3], 2, (1, 2))"
      ]
     },
     "execution_count": 180,
     "metadata": {},
     "output_type": "execute_result"
    }
   ],
   "source": [
    "t"
   ]
  },
  {
   "cell_type": "code",
   "execution_count": 182,
   "id": "6faa0537",
   "metadata": {},
   "outputs": [],
   "source": [
    "t[0][0] = 23"
   ]
  },
  {
   "cell_type": "code",
   "execution_count": 183,
   "id": "d49660d9",
   "metadata": {},
   "outputs": [
    {
     "data": {
      "text/plain": [
       "([23, 2, 3], 2, (1, 2))"
      ]
     },
     "execution_count": 183,
     "metadata": {},
     "output_type": "execute_result"
    }
   ],
   "source": [
    "t"
   ]
  },
  {
   "cell_type": "code",
   "execution_count": 184,
   "id": "651c920e",
   "metadata": {},
   "outputs": [],
   "source": [
    "l = [[1,2,3], [10,20]]"
   ]
  },
  {
   "cell_type": "code",
   "execution_count": 185,
   "id": "acbe119b",
   "metadata": {},
   "outputs": [
    {
     "data": {
      "text/plain": [
       "[[1, 2, 3], [10, 20]]"
      ]
     },
     "execution_count": 185,
     "metadata": {},
     "output_type": "execute_result"
    }
   ],
   "source": [
    "l"
   ]
  },
  {
   "cell_type": "markdown",
   "id": "b06151e8",
   "metadata": {},
   "source": [
    "# Elemanların Değerlerini Değiştirmek\n",
    " * Diyelim ki x ve y'nin değerlerini değiştirmek istiyorum"
   ]
  },
  {
   "cell_type": "code",
   "execution_count": 189,
   "id": "20931677",
   "metadata": {},
   "outputs": [],
   "source": [
    "x = 2\n",
    "y = 3"
   ]
  },
  {
   "cell_type": "markdown",
   "id": "56465ae4",
   "metadata": {},
   "source": [
    " * bunu şöyle yapabiliriz."
   ]
  },
  {
   "cell_type": "code",
   "execution_count": 190,
   "id": "a2369277",
   "metadata": {},
   "outputs": [],
   "source": [
    "temp = x\n",
    "x = y\n",
    "y = temp"
   ]
  },
  {
   "cell_type": "code",
   "execution_count": 191,
   "id": "f623c149",
   "metadata": {},
   "outputs": [
    {
     "data": {
      "text/plain": [
       "3"
      ]
     },
     "execution_count": 191,
     "metadata": {},
     "output_type": "execute_result"
    }
   ],
   "source": [
    "x"
   ]
  },
  {
   "cell_type": "code",
   "execution_count": 192,
   "id": "6e1b9d6f",
   "metadata": {},
   "outputs": [
    {
     "data": {
      "text/plain": [
       "2"
      ]
     },
     "execution_count": 192,
     "metadata": {},
     "output_type": "execute_result"
    }
   ],
   "source": [
    "y"
   ]
  },
  {
   "cell_type": "markdown",
   "id": "b975c9b3",
   "metadata": {},
   "source": [
    " * Ama bunu tuple'lar ile 1 satırda yapabiliriz"
   ]
  },
  {
   "cell_type": "code",
   "execution_count": 193,
   "id": "b28a0a60",
   "metadata": {},
   "outputs": [],
   "source": [
    "x = 2\n",
    "y = 3"
   ]
  },
  {
   "cell_type": "code",
   "execution_count": 194,
   "id": "de69e925",
   "metadata": {},
   "outputs": [],
   "source": [
    "(x, y) = (y, x)"
   ]
  },
  {
   "cell_type": "code",
   "execution_count": 195,
   "id": "8a900b12",
   "metadata": {},
   "outputs": [
    {
     "data": {
      "text/plain": [
       "3"
      ]
     },
     "execution_count": 195,
     "metadata": {},
     "output_type": "execute_result"
    }
   ],
   "source": [
    "x"
   ]
  },
  {
   "cell_type": "code",
   "execution_count": 196,
   "id": "c2bd0356",
   "metadata": {},
   "outputs": [
    {
     "data": {
      "text/plain": [
       "2"
      ]
     },
     "execution_count": 196,
     "metadata": {},
     "output_type": "execute_result"
    }
   ],
   "source": [
    "y"
   ]
  },
  {
   "cell_type": "markdown",
   "id": "7cd98ea2",
   "metadata": {},
   "source": [
    " * parantez koymamıza da gerek yok. 1,2,3,\"a\"... gibi parantezsiz belirtsek de Python onu tuple olarak görüyor."
   ]
  },
  {
   "cell_type": "code",
   "execution_count": 197,
   "id": "72b3646f",
   "metadata": {},
   "outputs": [
    {
     "data": {
      "text/plain": [
       "(1, 2, 3, 4)"
      ]
     },
     "execution_count": 197,
     "metadata": {},
     "output_type": "execute_result"
    }
   ],
   "source": [
    "1,2,3,4"
   ]
  },
  {
   "cell_type": "code",
   "execution_count": 199,
   "id": "2ba95a1a",
   "metadata": {},
   "outputs": [
    {
     "data": {
      "text/plain": [
       "(1, 2, 3, 4)"
      ]
     },
     "execution_count": 199,
     "metadata": {},
     "output_type": "execute_result"
    }
   ],
   "source": [
    "a = 1,2,3,4\n",
    "a"
   ]
  },
  {
   "cell_type": "code",
   "execution_count": 201,
   "id": "1ca10c2b",
   "metadata": {},
   "outputs": [
    {
     "data": {
      "text/plain": [
       "tuple"
      ]
     },
     "execution_count": 201,
     "metadata": {},
     "output_type": "execute_result"
    }
   ],
   "source": [
    "type(a)"
   ]
  },
  {
   "cell_type": "code",
   "execution_count": 202,
   "id": "0520484d",
   "metadata": {},
   "outputs": [],
   "source": [
    "x = 2\n",
    "y = 3"
   ]
  },
  {
   "cell_type": "code",
   "execution_count": 203,
   "id": "4927f148",
   "metadata": {},
   "outputs": [],
   "source": [
    "x, y = y, x"
   ]
  },
  {
   "cell_type": "code",
   "execution_count": 204,
   "id": "4f9c9ea6",
   "metadata": {},
   "outputs": [
    {
     "data": {
      "text/plain": [
       "3"
      ]
     },
     "execution_count": 204,
     "metadata": {},
     "output_type": "execute_result"
    }
   ],
   "source": [
    "x"
   ]
  },
  {
   "cell_type": "code",
   "execution_count": 205,
   "id": "7b6edb99",
   "metadata": {},
   "outputs": [
    {
     "data": {
      "text/plain": [
       "2"
      ]
     },
     "execution_count": 205,
     "metadata": {},
     "output_type": "execute_result"
    }
   ],
   "source": [
    "y"
   ]
  },
  {
   "cell_type": "code",
   "execution_count": 206,
   "id": "401654c6",
   "metadata": {},
   "outputs": [],
   "source": [
    "x = 2\n",
    "y = 3"
   ]
  },
  {
   "cell_type": "code",
   "execution_count": 207,
   "id": "eb3a8ed5",
   "metadata": {},
   "outputs": [],
   "source": [
    "[x, y] = [y, x]"
   ]
  },
  {
   "cell_type": "code",
   "execution_count": 208,
   "id": "e2d0df47",
   "metadata": {},
   "outputs": [
    {
     "data": {
      "text/plain": [
       "3"
      ]
     },
     "execution_count": 208,
     "metadata": {},
     "output_type": "execute_result"
    }
   ],
   "source": [
    "x"
   ]
  },
  {
   "cell_type": "code",
   "execution_count": 209,
   "id": "bf8d3264",
   "metadata": {},
   "outputs": [
    {
     "data": {
      "text/plain": [
       "2"
      ]
     },
     "execution_count": 209,
     "metadata": {},
     "output_type": "execute_result"
    }
   ],
   "source": [
    "y"
   ]
  },
  {
   "cell_type": "markdown",
   "id": "673ffc44",
   "metadata": {},
   "source": [
    "# Tuple ve List'lerde Eleman Kontrolü\n",
    "\n",
    "\n",
    " * Belirli bir eleman listede veya tuple'da var mı diye in keyword'ü ile sorgu yapabilirim.\n",
    "\n"
   ]
  },
  {
   "cell_type": "code",
   "execution_count": 216,
   "id": "75faaf18",
   "metadata": {},
   "outputs": [],
   "source": [
    "l = [1,2,3,4]"
   ]
  },
  {
   "cell_type": "code",
   "execution_count": 217,
   "id": "7f43e5c0",
   "metadata": {},
   "outputs": [
    {
     "data": {
      "text/plain": [
       "False"
      ]
     },
     "execution_count": 217,
     "metadata": {},
     "output_type": "execute_result"
    }
   ],
   "source": [
    "40 in l"
   ]
  },
  {
   "cell_type": "code",
   "execution_count": 218,
   "id": "dbd09f31",
   "metadata": {},
   "outputs": [
    {
     "data": {
      "text/plain": [
       "True"
      ]
     },
     "execution_count": 218,
     "metadata": {},
     "output_type": "execute_result"
    }
   ],
   "source": [
    "2 in l"
   ]
  },
  {
   "cell_type": "code",
   "execution_count": 224,
   "id": "f280575a",
   "metadata": {},
   "outputs": [],
   "source": [
    "t = (1,2,3,4)"
   ]
  },
  {
   "cell_type": "code",
   "execution_count": 223,
   "id": "8cdc39bf",
   "metadata": {},
   "outputs": [
    {
     "data": {
      "text/plain": [
       "False"
      ]
     },
     "execution_count": 223,
     "metadata": {},
     "output_type": "execute_result"
    }
   ],
   "source": [
    "40 in t"
   ]
  },
  {
   "cell_type": "code",
   "execution_count": 222,
   "id": "4e05f587",
   "metadata": {
    "scrolled": true
   },
   "outputs": [
    {
     "data": {
      "text/plain": [
       "True"
      ]
     },
     "execution_count": 222,
     "metadata": {},
     "output_type": "execute_result"
    }
   ],
   "source": [
    "3 in t"
   ]
  },
  {
   "cell_type": "markdown",
   "id": "ce05fe0f",
   "metadata": {},
   "source": [
    " # Dictionaries\n",
    "\n",
    "\n",
    " * Listeler bize bir arada tutulması anlamlı olacak verileri bir arada tutma gücü verir.\n",
    "\n",
    "\n",
    " * Mesela bir sınıftaki 3 öğrencinin sınavdan aldıkları notlar:\n"
   ]
  },
  {
   "cell_type": "code",
   "execution_count": 228,
   "id": "aac749cc",
   "metadata": {},
   "outputs": [],
   "source": [
    "notlar = [80,72,95]"
   ]
  },
  {
   "cell_type": "markdown",
   "id": "9df288aa",
   "metadata": {},
   "source": [
    " * Bu listedeki 1. eleman ilk öğrenciyi, 2. eleman 2. öğrenciyi, 3. eleman...\n",
    "\n",
    "\n",
    " * Ben aynı zamanda bu öğrencilerin isimlerini de tutmak istiyorsam, isimleri için ayrı bir liste oluşturmam lazım. Kuracağım mantık için bu iki listenin eleman sayısı aynı olmalı. notlar[0] bana ilk öğrencinin notunu, isim[0] bana ilk öğrencinin notunu verecek."
   ]
  },
  {
   "cell_type": "code",
   "execution_count": 229,
   "id": "7573bb4e",
   "metadata": {},
   "outputs": [],
   "source": [
    "isim = [\"Deniz\", \"Ege\", \"Gizem\"]"
   ]
  },
  {
   "cell_type": "code",
   "execution_count": 230,
   "id": "2f7614b4",
   "metadata": {},
   "outputs": [
    {
     "data": {
      "text/plain": [
       "'Deniz'"
      ]
     },
     "execution_count": 230,
     "metadata": {},
     "output_type": "execute_result"
    }
   ],
   "source": [
    "isim[0]"
   ]
  },
  {
   "cell_type": "code",
   "execution_count": 231,
   "id": "92f2a053",
   "metadata": {},
   "outputs": [
    {
     "data": {
      "text/plain": [
       "80"
      ]
     },
     "execution_count": 231,
     "metadata": {},
     "output_type": "execute_result"
    }
   ],
   "source": [
    "notlar[0]"
   ]
  },
  {
   "cell_type": "code",
   "execution_count": 234,
   "id": "3e055a85",
   "metadata": {},
   "outputs": [
    {
     "name": "stdout",
     "output_type": "stream",
     "text": [
      "Deniz adlı öğrencinin notu 80\n"
     ]
    }
   ],
   "source": [
    "print(isim[0], \"adlı öğrencinin notu\", notlar[0])"
   ]
  },
  {
   "cell_type": "markdown",
   "id": "ec5797eb",
   "metadata": {},
   "source": [
    " * Öğrenci numaralarını tutmak istiyorsam bunu için de ayrı bir liste oluşturmam lazım."
   ]
  },
  {
   "cell_type": "code",
   "execution_count": 235,
   "id": "1ba85cd1",
   "metadata": {},
   "outputs": [],
   "source": [
    "no = [703, 408, 690]"
   ]
  },
  {
   "cell_type": "code",
   "execution_count": 236,
   "id": "c7bca0ab",
   "metadata": {},
   "outputs": [
    {
     "data": {
      "text/plain": [
       "'Deniz'"
      ]
     },
     "execution_count": 236,
     "metadata": {},
     "output_type": "execute_result"
    }
   ],
   "source": [
    "isim[0]"
   ]
  },
  {
   "cell_type": "code",
   "execution_count": 237,
   "id": "654dea0d",
   "metadata": {},
   "outputs": [
    {
     "data": {
      "text/plain": [
       "80"
      ]
     },
     "execution_count": 237,
     "metadata": {},
     "output_type": "execute_result"
    }
   ],
   "source": [
    "notlar[0]"
   ]
  },
  {
   "cell_type": "code",
   "execution_count": 238,
   "id": "df6eba72",
   "metadata": {},
   "outputs": [
    {
     "data": {
      "text/plain": [
       "703"
      ]
     },
     "execution_count": 238,
     "metadata": {},
     "output_type": "execute_result"
    }
   ],
   "source": [
    "no[0]"
   ]
  },
  {
   "cell_type": "markdown",
   "id": "170ca4d6",
   "metadata": {},
   "source": [
    " * Her farklı bilgi için yeni bir liste oluşturmam gerekiyor.\n",
    "\n",
    "\n",
    " * Aynı elemanı ifade eden mantıklar listeler arası aynı indexte tutuluyor. (isim[0]'ın notu notlar[0])\n",
    "\n",
    "\n",
    " * Bu yapılabilir ama optimal olmayan bir yaklaşım. Karışıklık çıkması çok muhtemel.\n",
    "\n",
    "\n",
    " * İstediğim kısmı almanın daha kolay bir yolu olabilir mi? Sadece bir veri yapısı kullansam... Ayrı ayrı listeler kullanmasam...\n",
    "\n",
    "\n",
    " * Evet bunu yapabiliriz! Bunun için dictionary veri yapısını göreceğiz.\n",
    "\n",
    "\n",
    " * Dictionary yapısının elemanlarına erişmek için belirli keyler kullanacağız ve o da bize value'lar verecek.\n",
    "\n",
    "\n",
    " * dictionary'leri süslü parantez {} ile belirteceğiz.\n",
    "\n",
    "\n",
    " * Formumuz {key1:value1, key2:value2...} şeklinde olacak.\n",
    "\n",
    "\n",
    " * Elemanlarına ulaşmak için öbür non-scalar veri tiplerinde yaptığımız gibi [] kullanacağız. Ama - dictionary'lerin elemanlarına ulaşmak için belirlediğimiz keyleri kullanacağız, integer indexing değil.\n",
    "\n",
    "\n",
    " * dictionary'lerin keyleri immutable herhangi bir yapıda olabilir. value'lar mutable da immutable da olabilir. int, float, bool, string, list, tuple, set, even dictionaries itself!\n",
    "\n"
   ]
  },
  {
   "cell_type": "code",
   "execution_count": 240,
   "id": "c1d00f9b",
   "metadata": {},
   "outputs": [],
   "source": [
    "notlar = {\"Deniz\": 80, \"Ege\":72, \"Gizem\": 95}"
   ]
  },
  {
   "cell_type": "code",
   "execution_count": 241,
   "id": "cc7c165d",
   "metadata": {},
   "outputs": [
    {
     "data": {
      "text/plain": [
       "72"
      ]
     },
     "execution_count": 241,
     "metadata": {},
     "output_type": "execute_result"
    }
   ],
   "source": [
    "notlar[\"Ege\"]"
   ]
  },
  {
   "cell_type": "code",
   "execution_count": 242,
   "id": "57492e13",
   "metadata": {},
   "outputs": [
    {
     "data": {
      "text/plain": [
       "95"
      ]
     },
     "execution_count": 242,
     "metadata": {},
     "output_type": "execute_result"
    }
   ],
   "source": [
    "notlar[\"Gizem\"]"
   ]
  },
  {
   "cell_type": "code",
   "execution_count": 243,
   "id": "23baf30d",
   "metadata": {},
   "outputs": [],
   "source": [
    "ogrenciler = {\"Deniz\": {\"not\":80, \"ogrenci_no\":703}, \"Ege\":{\"not\":72, \"ogrenci_no\":408}, \"Gizem\": {\"not\":95, \"ogrenci_no\":690}}"
   ]
  },
  {
   "cell_type": "code",
   "execution_count": 245,
   "id": "1f44da6c",
   "metadata": {},
   "outputs": [
    {
     "data": {
      "text/plain": [
       "{'not': 72, 'ogrenci_no': 408}"
      ]
     },
     "execution_count": 245,
     "metadata": {},
     "output_type": "execute_result"
    }
   ],
   "source": [
    "ogrenciler[\"Ege\"]"
   ]
  },
  {
   "cell_type": "code",
   "execution_count": 246,
   "id": "b6f3166b",
   "metadata": {},
   "outputs": [
    {
     "data": {
      "text/plain": [
       "72"
      ]
     },
     "execution_count": 246,
     "metadata": {},
     "output_type": "execute_result"
    }
   ],
   "source": [
    "ogrenciler[\"Ege\"][\"not\"]"
   ]
  },
  {
   "cell_type": "code",
   "execution_count": 247,
   "id": "a51f7cb3",
   "metadata": {},
   "outputs": [
    {
     "data": {
      "text/plain": [
       "408"
      ]
     },
     "execution_count": 247,
     "metadata": {},
     "output_type": "execute_result"
    }
   ],
   "source": [
    "ogrenciler[\"Ege\"][\"ogrenci_no\"]"
   ]
  },
  {
   "cell_type": "markdown",
   "id": "5ef6aec4",
   "metadata": {},
   "source": [
    "# Olmayan Bir Eleman Sorgulamak\n",
    "\n",
    "\n",
    " * Olmayan bir key ile eleman sorgusu yaparsak hata alırız."
   ]
  },
  {
   "cell_type": "code",
   "execution_count": 248,
   "id": "b3cddd1e",
   "metadata": {},
   "outputs": [
    {
     "data": {
      "text/plain": [
       "{'Deniz': 80, 'Ege': 72, 'Gizem': 95}"
      ]
     },
     "execution_count": 248,
     "metadata": {},
     "output_type": "execute_result"
    }
   ],
   "source": [
    "notlar"
   ]
  },
  {
   "cell_type": "code",
   "execution_count": 249,
   "id": "21fb8b63",
   "metadata": {
    "collapsed": true
   },
   "outputs": [
    {
     "ename": "KeyError",
     "evalue": "'Mert'",
     "output_type": "error",
     "traceback": [
      "\u001b[1;31m---------------------------------------------------------------------------\u001b[0m",
      "\u001b[1;31mKeyError\u001b[0m                                  Traceback (most recent call last)",
      "Input \u001b[1;32mIn [249]\u001b[0m, in \u001b[0;36m<cell line: 1>\u001b[1;34m()\u001b[0m\n\u001b[1;32m----> 1\u001b[0m \u001b[43mnotlar\u001b[49m\u001b[43m[\u001b[49m\u001b[38;5;124;43m\"\u001b[39;49m\u001b[38;5;124;43mMert\u001b[39;49m\u001b[38;5;124;43m\"\u001b[39;49m\u001b[43m]\u001b[49m\n",
      "\u001b[1;31mKeyError\u001b[0m: 'Mert'"
     ]
    }
   ],
   "source": [
    "notlar[\"Mert\"]"
   ]
  },
  {
   "cell_type": "markdown",
   "id": "d0adddf2",
   "metadata": {},
   "source": [
    " # Value Değerlerini Değiştirmek\n",
    "  * Diyelim ki Ege'nin notu yanlış okunmuş, notunu 5 puan arttıracağız."
   ]
  },
  {
   "cell_type": "code",
   "execution_count": 250,
   "id": "21ece87c",
   "metadata": {},
   "outputs": [
    {
     "data": {
      "text/plain": [
       "{'Deniz': 80, 'Ege': 72, 'Gizem': 95}"
      ]
     },
     "execution_count": 250,
     "metadata": {},
     "output_type": "execute_result"
    }
   ],
   "source": [
    "notlar"
   ]
  },
  {
   "cell_type": "code",
   "execution_count": 251,
   "id": "70a49b4b",
   "metadata": {},
   "outputs": [],
   "source": [
    "notlar[\"Ege\"] = notlar[\"Ege\"] + 5"
   ]
  },
  {
   "cell_type": "code",
   "execution_count": 252,
   "id": "13d342b4",
   "metadata": {},
   "outputs": [
    {
     "data": {
      "text/plain": [
       "77"
      ]
     },
     "execution_count": 252,
     "metadata": {},
     "output_type": "execute_result"
    }
   ],
   "source": [
    "notlar[\"Ege\"]"
   ]
  },
  {
   "cell_type": "code",
   "execution_count": 258,
   "id": "36cbe521",
   "metadata": {},
   "outputs": [
    {
     "data": {
      "text/plain": [
       "{'Deniz': 80, 'Ege': 77, 'Gizem': 95}"
      ]
     },
     "execution_count": 258,
     "metadata": {},
     "output_type": "execute_result"
    }
   ],
   "source": [
    "notlar"
   ]
  },
  {
   "cell_type": "code",
   "execution_count": 259,
   "id": "ea0e8393",
   "metadata": {
    "collapsed": true
   },
   "outputs": [
    {
     "ename": "TypeError",
     "evalue": "len() takes exactly one argument (0 given)",
     "output_type": "error",
     "traceback": [
      "\u001b[1;31m---------------------------------------------------------------------------\u001b[0m",
      "\u001b[1;31mTypeError\u001b[0m                                 Traceback (most recent call last)",
      "Input \u001b[1;32mIn [259]\u001b[0m, in \u001b[0;36m<cell line: 1>\u001b[1;34m()\u001b[0m\n\u001b[1;32m----> 1\u001b[0m \u001b[38;5;28;43mlen\u001b[39;49m\u001b[43m \u001b[49m\u001b[43m(\u001b[49m\u001b[43m)\u001b[49m\n",
      "\u001b[1;31mTypeError\u001b[0m: len() takes exactly one argument (0 given)"
     ]
    }
   ],
   "source": [
    "len ()"
   ]
  },
  {
   "cell_type": "markdown",
   "id": "c5a9fd71",
   "metadata": {},
   "source": [
    " * len() fonksiyonunu dictionary'lerde kullandığımız zaman bize kaç tane key varsa onun sayısını veriyor."
   ]
  },
  {
   "cell_type": "code",
   "execution_count": 260,
   "id": "55a4fdb2",
   "metadata": {},
   "outputs": [
    {
     "data": {
      "text/plain": [
       "{'Deniz': 80, 'Ege': 77, 'Gizem': 95}"
      ]
     },
     "execution_count": 260,
     "metadata": {},
     "output_type": "execute_result"
    }
   ],
   "source": [
    "notlar"
   ]
  },
  {
   "cell_type": "code",
   "execution_count": 261,
   "id": "0f5dd41a",
   "metadata": {},
   "outputs": [
    {
     "data": {
      "text/plain": [
       "3"
      ]
     },
     "execution_count": 261,
     "metadata": {},
     "output_type": "execute_result"
    }
   ],
   "source": [
    "len (notlar)"
   ]
  },
  {
   "cell_type": "markdown",
   "id": "4074fce3",
   "metadata": {},
   "source": [
    "# Eleman eklemek\n",
    " * Dictionary'lere eleman eklemek gerçekten kolay. Tamam yazmayı bırakıp direkt göstereyim:"
   ]
  },
  {
   "cell_type": "code",
   "execution_count": 262,
   "id": "b4233f17",
   "metadata": {},
   "outputs": [
    {
     "data": {
      "text/plain": [
       "{'Deniz': 80, 'Ege': 77, 'Gizem': 95}"
      ]
     },
     "execution_count": 262,
     "metadata": {},
     "output_type": "execute_result"
    }
   ],
   "source": [
    "notlar"
   ]
  },
  {
   "cell_type": "code",
   "execution_count": 263,
   "id": "275c7b98",
   "metadata": {},
   "outputs": [],
   "source": [
    "notlar[\"Mert\"] = 58"
   ]
  },
  {
   "cell_type": "code",
   "execution_count": 264,
   "id": "68c610c4",
   "metadata": {},
   "outputs": [
    {
     "data": {
      "text/plain": [
       "{'Deniz': 80, 'Ege': 77, 'Gizem': 95, 'Mert': 58}"
      ]
     },
     "execution_count": 264,
     "metadata": {},
     "output_type": "execute_result"
    }
   ],
   "source": [
    "notlar"
   ]
  },
  {
   "cell_type": "markdown",
   "id": "35010126",
   "metadata": {},
   "source": [
    " * Dictionary'ye sorgu yapıyor gibi yazıyoruz, ve value'si olmasını istediğimiz değeri de soluna yazıyoruz."
   ]
  },
  {
   "cell_type": "markdown",
   "id": "11ff87fc",
   "metadata": {},
   "source": [
    "# Eleman silmek"
   ]
  },
  {
   "cell_type": "code",
   "execution_count": 265,
   "id": "0a3bd825",
   "metadata": {},
   "outputs": [
    {
     "data": {
      "text/plain": [
       "{'Deniz': 80, 'Ege': 77, 'Gizem': 95, 'Mert': 58}"
      ]
     },
     "execution_count": 265,
     "metadata": {},
     "output_type": "execute_result"
    }
   ],
   "source": [
    "notlar"
   ]
  },
  {
   "cell_type": "markdown",
   "id": "b6c134cd",
   "metadata": {},
   "source": [
    " * Eleman silmeyi del keyword'ü ile yapabiliriz."
   ]
  },
  {
   "cell_type": "code",
   "execution_count": 266,
   "id": "cee05a19",
   "metadata": {},
   "outputs": [],
   "source": [
    "del notlar[\"Mert\"]"
   ]
  },
  {
   "cell_type": "code",
   "execution_count": 267,
   "id": "4f631f7d",
   "metadata": {},
   "outputs": [
    {
     "data": {
      "text/plain": [
       "{'Deniz': 80, 'Ege': 77, 'Gizem': 95}"
      ]
     },
     "execution_count": 267,
     "metadata": {},
     "output_type": "execute_result"
    }
   ],
   "source": [
    "notlar"
   ]
  },
  {
   "cell_type": "markdown",
   "id": "421f4719",
   "metadata": {},
   "source": [
    " * Sadece Immutable Tipindeki Veriler key olabilir"
   ]
  },
  {
   "cell_type": "code",
   "execution_count": 268,
   "id": "69eb7481",
   "metadata": {},
   "outputs": [],
   "source": [
    "d = {1:2, 3:\"b\"}"
   ]
  },
  {
   "cell_type": "code",
   "execution_count": 269,
   "id": "a041288c",
   "metadata": {},
   "outputs": [
    {
     "data": {
      "text/plain": [
       "2"
      ]
     },
     "execution_count": 269,
     "metadata": {},
     "output_type": "execute_result"
    }
   ],
   "source": [
    "d[1]"
   ]
  },
  {
   "cell_type": "code",
   "execution_count": 273,
   "id": "ab195721",
   "metadata": {},
   "outputs": [
    {
     "data": {
      "text/plain": [
       "'b'"
      ]
     },
     "execution_count": 273,
     "metadata": {},
     "output_type": "execute_result"
    }
   ],
   "source": [
    "d[3]"
   ]
  },
  {
   "cell_type": "code",
   "execution_count": 274,
   "id": "c1a2c10e",
   "metadata": {},
   "outputs": [],
   "source": [
    "d2 = {(1,2):\"a\", (4,5): [1,2,3]}"
   ]
  },
  {
   "cell_type": "code",
   "execution_count": 275,
   "id": "851d567c",
   "metadata": {},
   "outputs": [
    {
     "data": {
      "text/plain": [
       "'a'"
      ]
     },
     "execution_count": 275,
     "metadata": {},
     "output_type": "execute_result"
    }
   ],
   "source": [
    "d2[(1,2)]"
   ]
  },
  {
   "cell_type": "code",
   "execution_count": 276,
   "id": "ea49f21b",
   "metadata": {},
   "outputs": [
    {
     "data": {
      "text/plain": [
       "[1, 2, 3]"
      ]
     },
     "execution_count": 276,
     "metadata": {},
     "output_type": "execute_result"
    }
   ],
   "source": [
    "d2[(4,5)]"
   ]
  },
  {
   "cell_type": "code",
   "execution_count": 277,
   "id": "0cc0904a",
   "metadata": {
    "collapsed": true
   },
   "outputs": [
    {
     "ename": "TypeError",
     "evalue": "unhashable type: 'list'",
     "output_type": "error",
     "traceback": [
      "\u001b[1;31m---------------------------------------------------------------------------\u001b[0m",
      "\u001b[1;31mTypeError\u001b[0m                                 Traceback (most recent call last)",
      "Input \u001b[1;32mIn [277]\u001b[0m, in \u001b[0;36m<cell line: 1>\u001b[1;34m()\u001b[0m\n\u001b[1;32m----> 1\u001b[0m d3 \u001b[38;5;241m=\u001b[39m {[\u001b[38;5;241m1\u001b[39m,\u001b[38;5;241m2\u001b[39m]:\u001b[38;5;241m4\u001b[39m}\n",
      "\u001b[1;31mTypeError\u001b[0m: unhashable type: 'list'"
     ]
    }
   ],
   "source": [
    "d3 = {[1,2]:4}"
   ]
  },
  {
   "cell_type": "markdown",
   "id": "3254c108",
   "metadata": {},
   "source": [
    " # Boş Bir Dictionary Yaratmak"
   ]
  },
  {
   "cell_type": "code",
   "execution_count": 278,
   "id": "27e8ee92",
   "metadata": {},
   "outputs": [],
   "source": [
    "d = {}"
   ]
  },
  {
   "cell_type": "code",
   "execution_count": 279,
   "id": "b1705136",
   "metadata": {},
   "outputs": [
    {
     "data": {
      "text/plain": [
       "{}"
      ]
     },
     "execution_count": 279,
     "metadata": {},
     "output_type": "execute_result"
    }
   ],
   "source": [
    "d"
   ]
  },
  {
   "cell_type": "code",
   "execution_count": 280,
   "id": "b28c0829",
   "metadata": {},
   "outputs": [],
   "source": [
    "d[1] = \"a\""
   ]
  },
  {
   "cell_type": "code",
   "execution_count": 281,
   "id": "9cd3e16c",
   "metadata": {},
   "outputs": [
    {
     "data": {
      "text/plain": [
       "{1: 'a'}"
      ]
     },
     "execution_count": 281,
     "metadata": {},
     "output_type": "execute_result"
    }
   ],
   "source": [
    "d"
   ]
  },
  {
   "cell_type": "markdown",
   "id": "7c76301c",
   "metadata": {},
   "source": [
    "# Bir Değer Keyler Arasında Var mı Sorgusu Yapmak\n",
    " * Bir elemanın dictionary içinde olup olmadığını sorgulamak, list ve tuple'lerde sorgulamaktan daha hızlıdır."
   ]
  },
  {
   "cell_type": "code",
   "execution_count": 282,
   "id": "20b6bc7a",
   "metadata": {},
   "outputs": [
    {
     "data": {
      "text/plain": [
       "{'Deniz': 80, 'Ege': 77, 'Gizem': 95}"
      ]
     },
     "execution_count": 282,
     "metadata": {},
     "output_type": "execute_result"
    }
   ],
   "source": [
    "notlar"
   ]
  },
  {
   "cell_type": "code",
   "execution_count": 283,
   "id": "f2d5e955",
   "metadata": {},
   "outputs": [
    {
     "data": {
      "text/plain": [
       "False"
      ]
     },
     "execution_count": 283,
     "metadata": {},
     "output_type": "execute_result"
    }
   ],
   "source": [
    "\"Mert\" in notlar"
   ]
  },
  {
   "cell_type": "code",
   "execution_count": 284,
   "id": "70e99555",
   "metadata": {},
   "outputs": [
    {
     "data": {
      "text/plain": [
       "True"
      ]
     },
     "execution_count": 284,
     "metadata": {},
     "output_type": "execute_result"
    }
   ],
   "source": [
    "\"Deniz\" in notlar"
   ]
  },
  {
   "cell_type": "markdown",
   "id": "c9a9d073",
   "metadata": {},
   "source": [
    "# set\n",
    " * Setleri kümeler olarak düşünebiliriz.\n",
    "\n",
    "\n",
    " * Sadece özgün değerleri tutan, içerisinde bir eleman var mı yok mu, başka bir setle hangi elemanları farklı gibi işlemleri performanslı bir şekilde yapabileceğimiz bir veri yapısıdır.\n",
    "\n",
    "\n",
    " * Dictionary'ler gibi eleman sorgusu yapmak hızlıdır. Dictionarylerde key-value çift olarak bulunduğu için aynı uzunluktaki bir setten daha fazla yer kaplar.\n",
    "\n",
    "\n",
    " * Setler indexlenemez.\n",
    "\n",
    "\n",
    " * Setler mutable'dır.\n"
   ]
  },
  {
   "cell_type": "markdown",
   "id": "89e0e42c",
   "metadata": {},
   "source": [
    " # set yaratma"
   ]
  },
  {
   "cell_type": "code",
   "execution_count": 1,
   "id": "7d10f509",
   "metadata": {},
   "outputs": [],
   "source": [
    "s = {1,2,3,4,5}"
   ]
  },
  {
   "cell_type": "code",
   "execution_count": 2,
   "id": "5c0359d2",
   "metadata": {},
   "outputs": [
    {
     "data": {
      "text/plain": [
       "{1, 2, 3, 4, 5}"
      ]
     },
     "execution_count": 2,
     "metadata": {},
     "output_type": "execute_result"
    }
   ],
   "source": [
    "s"
   ]
  },
  {
   "cell_type": "code",
   "execution_count": 3,
   "id": "7b121691",
   "metadata": {},
   "outputs": [],
   "source": [
    "s2 = {1,2,2,2,1,4,5,6}"
   ]
  },
  {
   "cell_type": "code",
   "execution_count": 4,
   "id": "f541f58b",
   "metadata": {},
   "outputs": [
    {
     "data": {
      "text/plain": [
       "{1, 2, 3, 4, 5}"
      ]
     },
     "execution_count": 4,
     "metadata": {},
     "output_type": "execute_result"
    }
   ],
   "source": [
    "s"
   ]
  },
  {
   "cell_type": "markdown",
   "id": "b8f71bf9",
   "metadata": {},
   "source": [
    "# boş set yaratma"
   ]
  },
  {
   "cell_type": "code",
   "execution_count": 5,
   "id": "51b783ba",
   "metadata": {},
   "outputs": [],
   "source": [
    "a = {}"
   ]
  },
  {
   "cell_type": "code",
   "execution_count": 6,
   "id": "3a8d3254",
   "metadata": {},
   "outputs": [
    {
     "data": {
      "text/plain": [
       "dict"
      ]
     },
     "execution_count": 6,
     "metadata": {},
     "output_type": "execute_result"
    }
   ],
   "source": [
    "type(a)"
   ]
  },
  {
   "cell_type": "code",
   "execution_count": 7,
   "id": "a33491e3",
   "metadata": {},
   "outputs": [],
   "source": [
    "s = set()"
   ]
  },
  {
   "cell_type": "code",
   "execution_count": 8,
   "id": "1618f19f",
   "metadata": {},
   "outputs": [
    {
     "data": {
      "text/plain": [
       "set()"
      ]
     },
     "execution_count": 8,
     "metadata": {},
     "output_type": "execute_result"
    }
   ],
   "source": [
    "set()"
   ]
  },
  {
   "cell_type": "code",
   "execution_count": 9,
   "id": "c493b37a",
   "metadata": {},
   "outputs": [],
   "source": [
    "l = [1,2,3,4]"
   ]
  },
  {
   "cell_type": "code",
   "execution_count": 12,
   "id": "45918871",
   "metadata": {},
   "outputs": [],
   "source": [
    "s = set(l)"
   ]
  },
  {
   "cell_type": "code",
   "execution_count": 13,
   "id": "e6bfd9c5",
   "metadata": {},
   "outputs": [
    {
     "data": {
      "text/plain": [
       "{1, 2, 3, 4}"
      ]
     },
     "execution_count": 13,
     "metadata": {},
     "output_type": "execute_result"
    }
   ],
   "source": [
    "s"
   ]
  },
  {
   "cell_type": "code",
   "execution_count": 14,
   "id": "4dd3dbf8",
   "metadata": {},
   "outputs": [],
   "source": [
    "l = [1,2,3,4,1,2]"
   ]
  },
  {
   "cell_type": "code",
   "execution_count": 15,
   "id": "51fdd876",
   "metadata": {},
   "outputs": [
    {
     "data": {
      "text/plain": [
       "{1, 2, 3, 4}"
      ]
     },
     "execution_count": 15,
     "metadata": {},
     "output_type": "execute_result"
    }
   ],
   "source": [
    "set(l)"
   ]
  },
  {
   "cell_type": "code",
   "execution_count": 16,
   "id": "c89b1c3e",
   "metadata": {},
   "outputs": [],
   "source": [
    "# Boş bir seti {} ile yaratamayız,çünkü bu boş bir dictionary yaratmak için ayrılmış\n",
    "s = {}"
   ]
  },
  {
   "cell_type": "code",
   "execution_count": 17,
   "id": "330559c6",
   "metadata": {},
   "outputs": [
    {
     "data": {
      "text/plain": [
       "dict"
      ]
     },
     "execution_count": 17,
     "metadata": {},
     "output_type": "execute_result"
    }
   ],
   "source": [
    "type(s)"
   ]
  },
  {
   "cell_type": "markdown",
   "id": "5b83f09b",
   "metadata": {},
   "source": [
    " * Setler Sadece Özgün Değerlerden Oluşur\n",
    "\n",
    "\n",
    " * Setin içinde bir elemanı birden çok göremezsiniz.\n"
   ]
  },
  {
   "cell_type": "code",
   "execution_count": 18,
   "id": "bcf3dc0f",
   "metadata": {},
   "outputs": [],
   "source": [
    "l = [1,2,3,4,1,2]"
   ]
  },
  {
   "cell_type": "code",
   "execution_count": 19,
   "id": "c1dd9027",
   "metadata": {},
   "outputs": [],
   "source": [
    "# Sadece farklı değerlerden `s` yi oluşturacak.\n",
    "s = set(l)"
   ]
  },
  {
   "cell_type": "code",
   "execution_count": 20,
   "id": "acae4fda",
   "metadata": {},
   "outputs": [
    {
     "data": {
      "text/plain": [
       "{1, 2, 3, 4}"
      ]
     },
     "execution_count": 20,
     "metadata": {},
     "output_type": "execute_result"
    }
   ],
   "source": [
    "s"
   ]
  },
  {
   "cell_type": "code",
   "execution_count": 23,
   "id": "9cada693",
   "metadata": {},
   "outputs": [],
   "source": [
    "t = (1,2,3,4,1)"
   ]
  },
  {
   "cell_type": "code",
   "execution_count": 24,
   "id": "9c3bf9b2",
   "metadata": {},
   "outputs": [],
   "source": [
    "s = set(t)"
   ]
  },
  {
   "cell_type": "code",
   "execution_count": 25,
   "id": "3c30e883",
   "metadata": {},
   "outputs": [
    {
     "data": {
      "text/plain": [
       "{1, 2, 3, 4}"
      ]
     },
     "execution_count": 25,
     "metadata": {},
     "output_type": "execute_result"
    }
   ],
   "source": [
    "s"
   ]
  },
  {
   "cell_type": "code",
   "execution_count": 27,
   "id": "1f765fc4",
   "metadata": {},
   "outputs": [],
   "source": [
    "message = \"Merhaba, orda mısın?\""
   ]
  },
  {
   "cell_type": "code",
   "execution_count": 28,
   "id": "48881cf9",
   "metadata": {},
   "outputs": [],
   "source": [
    "# Strinleri kullanarak da set oluşturabiliriz.\n",
    "s = set(message)"
   ]
  },
  {
   "cell_type": "code",
   "execution_count": 29,
   "id": "12c201a9",
   "metadata": {},
   "outputs": [
    {
     "data": {
      "text/plain": [
       "{' ', ',', '?', 'M', 'a', 'b', 'd', 'e', 'h', 'm', 'n', 'o', 'r', 's', 'ı'}"
      ]
     },
     "execution_count": 29,
     "metadata": {},
     "output_type": "execute_result"
    }
   ],
   "source": [
    "# \" \" (boşluk) karakterini de sayıyor.\n",
    "# setler sıralı değildir.\n",
    "s"
   ]
  },
  {
   "cell_type": "code",
   "execution_count": 32,
   "id": "20008c18",
   "metadata": {},
   "outputs": [
    {
     "data": {
      "text/plain": [
       "15"
      ]
     },
     "execution_count": 32,
     "metadata": {},
     "output_type": "execute_result"
    }
   ],
   "source": [
    "len(s)"
   ]
  },
  {
   "cell_type": "code",
   "execution_count": 34,
   "id": "2ca2bd80",
   "metadata": {},
   "outputs": [],
   "source": [
    "s = set([1,2,3,4,5])"
   ]
  },
  {
   "cell_type": "code",
   "execution_count": 35,
   "id": "c94075d4",
   "metadata": {},
   "outputs": [
    {
     "data": {
      "text/plain": [
       "{1, 2, 3, 4, 5}"
      ]
     },
     "execution_count": 35,
     "metadata": {},
     "output_type": "execute_result"
    }
   ],
   "source": [
    "s"
   ]
  },
  {
   "cell_type": "code",
   "execution_count": 36,
   "id": "876c1263",
   "metadata": {},
   "outputs": [
    {
     "data": {
      "text/plain": [
       "5"
      ]
     },
     "execution_count": 36,
     "metadata": {},
     "output_type": "execute_result"
    }
   ],
   "source": [
    "len(s)"
   ]
  },
  {
   "cell_type": "code",
   "execution_count": 38,
   "id": "2b77f9dc",
   "metadata": {},
   "outputs": [],
   "source": [
    "t = (1,2,3,3,2)"
   ]
  },
  {
   "cell_type": "code",
   "execution_count": 39,
   "id": "01790e5b",
   "metadata": {},
   "outputs": [
    {
     "data": {
      "text/plain": [
       "{1, 2, 3}"
      ]
     },
     "execution_count": 39,
     "metadata": {},
     "output_type": "execute_result"
    }
   ],
   "source": [
    "set(t)"
   ]
  },
  {
   "cell_type": "code",
   "execution_count": 40,
   "id": "b78f7189",
   "metadata": {},
   "outputs": [
    {
     "data": {
      "text/plain": [
       "3"
      ]
     },
     "execution_count": 40,
     "metadata": {},
     "output_type": "execute_result"
    }
   ],
   "source": [
    "len(set(t))"
   ]
  },
  {
   "cell_type": "markdown",
   "id": "e5fa2f9e",
   "metadata": {},
   "source": [
    "# setler indexlenemez"
   ]
  },
  {
   "cell_type": "code",
   "execution_count": 41,
   "id": "bc62453c",
   "metadata": {},
   "outputs": [
    {
     "data": {
      "text/plain": [
       "{1, 2, 3, 4, 5}"
      ]
     },
     "execution_count": 41,
     "metadata": {},
     "output_type": "execute_result"
    }
   ],
   "source": [
    "s"
   ]
  },
  {
   "cell_type": "code",
   "execution_count": 42,
   "id": "74a3dfdf",
   "metadata": {},
   "outputs": [
    {
     "ename": "TypeError",
     "evalue": "'set' object is not subscriptable",
     "output_type": "error",
     "traceback": [
      "\u001b[1;31m---------------------------------------------------------------------------\u001b[0m",
      "\u001b[1;31mTypeError\u001b[0m                                 Traceback (most recent call last)",
      "Input \u001b[1;32mIn [42]\u001b[0m, in \u001b[0;36m<cell line: 1>\u001b[1;34m()\u001b[0m\n\u001b[1;32m----> 1\u001b[0m \u001b[43ms\u001b[49m\u001b[43m[\u001b[49m\u001b[38;5;241;43m0\u001b[39;49m\u001b[43m]\u001b[49m\n",
      "\u001b[1;31mTypeError\u001b[0m: 'set' object is not subscriptable"
     ]
    }
   ],
   "source": [
    "s[0]"
   ]
  },
  {
   "cell_type": "markdown",
   "id": "1da2e4aa",
   "metadata": {},
   "source": [
    "# set'e eleman ekleme"
   ]
  },
  {
   "cell_type": "code",
   "execution_count": 43,
   "id": "9af4d5f7",
   "metadata": {},
   "outputs": [],
   "source": [
    "s = {1,2,3,4,5}"
   ]
  },
  {
   "cell_type": "code",
   "execution_count": 44,
   "id": "ef532d55",
   "metadata": {},
   "outputs": [],
   "source": [
    "s.add(6)"
   ]
  },
  {
   "cell_type": "code",
   "execution_count": 45,
   "id": "0e4860b4",
   "metadata": {},
   "outputs": [
    {
     "data": {
      "text/plain": [
       "{1, 2, 3, 4, 5, 6}"
      ]
     },
     "execution_count": 45,
     "metadata": {},
     "output_type": "execute_result"
    }
   ],
   "source": [
    "s"
   ]
  },
  {
   "cell_type": "code",
   "execution_count": 46,
   "id": "616b723b",
   "metadata": {},
   "outputs": [],
   "source": [
    "# Bu kod bir error vermeyecek, ama 5 zaten sette olduğu için eklemeyecek de\n",
    "s.add(5)"
   ]
  },
  {
   "cell_type": "code",
   "execution_count": 47,
   "id": "c1321c26",
   "metadata": {},
   "outputs": [
    {
     "data": {
      "text/plain": [
       "{1, 2, 3, 4, 5, 6}"
      ]
     },
     "execution_count": 47,
     "metadata": {},
     "output_type": "execute_result"
    }
   ],
   "source": [
    "s"
   ]
  },
  {
   "cell_type": "markdown",
   "id": "97ac6783",
   "metadata": {},
   "source": [
    "# set'ten eleman silme"
   ]
  },
  {
   "cell_type": "code",
   "execution_count": 48,
   "id": "896866f3",
   "metadata": {},
   "outputs": [
    {
     "data": {
      "text/plain": [
       "{1, 2, 3, 4, 5, 6}"
      ]
     },
     "execution_count": 48,
     "metadata": {},
     "output_type": "execute_result"
    }
   ],
   "source": [
    "s"
   ]
  },
  {
   "cell_type": "code",
   "execution_count": 49,
   "id": "8647cc62",
   "metadata": {},
   "outputs": [],
   "source": [
    "s.remove(2)"
   ]
  },
  {
   "cell_type": "code",
   "execution_count": 50,
   "id": "f98d2fb8",
   "metadata": {},
   "outputs": [
    {
     "data": {
      "text/plain": [
       "{1, 3, 4, 5, 6}"
      ]
     },
     "execution_count": 50,
     "metadata": {},
     "output_type": "execute_result"
    }
   ],
   "source": [
    "s"
   ]
  },
  {
   "cell_type": "code",
   "execution_count": 51,
   "id": "6779e8b1",
   "metadata": {},
   "outputs": [
    {
     "ename": "KeyError",
     "evalue": "9",
     "output_type": "error",
     "traceback": [
      "\u001b[1;31m---------------------------------------------------------------------------\u001b[0m",
      "\u001b[1;31mKeyError\u001b[0m                                  Traceback (most recent call last)",
      "Input \u001b[1;32mIn [51]\u001b[0m, in \u001b[0;36m<cell line: 2>\u001b[1;34m()\u001b[0m\n\u001b[0;32m      1\u001b[0m \u001b[38;5;66;03m# add()'in aksine, remove() hata veriyor.\u001b[39;00m\n\u001b[1;32m----> 2\u001b[0m \u001b[43ms\u001b[49m\u001b[38;5;241;43m.\u001b[39;49m\u001b[43mremove\u001b[49m\u001b[43m(\u001b[49m\u001b[38;5;241;43m9\u001b[39;49m\u001b[43m)\u001b[49m\n",
      "\u001b[1;31mKeyError\u001b[0m: 9"
     ]
    }
   ],
   "source": [
    "# add()'in aksine, remove() hata veriyor.\n",
    "s.remove(9)"
   ]
  },
  {
   "cell_type": "code",
   "execution_count": 52,
   "id": "250ead87",
   "metadata": {},
   "outputs": [
    {
     "data": {
      "text/plain": [
       "{1, 3, 4, 5, 6}"
      ]
     },
     "execution_count": 52,
     "metadata": {},
     "output_type": "execute_result"
    }
   ],
   "source": [
    "s"
   ]
  },
  {
   "cell_type": "code",
   "execution_count": 53,
   "id": "a19b07c3",
   "metadata": {},
   "outputs": [],
   "source": [
    "# Eğer silmek istediğimiz eleman yoksa hata almak istemiyorsak, discard()'ı kullanabiliriz.\n",
    "s.discard(10)"
   ]
  },
  {
   "cell_type": "code",
   "execution_count": 69,
   "id": "0522fa93",
   "metadata": {},
   "outputs": [
    {
     "data": {
      "text/plain": [
       "{1, 3, 4, 5, 6}"
      ]
     },
     "execution_count": 69,
     "metadata": {},
     "output_type": "execute_result"
    }
   ],
   "source": [
    "s"
   ]
  },
  {
   "cell_type": "code",
   "execution_count": 70,
   "id": "b4139645",
   "metadata": {},
   "outputs": [],
   "source": [
    "s.add(10)"
   ]
  },
  {
   "cell_type": "code",
   "execution_count": 71,
   "id": "ba3c0262",
   "metadata": {},
   "outputs": [
    {
     "data": {
      "text/plain": [
       "{1, 3, 4, 5, 6, 10}"
      ]
     },
     "execution_count": 71,
     "metadata": {},
     "output_type": "execute_result"
    }
   ],
   "source": [
    "s"
   ]
  },
  {
   "cell_type": "code",
   "execution_count": 72,
   "id": "5109473f",
   "metadata": {},
   "outputs": [],
   "source": [
    "s.discard(10)"
   ]
  },
  {
   "cell_type": "code",
   "execution_count": 73,
   "id": "c3f87c93",
   "metadata": {},
   "outputs": [
    {
     "data": {
      "text/plain": [
       "{1, 3, 4, 5, 6}"
      ]
     },
     "execution_count": 73,
     "metadata": {},
     "output_type": "execute_result"
    }
   ],
   "source": [
    "s"
   ]
  },
  {
   "cell_type": "markdown",
   "id": "b1824183",
   "metadata": {},
   "source": [
    "# Difference (fark)\n",
    "\n",
    "\n",
    " * Evet geldik şimdi kümelerdeki fark konusuna. s1 kümesi ile s2 kümesinin farkına bakacağız. (s1 – s2) veya (s1 \\ s2)\n"
   ]
  },
  {
   "cell_type": "code",
   "execution_count": 74,
   "id": "335c4ce1",
   "metadata": {},
   "outputs": [],
   "source": [
    "s1 = set([1,5,10])"
   ]
  },
  {
   "cell_type": "code",
   "execution_count": 75,
   "id": "feb6860e",
   "metadata": {},
   "outputs": [],
   "source": [
    "s2 = set([2,5,3])"
   ]
  },
  {
   "cell_type": "code",
   "execution_count": 76,
   "id": "e32d2cb0",
   "metadata": {},
   "outputs": [
    {
     "data": {
      "text/plain": [
       "{1, 10}"
      ]
     },
     "execution_count": 76,
     "metadata": {},
     "output_type": "execute_result"
    }
   ],
   "source": [
    "# s1 in hangi elemanları s2 den farklıdır.\n",
    "s1.difference(s2)"
   ]
  },
  {
   "cell_type": "code",
   "execution_count": 77,
   "id": "35a0994c",
   "metadata": {},
   "outputs": [
    {
     "data": {
      "text/plain": [
       "{1, 10}"
      ]
     },
     "execution_count": 77,
     "metadata": {},
     "output_type": "execute_result"
    }
   ],
   "source": [
    "# '-' operatörü setlerde kullanıldığında bize farkı verir.\n",
    "s1 - s2"
   ]
  },
  {
   "cell_type": "code",
   "execution_count": 78,
   "id": "f798f436",
   "metadata": {},
   "outputs": [
    {
     "data": {
      "text/plain": [
       "{2, 3}"
      ]
     },
     "execution_count": 78,
     "metadata": {},
     "output_type": "execute_result"
    }
   ],
   "source": [
    "# s2 nin hangi elemanları s1 den farklıdır\n",
    "s2.difference(s1)"
   ]
  },
  {
   "cell_type": "code",
   "execution_count": 79,
   "id": "4cfda48f",
   "metadata": {},
   "outputs": [
    {
     "data": {
      "text/plain": [
       "{2, 3}"
      ]
     },
     "execution_count": 79,
     "metadata": {},
     "output_type": "execute_result"
    }
   ],
   "source": [
    "s2 - s1"
   ]
  },
  {
   "cell_type": "markdown",
   "id": "6ea20095",
   "metadata": {},
   "source": [
    "# Symmetric Difference\n",
    "\n",
    "\n",
    " * s1'in s2 den farkı ile s2'nin s1 den farkının birleşimi. (s1 \\ s2) U (s2 \\ s1) - > s1 U s2 - (s1 n s2)"
   ]
  },
  {
   "cell_type": "code",
   "execution_count": 80,
   "id": "5a3df440",
   "metadata": {},
   "outputs": [
    {
     "ename": "SyntaxError",
     "evalue": "invalid syntax (2173758119.py, line 1)",
     "output_type": "error",
     "traceback": [
      "\u001b[1;36m  Input \u001b[1;32mIn [80]\u001b[1;36m\u001b[0m\n\u001b[1;33m    U -> Birleşim\u001b[0m\n\u001b[1;37m      ^\u001b[0m\n\u001b[1;31mSyntaxError\u001b[0m\u001b[1;31m:\u001b[0m invalid syntax\n"
     ]
    }
   ],
   "source": [
    "U -> Birleşim\n",
    "\n",
    "n -> kesişim"
   ]
  },
  {
   "cell_type": "code",
   "execution_count": 81,
   "id": "94913e61",
   "metadata": {},
   "outputs": [
    {
     "data": {
      "text/plain": [
       "{1, 5, 10}"
      ]
     },
     "execution_count": 81,
     "metadata": {},
     "output_type": "execute_result"
    }
   ],
   "source": [
    "s1"
   ]
  },
  {
   "cell_type": "code",
   "execution_count": 82,
   "id": "4ee7b4b9",
   "metadata": {},
   "outputs": [
    {
     "data": {
      "text/plain": [
       "{2, 3, 5}"
      ]
     },
     "execution_count": 82,
     "metadata": {},
     "output_type": "execute_result"
    }
   ],
   "source": [
    "s2"
   ]
  },
  {
   "cell_type": "code",
   "execution_count": 84,
   "id": "5b920507",
   "metadata": {},
   "outputs": [
    {
     "data": {
      "text/plain": [
       "{1, 2, 3, 10}"
      ]
     },
     "execution_count": 84,
     "metadata": {},
     "output_type": "execute_result"
    }
   ],
   "source": [
    "# (s1 \\ s2) U (s2 \\ s1)  - > A U B - (A n B)\n",
    "s1.symmetric_difference(s2)"
   ]
  },
  {
   "cell_type": "code",
   "execution_count": 86,
   "id": "20f5e162",
   "metadata": {},
   "outputs": [
    {
     "data": {
      "text/plain": [
       "{1, 2, 3, 10}"
      ]
     },
     "execution_count": 86,
     "metadata": {},
     "output_type": "execute_result"
    }
   ],
   "source": [
    "# (s2 \\ s1) U (s1 \\ s2) same as (s1 \\ s2) U (s2 \\ s1)\n",
    "s2.symmetric_difference(s1)"
   ]
  },
  {
   "cell_type": "markdown",
   "id": "cf102a04",
   "metadata": {},
   "source": [
    "# Intersection (kesişim)"
   ]
  },
  {
   "cell_type": "code",
   "execution_count": 87,
   "id": "30dfc082",
   "metadata": {},
   "outputs": [
    {
     "data": {
      "text/plain": [
       "{1, 5, 10}"
      ]
     },
     "execution_count": 87,
     "metadata": {},
     "output_type": "execute_result"
    }
   ],
   "source": [
    "s1"
   ]
  },
  {
   "cell_type": "code",
   "execution_count": 88,
   "id": "b743d827",
   "metadata": {},
   "outputs": [
    {
     "data": {
      "text/plain": [
       "{2, 3, 5}"
      ]
     },
     "execution_count": 88,
     "metadata": {},
     "output_type": "execute_result"
    }
   ],
   "source": [
    "s2"
   ]
  },
  {
   "cell_type": "code",
   "execution_count": 89,
   "id": "29c06547",
   "metadata": {},
   "outputs": [
    {
     "data": {
      "text/plain": [
       "{5}"
      ]
     },
     "execution_count": 89,
     "metadata": {},
     "output_type": "execute_result"
    }
   ],
   "source": [
    "s1.intersection(s2)"
   ]
  },
  {
   "cell_type": "code",
   "execution_count": 90,
   "id": "113f5017",
   "metadata": {},
   "outputs": [
    {
     "data": {
      "text/plain": [
       "{5}"
      ]
     },
     "execution_count": 90,
     "metadata": {},
     "output_type": "execute_result"
    }
   ],
   "source": [
    "s2.intersection(s1)"
   ]
  },
  {
   "cell_type": "code",
   "execution_count": 91,
   "id": "3ae5a669",
   "metadata": {},
   "outputs": [
    {
     "data": {
      "text/plain": [
       "{5}"
      ]
     },
     "execution_count": 91,
     "metadata": {},
     "output_type": "execute_result"
    }
   ],
   "source": [
    "# `&` operatörü setlere uygulanınca kesişim olur\n",
    "s1 & s2"
   ]
  },
  {
   "cell_type": "code",
   "execution_count": 92,
   "id": "fcc658bd",
   "metadata": {},
   "outputs": [
    {
     "data": {
      "text/plain": [
       "{5}"
      ]
     },
     "execution_count": 92,
     "metadata": {},
     "output_type": "execute_result"
    }
   ],
   "source": [
    "# Bu işlem kesişim ile aynı sonucu verecek\n",
    "s1 - (s1-s2)"
   ]
  },
  {
   "cell_type": "code",
   "execution_count": 93,
   "id": "cc0affa6",
   "metadata": {},
   "outputs": [
    {
     "data": {
      "text/plain": [
       "{1, 5, 10}"
      ]
     },
     "execution_count": 93,
     "metadata": {},
     "output_type": "execute_result"
    }
   ],
   "source": [
    "s1"
   ]
  },
  {
   "cell_type": "code",
   "execution_count": 95,
   "id": "c3f11399",
   "metadata": {},
   "outputs": [],
   "source": [
    "# kesişim yapıp s1 in değerini buna günceller\n",
    "s1.intersection_update(s2) # s1 = s1.intersection(s2)"
   ]
  },
  {
   "cell_type": "code",
   "execution_count": 96,
   "id": "1733898d",
   "metadata": {},
   "outputs": [
    {
     "data": {
      "text/plain": [
       "{5}"
      ]
     },
     "execution_count": 96,
     "metadata": {},
     "output_type": "execute_result"
    }
   ],
   "source": [
    "s1"
   ]
  },
  {
   "cell_type": "markdown",
   "id": "54b2187f",
   "metadata": {},
   "source": [
    "# Union (Birleşim)"
   ]
  },
  {
   "cell_type": "code",
   "execution_count": 97,
   "id": "568b7c8e",
   "metadata": {},
   "outputs": [],
   "source": [
    "s1 = set([1, 5, 10])"
   ]
  },
  {
   "cell_type": "code",
   "execution_count": 98,
   "id": "6519c862",
   "metadata": {},
   "outputs": [
    {
     "data": {
      "text/plain": [
       "{1, 5, 10}"
      ]
     },
     "execution_count": 98,
     "metadata": {},
     "output_type": "execute_result"
    }
   ],
   "source": [
    "s1"
   ]
  },
  {
   "cell_type": "code",
   "execution_count": 99,
   "id": "bca28b94",
   "metadata": {},
   "outputs": [
    {
     "data": {
      "text/plain": [
       "{2, 3, 5}"
      ]
     },
     "execution_count": 99,
     "metadata": {},
     "output_type": "execute_result"
    }
   ],
   "source": [
    "s2"
   ]
  },
  {
   "cell_type": "code",
   "execution_count": 100,
   "id": "8d80447c",
   "metadata": {},
   "outputs": [
    {
     "data": {
      "text/plain": [
       "{1, 2, 3, 5, 10}"
      ]
     },
     "execution_count": 100,
     "metadata": {},
     "output_type": "execute_result"
    }
   ],
   "source": [
    "s1.union(s2)"
   ]
  },
  {
   "cell_type": "code",
   "execution_count": 101,
   "id": "a4643483",
   "metadata": {},
   "outputs": [
    {
     "data": {
      "text/plain": [
       "{1, 5, 10}"
      ]
     },
     "execution_count": 101,
     "metadata": {},
     "output_type": "execute_result"
    }
   ],
   "source": [
    "s1"
   ]
  },
  {
   "cell_type": "code",
   "execution_count": 102,
   "id": "d9b2c750",
   "metadata": {},
   "outputs": [
    {
     "data": {
      "text/plain": [
       "{1, 5, 10}"
      ]
     },
     "execution_count": 102,
     "metadata": {},
     "output_type": "execute_result"
    }
   ],
   "source": [
    "s1.union(s1)"
   ]
  },
  {
   "cell_type": "markdown",
   "id": "ead7723a",
   "metadata": {},
   "source": [
    "# Disjoint Sets\n",
    " * s1 ∩ s2 = Ø olup olmadığını kontrol eder\n",
    "\n"
   ]
  },
  {
   "cell_type": "code",
   "execution_count": 103,
   "id": "68517197",
   "metadata": {},
   "outputs": [
    {
     "data": {
      "text/plain": [
       "{1, 5, 10}"
      ]
     },
     "execution_count": 103,
     "metadata": {},
     "output_type": "execute_result"
    }
   ],
   "source": [
    "s1"
   ]
  },
  {
   "cell_type": "code",
   "execution_count": 104,
   "id": "bc8265dc",
   "metadata": {},
   "outputs": [
    {
     "data": {
      "text/plain": [
       "{2, 3, 5}"
      ]
     },
     "execution_count": 104,
     "metadata": {},
     "output_type": "execute_result"
    }
   ],
   "source": [
    "s2"
   ]
  },
  {
   "cell_type": "code",
   "execution_count": 105,
   "id": "d75f2584",
   "metadata": {},
   "outputs": [],
   "source": [
    "s3 = set([12,11])"
   ]
  },
  {
   "cell_type": "code",
   "execution_count": 106,
   "id": "3f48b010",
   "metadata": {},
   "outputs": [
    {
     "data": {
      "text/plain": [
       "{11, 12}"
      ]
     },
     "execution_count": 106,
     "metadata": {},
     "output_type": "execute_result"
    }
   ],
   "source": [
    "s3"
   ]
  },
  {
   "cell_type": "code",
   "execution_count": 107,
   "id": "6b017028",
   "metadata": {},
   "outputs": [
    {
     "data": {
      "text/plain": [
       "False"
      ]
     },
     "execution_count": 107,
     "metadata": {},
     "output_type": "execute_result"
    }
   ],
   "source": [
    "# s1 ∩ s2 ≠  Ø(boş küme) değil, o yüzden False döner\n",
    "s1.isdisjoint(s2) "
   ]
  },
  {
   "cell_type": "code",
   "execution_count": 108,
   "id": "0e175d9a",
   "metadata": {},
   "outputs": [
    {
     "data": {
      "text/plain": [
       "False"
      ]
     },
     "execution_count": 108,
     "metadata": {},
     "output_type": "execute_result"
    }
   ],
   "source": [
    "s2.isdisjoint(s1)"
   ]
  },
  {
   "cell_type": "code",
   "execution_count": 109,
   "id": "7e39fd32",
   "metadata": {},
   "outputs": [
    {
     "data": {
      "text/plain": [
       "True"
      ]
     },
     "execution_count": 109,
     "metadata": {},
     "output_type": "execute_result"
    }
   ],
   "source": [
    "s1.isdisjoint(s3)"
   ]
  },
  {
   "cell_type": "code",
   "execution_count": 110,
   "id": "11088845",
   "metadata": {},
   "outputs": [
    {
     "data": {
      "text/plain": [
       "False"
      ]
     },
     "execution_count": 110,
     "metadata": {},
     "output_type": "execute_result"
    }
   ],
   "source": [
    "len(s1.intersection(s2)) == 0"
   ]
  },
  {
   "cell_type": "markdown",
   "id": "6ff18173",
   "metadata": {},
   "source": [
    "# Subset (Alt küme)\n",
    " * s1.issubset(s2), s1'in s2'nin alt kümesi olup olmadığını kontrol eder"
   ]
  },
  {
   "cell_type": "code",
   "execution_count": 111,
   "id": "40e97721",
   "metadata": {},
   "outputs": [
    {
     "data": {
      "text/plain": [
       "{1, 5, 10}"
      ]
     },
     "execution_count": 111,
     "metadata": {},
     "output_type": "execute_result"
    }
   ],
   "source": [
    "s1"
   ]
  },
  {
   "cell_type": "code",
   "execution_count": 112,
   "id": "e551d937",
   "metadata": {},
   "outputs": [
    {
     "data": {
      "text/plain": [
       "{2, 3, 5}"
      ]
     },
     "execution_count": 112,
     "metadata": {},
     "output_type": "execute_result"
    }
   ],
   "source": [
    "s2"
   ]
  },
  {
   "cell_type": "code",
   "execution_count": 113,
   "id": "14008342",
   "metadata": {},
   "outputs": [
    {
     "data": {
      "text/plain": [
       "False"
      ]
     },
     "execution_count": 113,
     "metadata": {},
     "output_type": "execute_result"
    }
   ],
   "source": [
    "s1.issubset(s2)"
   ]
  },
  {
   "cell_type": "code",
   "execution_count": 115,
   "id": "7ab439d1",
   "metadata": {},
   "outputs": [],
   "source": [
    "s3 = set([2,5])"
   ]
  },
  {
   "cell_type": "code",
   "execution_count": 116,
   "id": "c70e1cfb",
   "metadata": {},
   "outputs": [
    {
     "data": {
      "text/plain": [
       "{2, 5}"
      ]
     },
     "execution_count": 116,
     "metadata": {},
     "output_type": "execute_result"
    }
   ],
   "source": [
    "s3"
   ]
  },
  {
   "cell_type": "code",
   "execution_count": 117,
   "id": "ce4b14bf",
   "metadata": {},
   "outputs": [
    {
     "data": {
      "text/plain": [
       "True"
      ]
     },
     "execution_count": 117,
     "metadata": {},
     "output_type": "execute_result"
    }
   ],
   "source": [
    "s3.issubset(s2)"
   ]
  },
  {
   "cell_type": "markdown",
   "id": "a4f5f1b8",
   "metadata": {},
   "source": [
    "# Superset (üst küme)\n",
    " * s2.issuperset(s3) s2'nin s3'ün üst kümesi olup olmadığını sorgular"
   ]
  },
  {
   "cell_type": "code",
   "execution_count": 118,
   "id": "12b587c9",
   "metadata": {},
   "outputs": [
    {
     "data": {
      "text/plain": [
       "{1, 5, 10}"
      ]
     },
     "execution_count": 118,
     "metadata": {},
     "output_type": "execute_result"
    }
   ],
   "source": [
    "s1"
   ]
  },
  {
   "cell_type": "code",
   "execution_count": 119,
   "id": "607c46a9",
   "metadata": {},
   "outputs": [
    {
     "data": {
      "text/plain": [
       "{2, 3, 5}"
      ]
     },
     "execution_count": 119,
     "metadata": {},
     "output_type": "execute_result"
    }
   ],
   "source": [
    "s2"
   ]
  },
  {
   "cell_type": "code",
   "execution_count": 120,
   "id": "76a2dc25",
   "metadata": {},
   "outputs": [
    {
     "data": {
      "text/plain": [
       "{2, 5}"
      ]
     },
     "execution_count": 120,
     "metadata": {},
     "output_type": "execute_result"
    }
   ],
   "source": [
    "s3"
   ]
  },
  {
   "cell_type": "code",
   "execution_count": 121,
   "id": "efd17951",
   "metadata": {},
   "outputs": [
    {
     "data": {
      "text/plain": [
       "True"
      ]
     },
     "execution_count": 121,
     "metadata": {},
     "output_type": "execute_result"
    }
   ],
   "source": [
    "s2.issuperset(s3)"
   ]
  },
  {
   "cell_type": "code",
   "execution_count": 122,
   "id": "c6d150e0",
   "metadata": {},
   "outputs": [
    {
     "data": {
      "text/plain": [
       "{2, 3, 5}"
      ]
     },
     "execution_count": 122,
     "metadata": {},
     "output_type": "execute_result"
    }
   ],
   "source": [
    "s2"
   ]
  },
  {
   "cell_type": "markdown",
   "id": "48a06b30",
   "metadata": {},
   "source": [
    "# Non-Scalar Veri Tiplerinde for\n",
    " * for döngüsünü işlerken for <değişken> in -obje- yapısında, her iterasyonda değişkenin tek tek objenin elemanlarına eşit olduğunu konuşmuştuk.\n",
    "\n",
    "\n",
    " * list, tuple, dictionary non-scalar veri tiplerini gördük ve bunların hepsinin içsel bir yapısı var, şimdi bunların elemanlarında for kullanarak iterasyon yapmaya bakalım.\n",
    "\n",
    " * Listelerde İterasyon\n",
    "\n",
    "\n",
    " * Diyelim ki öğrencilerin notlarını bir listede tutuyoruz.\n",
    "\n"
   ]
  },
  {
   "cell_type": "code",
   "execution_count": 123,
   "id": "80bb0e47",
   "metadata": {},
   "outputs": [],
   "source": [
    "notlar = [90, 72, 81, 77]"
   ]
  },
  {
   "cell_type": "code",
   "execution_count": 124,
   "id": "6fb9a686",
   "metadata": {},
   "outputs": [
    {
     "name": "stdout",
     "output_type": "stream",
     "text": [
      "90\n",
      "72\n",
      "81\n",
      "77\n"
     ]
    }
   ],
   "source": [
    "for e in notlar:\n",
    "    print(e)"
   ]
  },
  {
   "cell_type": "markdown",
   "id": "57a8f154",
   "metadata": {},
   "source": [
    " * Bu sınıftaki not ortalamasına bakmak istiyor olabilirim."
   ]
  },
  {
   "cell_type": "code",
   "execution_count": 125,
   "id": "bb94c6dc",
   "metadata": {},
   "outputs": [],
   "source": [
    "t = 0"
   ]
  },
  {
   "cell_type": "code",
   "execution_count": 126,
   "id": "6ee22454",
   "metadata": {},
   "outputs": [
    {
     "name": "stdout",
     "output_type": "stream",
     "text": [
      "80.0\n"
     ]
    }
   ],
   "source": [
    "for e in notlar:\n",
    "    t += e\n",
    "ortalama = t / len(notlar)\n",
    "print(ortalama)"
   ]
  },
  {
   "cell_type": "markdown",
   "id": "2547813f",
   "metadata": {},
   "source": [
    " * Burada e 'nin özel bir anlamı yok, sadece döngünün içinde onu kullanırken o adla referans veriyorum, adı penguen de olabilirdi.\n",
    " "
   ]
  },
  {
   "cell_type": "code",
   "execution_count": 127,
   "id": "6a6ea448",
   "metadata": {},
   "outputs": [],
   "source": [
    "t = 0"
   ]
  },
  {
   "cell_type": "code",
   "execution_count": 128,
   "id": "dadb3a94",
   "metadata": {},
   "outputs": [
    {
     "name": "stdout",
     "output_type": "stream",
     "text": [
      "Ortalama:  80.0\n"
     ]
    }
   ],
   "source": [
    "for penguen in notlar:\n",
    "    t += penguen\n",
    "    \n",
    "ortalama = t / len(notlar)\n",
    "\n",
    "print(\"Ortalama: \", ortalama)"
   ]
  },
  {
   "cell_type": "markdown",
   "id": "1f613fa1",
   "metadata": {},
   "source": [
    " * Bunun aynısını range() fonksiyonu ile de yapabilirdik.\n",
    "\n",
    "\n",
    " * for e in notlar diyince ilk iterasyonda enin değeri 90, ikincisinde 72... olarak devam etti.\n",
    "\n",
    "\n",
    " * range() ile indexlerde iterasyon yapıp indexing ile değerlerine de ulaşabilirdim. (Range belirli bir listenin indexlerinde iterasyon yapmamı sağlamıyor, range(len(notlar)) diyince bize 0,1,2.. len(notlar)-1 sayılarını verecek, bunlar da listenin indexleriyle örtüşüyor, yoksa range() index verir diye bir şey yok.)"
   ]
  },
  {
   "cell_type": "code",
   "execution_count": 132,
   "id": "f43fe3b4",
   "metadata": {},
   "outputs": [
    {
     "name": "stdout",
     "output_type": "stream",
     "text": [
      "Iteration:  0\n",
      "Iteration:  1\n",
      "Iteration:  2\n",
      "Iteration:  3\n"
     ]
    }
   ],
   "source": [
    "for i in range(4):\n",
    "              print(\"Iteration: \", i)"
   ]
  },
  {
   "cell_type": "code",
   "execution_count": 133,
   "id": "f27aa639",
   "metadata": {},
   "outputs": [],
   "source": [
    "t = 0"
   ]
  },
  {
   "cell_type": "code",
   "execution_count": 134,
   "id": "09bf5625",
   "metadata": {},
   "outputs": [
    {
     "name": "stdout",
     "output_type": "stream",
     "text": [
      "Ortamala:  80.0\n"
     ]
    }
   ],
   "source": [
    "for i in range(len(notlar)):\n",
    "    t += notlar[i]\n",
    "    \n",
    "ortalama = t / len(notlar)\n",
    "\n",
    "print(\"Ortamala: \", ortalama)"
   ]
  },
  {
   "cell_type": "markdown",
   "id": "21f179e3",
   "metadata": {},
   "source": [
    " * Diyelim ki öğretmen farketti ki herkese 5 puan az vermiş, herkesin puanını 5 arttırmak istiyor, bunu direkt listenin elemanlarında iterasyon yaparak yapamam. Listenin indexlerine erişip o değeri güncellemem lazım.\n"
   ]
  },
  {
   "cell_type": "code",
   "execution_count": 3,
   "id": "a2413ac6",
   "metadata": {},
   "outputs": [],
   "source": [
    "notlar=[90, 72, 81, 77]"
   ]
  },
  {
   "cell_type": "code",
   "execution_count": 4,
   "id": "3eb49cab",
   "metadata": {},
   "outputs": [
    {
     "data": {
      "text/plain": [
       "[90, 72, 81, 77]"
      ]
     },
     "execution_count": 4,
     "metadata": {},
     "output_type": "execute_result"
    }
   ],
   "source": [
    "notlar"
   ]
  },
  {
   "cell_type": "code",
   "execution_count": 5,
   "id": "b2fa79cc",
   "metadata": {},
   "outputs": [
    {
     "name": "stdout",
     "output_type": "stream",
     "text": [
      "90\n",
      "72\n",
      "81\n",
      "77\n"
     ]
    }
   ],
   "source": [
    "for e in notlar:\n",
    "    print(e)"
   ]
  },
  {
   "cell_type": "markdown",
   "id": "3b0474ab",
   "metadata": {},
   "source": [
    " * Buradaki e sadece notların içindeki değerler, e'yi değiştirmek listenin elemanlarını değiştirmez!"
   ]
  },
  {
   "cell_type": "code",
   "execution_count": 6,
   "id": "063b0d21",
   "metadata": {},
   "outputs": [
    {
     "name": "stdout",
     "output_type": "stream",
     "text": [
      "90\n",
      "100\n",
      "[90, 72, 81, 77]\n",
      "--------------\n",
      "72\n",
      "82\n",
      "[90, 72, 81, 77]\n",
      "--------------\n",
      "81\n",
      "91\n",
      "[90, 72, 81, 77]\n",
      "--------------\n",
      "77\n",
      "87\n",
      "[90, 72, 81, 77]\n",
      "--------------\n",
      "[90, 72, 81, 77]\n"
     ]
    }
   ],
   "source": [
    "for e in notlar:\n",
    "    print(e)\n",
    "    e = e+10\n",
    "    print(e)\n",
    "    print(notlar)\n",
    "    print(\"--------------\")\n",
    "print(notlar)"
   ]
  },
  {
   "cell_type": "markdown",
   "id": "23352ca2",
   "metadata": {},
   "source": [
    " * Güncdelleme mantığını range() ile indexlerinde iterasyon yaparak yapacağız."
   ]
  },
  {
   "cell_type": "code",
   "execution_count": 9,
   "id": "f59ba609",
   "metadata": {},
   "outputs": [],
   "source": [
    "for i in range(len(notlar)):\n",
    "    notlar[i] += 5"
   ]
  },
  {
   "cell_type": "code",
   "execution_count": 10,
   "id": "28361d1f",
   "metadata": {},
   "outputs": [
    {
     "data": {
      "text/plain": [
       "[100, 82, 91, 87]"
      ]
     },
     "execution_count": 10,
     "metadata": {},
     "output_type": "execute_result"
    }
   ],
   "source": [
    "notlar"
   ]
  },
  {
   "cell_type": "markdown",
   "id": "12458083",
   "metadata": {},
   "source": [
    " * Hadi biraz da continue mantığının alıştımasını yapmış olalım. Diyelim ki öğretmen 2. öğrencinin kağıdını doğru okumuş, 2. öğrenci (index 1'deki) hariç hepsinin değerini 5 arttıracak:"
   ]
  },
  {
   "cell_type": "code",
   "execution_count": 12,
   "id": "a469b5e8",
   "metadata": {},
   "outputs": [],
   "source": [
    "notlar = [90,72,81,77]"
   ]
  },
  {
   "cell_type": "code",
   "execution_count": 13,
   "id": "5a7af94e",
   "metadata": {},
   "outputs": [
    {
     "name": "stdout",
     "output_type": "stream",
     "text": [
      "[95, 72, 86, 82]\n"
     ]
    }
   ],
   "source": [
    "for i in range(len(notlar)):\n",
    "    if i == 1:\n",
    "        continue\n",
    "    notlar[i] += 5\n",
    "print(notlar)"
   ]
  },
  {
   "cell_type": "markdown",
   "id": "d70c4149",
   "metadata": {},
   "source": [
    " * Şimdi de break egzersizi yapalım.\n",
    "\n",
    "\n",
    " * Diyelim ki bir listenin içinde belirli bir eleman var mı diye kontrol etmek istiyoruz. Bulunca aramaya devam etmeyeceğim. Devam etme mantığını break ile sağlayacağım.\n",
    "\n",
    "\n",
    " * İlk kullanıcıya hangi sayıyı aradığını soracağız, sonra bu sayı var mı kontrol edeceğiz.\n"
   ]
  },
  {
   "cell_type": "code",
   "execution_count": 41,
   "id": "e8533602",
   "metadata": {},
   "outputs": [
    {
     "name": "stdout",
     "output_type": "stream",
     "text": [
      "Hangi sayıyı kontrol edeyim?:10\n",
      "2\n",
      "3\n",
      "40\n",
      "100\n",
      "10\n",
      "Buldum!!\n"
     ]
    }
   ],
   "source": [
    "x = int(input(\"Hangi sayıyı kontrol edeyim?:\"))\n",
    "l = [2, 3, 40, 100, 10, 1]\n",
    "\n",
    "for e in l:\n",
    "    print(e) # iterasyon break ile çıkmış mı görelim diye\n",
    "    if e == x:\n",
    "        print(\"Buldum!!\")\n",
    "        break"
   ]
  },
  {
   "cell_type": "markdown",
   "id": "c06ed2d5",
   "metadata": {},
   "source": [
    "## Tuple'lerda İterasyon\n",
    " * Listelerde iterasyondan hiç bir farkı yok. Evet kısa bir açıklama oldu ama durum bu :) . Değerlerini güncelleyemiyoruz ama bu zaten döngüden bağımsız bir durum oluyor."
   ]
  },
  {
   "cell_type": "code",
   "execution_count": 16,
   "id": "56ccf908",
   "metadata": {},
   "outputs": [],
   "source": [
    "t = (1,2,3,4)"
   ]
  },
  {
   "cell_type": "code",
   "execution_count": 17,
   "id": "54c9d76c",
   "metadata": {},
   "outputs": [
    {
     "name": "stdout",
     "output_type": "stream",
     "text": [
      "1\n",
      "2\n",
      "3\n",
      "4\n"
     ]
    }
   ],
   "source": [
    "for e in t:\n",
    "    print(e)"
   ]
  },
  {
   "cell_type": "code",
   "execution_count": 20,
   "id": "e9471872",
   "metadata": {},
   "outputs": [
    {
     "name": "stdout",
     "output_type": "stream",
     "text": [
      "10\n"
     ]
    }
   ],
   "source": [
    "toplam = 0\n",
    "\n",
    "for e in t:\n",
    "    toplam += e\n",
    "print(toplam)"
   ]
  },
  {
   "cell_type": "code",
   "execution_count": 21,
   "id": "5d6b847c",
   "metadata": {},
   "outputs": [
    {
     "name": "stdout",
     "output_type": "stream",
     "text": [
      "1\n",
      "2\n",
      "3\n",
      "4\n"
     ]
    }
   ],
   "source": [
    "for i in range(len(t)):\n",
    "    print(t[i])"
   ]
  },
  {
   "cell_type": "code",
   "execution_count": 25,
   "id": "9dabc89b",
   "metadata": {},
   "outputs": [
    {
     "ename": "TypeError",
     "evalue": "'tuple' object does not support item assignment",
     "output_type": "error",
     "traceback": [
      "\u001b[1;31m---------------------------------------------------------------------------\u001b[0m",
      "\u001b[1;31mTypeError\u001b[0m                                 Traceback (most recent call last)",
      "Input \u001b[1;32mIn [25]\u001b[0m, in \u001b[0;36m<cell line: 1>\u001b[1;34m()\u001b[0m\n\u001b[0;32m      1\u001b[0m \u001b[38;5;28;01mfor\u001b[39;00m i \u001b[38;5;129;01min\u001b[39;00m \u001b[38;5;28mrange\u001b[39m(\u001b[38;5;28mlen\u001b[39m(t)):\n\u001b[1;32m----> 2\u001b[0m     t[i] \u001b[38;5;241m+\u001b[39m\u001b[38;5;241m=\u001b[39m \u001b[38;5;241m2\u001b[39m\n",
      "\u001b[1;31mTypeError\u001b[0m: 'tuple' object does not support item assignment"
     ]
    }
   ],
   "source": [
    "for i in range(len(t)):\n",
    "    t[i] += 2"
   ]
  },
  {
   "cell_type": "markdown",
   "id": "5a97d04f",
   "metadata": {},
   "source": [
    "# Dictionary'lerde İterasyon\n",
    "\n",
    " * Burada durum biraz farklı. Default olarak elemanlarında dolaş diyince key 'lerde iterasyon yapıyor. Zaten index mantığı olmadığı için range() ile yapmak çoğu zaman karşımıza çıkmaz.\n",
    " "
   ]
  },
  {
   "cell_type": "code",
   "execution_count": 27,
   "id": "690bfd3c",
   "metadata": {},
   "outputs": [],
   "source": [
    "d = {\"student_1\": [90,89], \"student_2\": [80,83], \"student_3\": [72,71]}"
   ]
  },
  {
   "cell_type": "code",
   "execution_count": 28,
   "id": "b6365097",
   "metadata": {},
   "outputs": [
    {
     "name": "stdout",
     "output_type": "stream",
     "text": [
      "student_1\n",
      "student_2\n",
      "student_3\n"
     ]
    }
   ],
   "source": [
    "for k in d:\n",
    "    print(k)"
   ]
  },
  {
   "cell_type": "markdown",
   "id": "1924241c",
   "metadata": {},
   "source": [
    " * Değerlerine ulaşmak istiyorsam şöyle yapabilirdim:"
   ]
  },
  {
   "cell_type": "code",
   "execution_count": 29,
   "id": "2b5585c7",
   "metadata": {},
   "outputs": [
    {
     "name": "stdout",
     "output_type": "stream",
     "text": [
      "[90, 89]\n",
      "[80, 83]\n",
      "[72, 71]\n"
     ]
    }
   ],
   "source": [
    "for k in d:\n",
    "    v = d[k]\n",
    "    print(v)"
   ]
  },
  {
   "cell_type": "markdown",
   "id": "f1869f73",
   "metadata": {},
   "source": [
    " * Veya d.values() diyerek value'lerında iterasyon yapabilirim. Burada for <değişken> in 'obje' yapısında <değişken> int vs gibi şeyler değil liste gibi yapılar da olabilir iterasyon içerisinde, burada da öyle oldu.\n",
    "\n",
    " * bu .values() 'dan dolayı olan bir şey değil, dictionary'nin value'lerı int olsa böyle olmazdı.\n",
    "\n"
   ]
  },
  {
   "cell_type": "code",
   "execution_count": 30,
   "id": "892b9b3f",
   "metadata": {},
   "outputs": [],
   "source": [
    "d = {\"student_1\": 90, \"student_2\": 80, \"student_3\": 72}"
   ]
  },
  {
   "cell_type": "code",
   "execution_count": 31,
   "id": "9493cee0",
   "metadata": {},
   "outputs": [
    {
     "name": "stdout",
     "output_type": "stream",
     "text": [
      "90\n",
      "80\n",
      "72\n"
     ]
    }
   ],
   "source": [
    "for v in d.values():\n",
    "    print(v)\n"
   ]
  },
  {
   "cell_type": "code",
   "execution_count": 33,
   "id": "10d6db39",
   "metadata": {},
   "outputs": [],
   "source": [
    "d = {\"student_1\": [90,89], \"student_2\": [80,83], \"student_3\": [72,71]}"
   ]
  },
  {
   "cell_type": "code",
   "execution_count": 34,
   "id": "039cc88c",
   "metadata": {},
   "outputs": [
    {
     "name": "stdout",
     "output_type": "stream",
     "text": [
      "[90, 89]\n",
      "[80, 83]\n",
      "[72, 71]\n"
     ]
    }
   ],
   "source": [
    "for v in d.values():\n",
    "    print(v)"
   ]
  },
  {
   "cell_type": "markdown",
   "id": "dbd6059a",
   "metadata": {},
   "source": [
    " * Burada v, her iterasyonda int .\n",
    "\n",
    "\n",
    " * 85'den fazla alan biri var mı diye bakmak istiyorum diyelim, ve bunun kim olduğunu (olduklarını) bulmak istiyorum.\n"
   ]
  },
  {
   "cell_type": "code",
   "execution_count": 35,
   "id": "ceb971a9",
   "metadata": {
    "scrolled": true
   },
   "outputs": [
    {
     "name": "stdout",
     "output_type": "stream",
     "text": [
      "[90, 89]\n",
      "[80, 83]\n",
      "[72, 71]\n"
     ]
    }
   ],
   "source": [
    "for v in d.values():\n",
    "    print(v)"
   ]
  },
  {
   "cell_type": "code",
   "execution_count": 36,
   "id": "27d0059c",
   "metadata": {},
   "outputs": [],
   "source": [
    "d = {\"student_1\": 90, \"student_2\": 80, \"student_3\": 72}"
   ]
  },
  {
   "cell_type": "code",
   "execution_count": 38,
   "id": "872ce38f",
   "metadata": {},
   "outputs": [
    {
     "name": "stdout",
     "output_type": "stream",
     "text": [
      "student_1\n"
     ]
    }
   ],
   "source": [
    "for k in d:\n",
    "    value = d[k]\n",
    "    \n",
    "    if value > 85:\n",
    "        print(k)"
   ]
  },
  {
   "cell_type": "markdown",
   "id": "c3946656",
   "metadata": {},
   "source": [
    " * Aynı anda hem key hem de value'larda iterasyon yapmak için:\n",
    "\n",
    "\n",
    " * Variable unpacking konusunda bir tuple, liste gibi yapıların değerlerini birden çok değişkene bir seferde eşitlemeyi görmüştük.\n",
    "\n",
    "\n",
    " * Bunun aynısını iterasyonda da yapabiliriz.\n"
   ]
  },
  {
   "cell_type": "code",
   "execution_count": 40,
   "id": "67c4bc3d",
   "metadata": {},
   "outputs": [
    {
     "name": "stdout",
     "output_type": "stream",
     "text": [
      "key değeri: student_1 value değeri: 90\n",
      "key değeri: student_2 value değeri: 80\n",
      "key değeri: student_3 value değeri: 72\n"
     ]
    }
   ],
   "source": [
    "for k,v in d.items():\n",
    "    print(\"key değeri:\", k, \"value değeri:\", v)"
   ]
  },
  {
   "cell_type": "markdown",
   "id": "2a10ca0f",
   "metadata": {},
   "source": [
    "# split()\n",
    " * Belirli bir bölme kriterine göre string'in alt parçalarını listenin elemanları olarak dönüştürebiliriz.\n"
   ]
  },
  {
   "cell_type": "code",
   "execution_count": 43,
   "id": "58f9bd5d",
   "metadata": {},
   "outputs": [],
   "source": [
    "s = \"merhaba nasılsın ?\""
   ]
  },
  {
   "cell_type": "markdown",
   "id": "898ec6b0",
   "metadata": {},
   "source": [
    " * split()'in içine neye göre böleceğimizi yazarız."
   ]
  },
  {
   "cell_type": "code",
   "execution_count": 45,
   "id": "9e2c2af5",
   "metadata": {},
   "outputs": [
    {
     "data": {
      "text/plain": [
       "['merhaba', 'nasılsın', '?']"
      ]
     },
     "execution_count": 45,
     "metadata": {},
     "output_type": "execute_result"
    }
   ],
   "source": [
    "s.split(\" \")"
   ]
  },
  {
   "cell_type": "markdown",
   "id": "bd7ac7ac",
   "metadata": {},
   "source": [
    " * hiç bir şey yazmazsak default olarak boşluğa göre böler.\n"
   ]
  },
  {
   "cell_type": "code",
   "execution_count": 46,
   "id": "c4f93325",
   "metadata": {},
   "outputs": [
    {
     "data": {
      "text/plain": [
       "['merhaba', 'nasılsın', '?']"
      ]
     },
     "execution_count": 46,
     "metadata": {},
     "output_type": "execute_result"
    }
   ],
   "source": [
    "s.split()"
   ]
  },
  {
   "cell_type": "code",
   "execution_count": 47,
   "id": "ed3afe3c",
   "metadata": {},
   "outputs": [],
   "source": [
    "s2 = \"limon,portakal,elma\""
   ]
  },
  {
   "cell_type": "code",
   "execution_count": 48,
   "id": "12fa60fb",
   "metadata": {},
   "outputs": [
    {
     "data": {
      "text/plain": [
       "['limon,portakal,elma']"
      ]
     },
     "execution_count": 48,
     "metadata": {},
     "output_type": "execute_result"
    }
   ],
   "source": [
    "s2.split()"
   ]
  },
  {
   "cell_type": "code",
   "execution_count": 49,
   "id": "c00d7a7f",
   "metadata": {},
   "outputs": [
    {
     "data": {
      "text/plain": [
       "['limon', 'portakal', 'elma']"
      ]
     },
     "execution_count": 49,
     "metadata": {},
     "output_type": "execute_result"
    }
   ],
   "source": [
    "s2.split(\",\")"
   ]
  },
  {
   "cell_type": "markdown",
   "id": "63c7cb54",
   "metadata": {},
   "source": [
    "# Join()\n",
    " * listenin elemanları arasına belirtilen yapıyı koyup string'e dönüştürür.\n",
    "\n",
    "\n",
    " * \"patern\".join(elemanları kullanılacak liste)"
   ]
  },
  {
   "cell_type": "code",
   "execution_count": 50,
   "id": "d737d114",
   "metadata": {},
   "outputs": [],
   "source": [
    "l = ['limon', 'portakal', 'elma']"
   ]
  },
  {
   "cell_type": "code",
   "execution_count": 51,
   "id": "b2887d22",
   "metadata": {},
   "outputs": [
    {
     "data": {
      "text/plain": [
       "'limon,portakal,elma'"
      ]
     },
     "execution_count": 51,
     "metadata": {},
     "output_type": "execute_result"
    }
   ],
   "source": [
    "\",\".join(l)"
   ]
  },
  {
   "cell_type": "code",
   "execution_count": 52,
   "id": "dc4cf4c8",
   "metadata": {},
   "outputs": [],
   "source": [
    "s = \",\".join(l)"
   ]
  },
  {
   "cell_type": "code",
   "execution_count": 53,
   "id": "df0d066d",
   "metadata": {},
   "outputs": [
    {
     "data": {
      "text/plain": [
       "'limon,portakal,elma'"
      ]
     },
     "execution_count": 53,
     "metadata": {},
     "output_type": "execute_result"
    }
   ],
   "source": [
    "s"
   ]
  },
  {
   "cell_type": "code",
   "execution_count": 54,
   "id": "b5d10c96",
   "metadata": {},
   "outputs": [
    {
     "data": {
      "text/plain": [
       "'limon-portakal-elma'"
      ]
     },
     "execution_count": 54,
     "metadata": {},
     "output_type": "execute_result"
    }
   ],
   "source": [
    "\"-\".join(l)"
   ]
  },
  {
   "cell_type": "code",
   "execution_count": 55,
   "id": "72079cfe",
   "metadata": {},
   "outputs": [
    {
     "data": {
      "text/plain": [
       "'limon/portakal/elma'"
      ]
     },
     "execution_count": 55,
     "metadata": {},
     "output_type": "execute_result"
    }
   ],
   "source": [
    "\"/\".join(l)"
   ]
  },
  {
   "cell_type": "code",
   "execution_count": 56,
   "id": "8f6c4fd6",
   "metadata": {},
   "outputs": [
    {
     "data": {
      "text/plain": [
       "'limon portakal elma'"
      ]
     },
     "execution_count": 56,
     "metadata": {},
     "output_type": "execute_result"
    }
   ],
   "source": [
    "\" \".join(l)"
   ]
  },
  {
   "cell_type": "markdown",
   "id": "cef6ec88",
   "metadata": {},
   "source": [
    "# List Comprehensions\n",
    " * Yine o yeni bir şey öğrenmediğimiz ama yaptığımız şeyleri daha farklı ve kolay yapmayı öğrendiğimiz bir konudayız.\n",
    "\n",
    "\n",
    " * Diyelim ki 1'den 10'a kadar olan sayıların karelerinden bir liste oluşturmak istiyorum. Bunu aşağıdaki gibi yapabilirim.\n"
   ]
  },
  {
   "cell_type": "code",
   "execution_count": 62,
   "id": "b4ec1225",
   "metadata": {},
   "outputs": [],
   "source": [
    "squares = []"
   ]
  },
  {
   "cell_type": "code",
   "execution_count": 63,
   "id": "5ac621fb",
   "metadata": {},
   "outputs": [
    {
     "data": {
      "text/plain": [
       "[1, 4, 9, 16, 25, 36, 49, 64, 81, 100]"
      ]
     },
     "execution_count": 63,
     "metadata": {},
     "output_type": "execute_result"
    }
   ],
   "source": [
    "for i in range(1,11):\n",
    "    squares.append(i*i)\n",
    "squares"
   ]
  },
  {
   "cell_type": "markdown",
   "id": "c3cf3cc2",
   "metadata": {},
   "source": [
    " * Bunun aynısını list comprehension kullanarak da yapabiliriz."
   ]
  },
  {
   "cell_type": "code",
   "execution_count": 64,
   "id": "e1e149ad",
   "metadata": {},
   "outputs": [
    {
     "data": {
      "text/plain": [
       "[1, 4, 9, 16, 25, 36, 49, 64, 81, 100]"
      ]
     },
     "execution_count": 64,
     "metadata": {},
     "output_type": "execute_result"
    }
   ],
   "source": [
    "squares = [i * i for i in range(1,11)]\n",
    "squares"
   ]
  },
  {
   "cell_type": "code",
   "execution_count": 65,
   "id": "ce4da6bd",
   "metadata": {},
   "outputs": [],
   "source": [
    "# list comprehension ve fonksiyon mantığını birleştirme"
   ]
  },
  {
   "cell_type": "code",
   "execution_count": 66,
   "id": "46a11be8",
   "metadata": {},
   "outputs": [],
   "source": [
    "def cube(x):\n",
    "    return x * x * x # x ** 3"
   ]
  },
  {
   "cell_type": "code",
   "execution_count": 68,
   "id": "be1b84f0",
   "metadata": {},
   "outputs": [],
   "source": [
    "cubes = [cube(x) for x in range(1,11)]"
   ]
  },
  {
   "cell_type": "code",
   "execution_count": 70,
   "id": "388a8f2f",
   "metadata": {},
   "outputs": [
    {
     "data": {
      "text/plain": [
       "[1, 8, 27, 64, 125, 216, 343, 512, 729, 1000]"
      ]
     },
     "execution_count": 70,
     "metadata": {},
     "output_type": "execute_result"
    }
   ],
   "source": [
    "cubes"
   ]
  },
  {
   "cell_type": "markdown",
   "id": "9ca3f9b2",
   "metadata": {},
   "source": [
    "# List Comprehension'larda Conditional Yapıların Kullanılması"
   ]
  },
  {
   "cell_type": "code",
   "execution_count": 71,
   "id": "f3223bae",
   "metadata": {},
   "outputs": [
    {
     "name": "stdout",
     "output_type": "stream",
     "text": [
      "[1, 4, 9, 16, 25, 36, 49, 64, 81, 100]\n"
     ]
    }
   ],
   "source": [
    "squares = [1, 4, 9, 16, 25, 36, 49, 64, 81, 100]\n",
    "\n",
    "print(squares)"
   ]
  },
  {
   "cell_type": "code",
   "execution_count": 72,
   "id": "1875adf1",
   "metadata": {},
   "outputs": [
    {
     "data": {
      "text/plain": [
       "[1, 9, 25, 49, 81]"
      ]
     },
     "execution_count": 72,
     "metadata": {},
     "output_type": "execute_result"
    }
   ],
   "source": [
    "odd_squares = []\n",
    "\n",
    "for e in squares:\n",
    "    if e % 2 ==1:\n",
    "        odd_squares.append(e)\n",
    "        \n",
    "odd_squares"
   ]
  },
  {
   "cell_type": "code",
   "execution_count": 73,
   "id": "edc1ce26",
   "metadata": {},
   "outputs": [
    {
     "data": {
      "text/plain": [
       "[1, 9, 25, 49, 81]"
      ]
     },
     "execution_count": 73,
     "metadata": {},
     "output_type": "execute_result"
    }
   ],
   "source": [
    "# squares listindeki tek elemanlardan yeni bir liste yaratmak\n",
    "\n",
    "odd_squares = [e for e in squares if e % 2 == 1]\n",
    "\n",
    "\n",
    "odd_squares\n"
   ]
  },
  {
   "cell_type": "code",
   "execution_count": 75,
   "id": "3de00aad",
   "metadata": {},
   "outputs": [
    {
     "data": {
      "text/plain": [
       "[1, 9, 25, 49, 81]"
      ]
     },
     "execution_count": 75,
     "metadata": {},
     "output_type": "execute_result"
    }
   ],
   "source": [
    "# bu test mantığını fonksiyonla da sağlayabilirdik\n",
    "def is_odd(x):\n",
    "    if x % 2 == 0:\n",
    "        return False\n",
    "    if x % 2 == 1:\n",
    "        return True\n",
    "\n",
    "odd_squares = [e for e in squares if is_odd(e)]\n",
    "\n",
    "odd_squares"
   ]
  },
  {
   "cell_type": "code",
   "execution_count": 76,
   "id": "de61f2e5",
   "metadata": {},
   "outputs": [
    {
     "data": {
      "text/plain": [
       "[]"
      ]
     },
     "execution_count": 76,
     "metadata": {},
     "output_type": "execute_result"
    }
   ],
   "source": [
    "def empty(x):\n",
    "    if x % 2 == 0:\n",
    "        return False\n",
    "    if x % 2 == 1:\n",
    "        return False\n",
    "\n",
    "empty_squares = [e for e in squares if empty(e)]\n",
    "\n",
    "empty_squares"
   ]
  },
  {
   "cell_type": "code",
   "execution_count": 77,
   "id": "8d164fe3",
   "metadata": {},
   "outputs": [
    {
     "data": {
      "text/plain": [
       "[4, 16, 36, 64, 100]"
      ]
     },
     "execution_count": 77,
     "metadata": {},
     "output_type": "execute_result"
    }
   ],
   "source": [
    "def is_even(x):\n",
    "    if x % 2 == 0:\n",
    "        return True\n",
    "    if x % 2 == 1:\n",
    "        return False\n",
    "\n",
    "even_squares = [e for e in squares if is_even(e)]\n",
    "\n",
    "even_squares"
   ]
  },
  {
   "cell_type": "code",
   "execution_count": 78,
   "id": "4de88e12",
   "metadata": {},
   "outputs": [
    {
     "data": {
      "text/plain": [
       "[1, 4, 9, 16, 25, 36, 49, 64, 81, 100]"
      ]
     },
     "execution_count": 78,
     "metadata": {},
     "output_type": "execute_result"
    }
   ],
   "source": [
    "squares"
   ]
  },
  {
   "cell_type": "code",
   "execution_count": 80,
   "id": "960c30b4",
   "metadata": {},
   "outputs": [],
   "source": [
    "weird_squares = [e if e % 2 == 0 else -1 for e in squares]"
   ]
  },
  {
   "cell_type": "code",
   "execution_count": 81,
   "id": "f9cb63f5",
   "metadata": {},
   "outputs": [
    {
     "data": {
      "text/plain": [
       "[-1, 4, -1, 16, -1, 36, -1, 64, -1, 100]"
      ]
     },
     "execution_count": 81,
     "metadata": {},
     "output_type": "execute_result"
    }
   ],
   "source": [
    "weird_squares"
   ]
  },
  {
   "cell_type": "code",
   "execution_count": 82,
   "id": "ccb67ef8",
   "metadata": {},
   "outputs": [],
   "source": [
    "ultra_weird_squares = [e if e % 2 == 0 else -1 for e in squares if is_even(e)]"
   ]
  },
  {
   "cell_type": "code",
   "execution_count": 83,
   "id": "95035076",
   "metadata": {},
   "outputs": [
    {
     "data": {
      "text/plain": [
       "[4, 16, 36, 64, 100]"
      ]
     },
     "execution_count": 83,
     "metadata": {},
     "output_type": "execute_result"
    }
   ],
   "source": [
    "# Q. Soru: Bunun çıktısı ne olur ?\n",
    "ultra_weird_squares\n"
   ]
  },
  {
   "cell_type": "markdown",
   "id": "a65ede3c",
   "metadata": {},
   "source": [
    "# Set Comprehension\n"
   ]
  },
  {
   "cell_type": "code",
   "execution_count": 84,
   "id": "28547b2b",
   "metadata": {},
   "outputs": [],
   "source": [
    "numbers = [1,2,3,4,5,6,7,1,2]"
   ]
  },
  {
   "cell_type": "code",
   "execution_count": 85,
   "id": "bfeefb4e",
   "metadata": {},
   "outputs": [],
   "source": [
    "set_numbers = {s for s in numbers if s in [1,2,3,4,5,6,1,2]}"
   ]
  },
  {
   "cell_type": "code",
   "execution_count": 87,
   "id": "d2eb207e",
   "metadata": {},
   "outputs": [
    {
     "data": {
      "text/plain": [
       "{1, 2, 3, 4, 5, 6}"
      ]
     },
     "execution_count": 87,
     "metadata": {},
     "output_type": "execute_result"
    }
   ],
   "source": [
    "set_numbers"
   ]
  },
  {
   "cell_type": "markdown",
   "id": "4b50d4e8",
   "metadata": {},
   "source": [
    "# Dictionary Comprehension"
   ]
  },
  {
   "cell_type": "code",
   "execution_count": 88,
   "id": "28fd74f6",
   "metadata": {},
   "outputs": [],
   "source": [
    "square_dict = {e:e * e for e in range(1,11)}"
   ]
  },
  {
   "cell_type": "code",
   "execution_count": 89,
   "id": "14b14e57",
   "metadata": {},
   "outputs": [
    {
     "data": {
      "text/plain": [
       "{1: 1, 2: 4, 3: 9, 4: 16, 5: 25, 6: 36, 7: 49, 8: 64, 9: 81, 10: 100}"
      ]
     },
     "execution_count": 89,
     "metadata": {},
     "output_type": "execute_result"
    }
   ],
   "source": [
    "square_dict"
   ]
  },
  {
   "cell_type": "code",
   "execution_count": 90,
   "id": "dbcad940",
   "metadata": {},
   "outputs": [
    {
     "data": {
      "text/plain": [
       "81"
      ]
     },
     "execution_count": 90,
     "metadata": {},
     "output_type": "execute_result"
    }
   ],
   "source": [
    "square_dict[9]"
   ]
  },
  {
   "cell_type": "markdown",
   "id": "1e7821ff",
   "metadata": {},
   "source": [
    "# Nested List Comprehension"
   ]
  },
  {
   "cell_type": "code",
   "execution_count": 95,
   "id": "8e758284",
   "metadata": {},
   "outputs": [],
   "source": [
    "m = [[j for j in range(7)] for i in range(5)]"
   ]
  },
  {
   "cell_type": "code",
   "execution_count": 96,
   "id": "a3f9f9d8",
   "metadata": {},
   "outputs": [
    {
     "data": {
      "text/plain": [
       "[[0, 1, 2, 3, 4, 5, 6],\n",
       " [0, 1, 2, 3, 4, 5, 6],\n",
       " [0, 1, 2, 3, 4, 5, 6],\n",
       " [0, 1, 2, 3, 4, 5, 6],\n",
       " [0, 1, 2, 3, 4, 5, 6]]"
      ]
     },
     "execution_count": 96,
     "metadata": {},
     "output_type": "execute_result"
    }
   ],
   "source": [
    "m"
   ]
  },
  {
   "cell_type": "code",
   "execution_count": 97,
   "id": "ccf725fc",
   "metadata": {},
   "outputs": [],
   "source": [
    "m = [[10, 11, 12], [13, 14], [15, 16, 17, 18]] \n"
   ]
  },
  {
   "cell_type": "code",
   "execution_count": 98,
   "id": "9a052852",
   "metadata": {},
   "outputs": [
    {
     "name": "stdout",
     "output_type": "stream",
     "text": [
      "[10, 11, 12]\n",
      "[13, 14]\n",
      "[15, 16, 17, 18]\n"
     ]
    }
   ],
   "source": [
    "for l in m:\n",
    "    print(l)"
   ]
  },
  {
   "cell_type": "code",
   "execution_count": 99,
   "id": "3bfaf036",
   "metadata": {},
   "outputs": [
    {
     "name": "stdout",
     "output_type": "stream",
     "text": [
      "[10, 11, 12]\n",
      "10\n",
      "11\n",
      "12\n",
      "[13, 14]\n",
      "13\n",
      "14\n",
      "[15, 16, 17, 18]\n",
      "15\n",
      "16\n",
      "17\n",
      "18\n"
     ]
    }
   ],
   "source": [
    "new_m = []\n",
    "for l in m:\n",
    "    print(l)\n",
    "    for e in l:\n",
    "        new_m.append(e)\n",
    "        print(e)\n",
    "    "
   ]
  },
  {
   "cell_type": "code",
   "execution_count": 100,
   "id": "219c9c88",
   "metadata": {},
   "outputs": [
    {
     "data": {
      "text/plain": [
       "[10, 11, 12, 13, 14, 15, 16, 17, 18]"
      ]
     },
     "execution_count": 100,
     "metadata": {},
     "output_type": "execute_result"
    }
   ],
   "source": [
    "new_m"
   ]
  },
  {
   "cell_type": "code",
   "execution_count": 101,
   "id": "f8fdd26c",
   "metadata": {},
   "outputs": [
    {
     "data": {
      "text/plain": [
       "[[10, 11, 12], [13, 14], [15, 16, 17, 18]]"
      ]
     },
     "execution_count": 101,
     "metadata": {},
     "output_type": "execute_result"
    }
   ],
   "source": [
    "m"
   ]
  },
  {
   "cell_type": "code",
   "execution_count": 103,
   "id": "510a7b35",
   "metadata": {},
   "outputs": [],
   "source": [
    "# matrixi list comprehension ile flat etmek\n",
    "\n",
    "flatten_m = [e for l in m for e in l]"
   ]
  },
  {
   "cell_type": "code",
   "execution_count": 104,
   "id": "a64d43c0",
   "metadata": {},
   "outputs": [
    {
     "data": {
      "text/plain": [
       "[10, 11, 12, 13, 14, 15, 16, 17, 18]"
      ]
     },
     "execution_count": 104,
     "metadata": {},
     "output_type": "execute_result"
    }
   ],
   "source": [
    "flatten_m"
   ]
  },
  {
   "cell_type": "code",
   "execution_count": 105,
   "id": "4a6e7014",
   "metadata": {},
   "outputs": [],
   "source": [
    "# Sadece çift değerleri kabul edecek\n",
    "\n",
    "flatten_m = [e for l in m for e in l if e % 2 == 0]"
   ]
  },
  {
   "cell_type": "code",
   "execution_count": 106,
   "id": "da916c5d",
   "metadata": {},
   "outputs": [
    {
     "data": {
      "text/plain": [
       "[10, 12, 14, 16, 18]"
      ]
     },
     "execution_count": 106,
     "metadata": {},
     "output_type": "execute_result"
    }
   ],
   "source": [
    "flatten_m"
   ]
  },
  {
   "cell_type": "markdown",
   "id": "b5b4a795",
   "metadata": {},
   "source": [
    "# Variable Unpacking\n",
    " * Şimdiye kadar hep tek değişkene tek değer verdik.\n",
    "\n",
    "\n",
    " * Peki bir seferde birden çok değişkene değer vermek için ne yaparız?\n",
    "\n",
    "\n",
    " * Aşağıdaki kodun sonucu,\n",
    "  \n",
    "  x=4\n",
    "\n",
    "  y=7\n",
    "\n",
    "  ile aynı"
   ]
  },
  {
   "cell_type": "code",
   "execution_count": 107,
   "id": "a15f8671",
   "metadata": {},
   "outputs": [],
   "source": [
    "x, y =(4, 7)"
   ]
  },
  {
   "cell_type": "code",
   "execution_count": null,
   "id": "489e7cbf",
   "metadata": {},
   "outputs": [],
   "source": []
  },
  {
   "cell_type": "code",
   "execution_count": 108,
   "id": "64c97df9",
   "metadata": {},
   "outputs": [
    {
     "data": {
      "text/plain": [
       "4"
      ]
     },
     "execution_count": 108,
     "metadata": {},
     "output_type": "execute_result"
    }
   ],
   "source": [
    "x"
   ]
  },
  {
   "cell_type": "code",
   "execution_count": 109,
   "id": "db4b8efe",
   "metadata": {},
   "outputs": [
    {
     "data": {
      "text/plain": [
       "7"
      ]
     },
     "execution_count": 109,
     "metadata": {},
     "output_type": "execute_result"
    }
   ],
   "source": [
    "y"
   ]
  },
  {
   "cell_type": "markdown",
   "id": "e4d03e34",
   "metadata": {},
   "source": [
    " * 2'den çok değere de bunu yapabiliriz.\n",
    " "
   ]
  },
  {
   "cell_type": "code",
   "execution_count": 110,
   "id": "be833727",
   "metadata": {},
   "outputs": [],
   "source": [
    "x, y, z = (4, 7, 11)"
   ]
  },
  {
   "cell_type": "code",
   "execution_count": 111,
   "id": "427dbb8f",
   "metadata": {},
   "outputs": [
    {
     "name": "stdout",
     "output_type": "stream",
     "text": [
      "4 7 11\n"
     ]
    }
   ],
   "source": [
    "print(x, y ,z)"
   ]
  },
  {
   "cell_type": "code",
   "execution_count": null,
   "id": "e4f2a00b",
   "metadata": {},
   "outputs": [],
   "source": []
  },
  {
   "cell_type": "markdown",
   "id": "1b22b4fd",
   "metadata": {},
   "source": [
    " * Bazı Değerlere İhtiyacım Yoksa:\n",
    "\n",
    "\n",
    " * Diyelim ki soldaki yapının sadece birinci elemanına bir değer eşitleyip kullanmak istiyorum. Daha önce döngülerde yaptığımız gibi kulllanmayacağımız değişkene _ diyebiliriz.\n",
    "\n"
   ]
  },
  {
   "cell_type": "code",
   "execution_count": 112,
   "id": "b2de3ba0",
   "metadata": {},
   "outputs": [],
   "source": [
    "x, _ = (4, 7)"
   ]
  },
  {
   "cell_type": "code",
   "execution_count": 113,
   "id": "fccac421",
   "metadata": {},
   "outputs": [],
   "source": [
    "#Sol ve Sağdaki Yapı Farklı Sayıdaysa:"
   ]
  },
  {
   "cell_type": "code",
   "execution_count": 114,
   "id": "d0601af6",
   "metadata": {},
   "outputs": [
    {
     "ename": "ValueError",
     "evalue": "too many values to unpack (expected 3)",
     "output_type": "error",
     "traceback": [
      "\u001b[1;31m---------------------------------------------------------------------------\u001b[0m",
      "\u001b[1;31mValueError\u001b[0m                                Traceback (most recent call last)",
      "Input \u001b[1;32mIn [114]\u001b[0m, in \u001b[0;36m<cell line: 1>\u001b[1;34m()\u001b[0m\n\u001b[1;32m----> 1\u001b[0m x, y, z \u001b[38;5;241m=\u001b[39m (\u001b[38;5;241m4\u001b[39m, \u001b[38;5;241m7\u001b[39m, \u001b[38;5;241m11\u001b[39m, \u001b[38;5;241m4\u001b[39m, \u001b[38;5;241m21\u001b[39m)\n",
      "\u001b[1;31mValueError\u001b[0m: too many values to unpack (expected 3)"
     ]
    }
   ],
   "source": [
    "x, y, z = (4, 7, 11, 4, 21)"
   ]
  },
  {
   "cell_type": "markdown",
   "id": "f2cb0c56",
   "metadata": {},
   "source": [
    " * Bunu gidermek için * yapısını kullanacağız. Aşağıdaki kod şu demek oluyor: İlk iki elemanı x ve y'ye eşitle, sonuna kadar kalan diğer tüm elemanları z'ye eşitle. Bunun sonunda z 11,2,21'den oluşacak, tipi list olacak.\n"
   ]
  },
  {
   "cell_type": "code",
   "execution_count": 115,
   "id": "1b73e3e3",
   "metadata": {},
   "outputs": [],
   "source": [
    "x, y, *z = (4, 7, 11, 4, 21)"
   ]
  },
  {
   "cell_type": "code",
   "execution_count": 116,
   "id": "0d197aeb",
   "metadata": {},
   "outputs": [
    {
     "data": {
      "text/plain": [
       "4"
      ]
     },
     "execution_count": 116,
     "metadata": {},
     "output_type": "execute_result"
    }
   ],
   "source": [
    "x"
   ]
  },
  {
   "cell_type": "code",
   "execution_count": 117,
   "id": "cff93af7",
   "metadata": {},
   "outputs": [
    {
     "data": {
      "text/plain": [
       "7"
      ]
     },
     "execution_count": 117,
     "metadata": {},
     "output_type": "execute_result"
    }
   ],
   "source": [
    "y"
   ]
  },
  {
   "cell_type": "code",
   "execution_count": 118,
   "id": "2d4eec04",
   "metadata": {},
   "outputs": [
    {
     "data": {
      "text/plain": [
       "[11, 4, 21]"
      ]
     },
     "execution_count": 118,
     "metadata": {},
     "output_type": "execute_result"
    }
   ],
   "source": [
    "z"
   ]
  },
  {
   "cell_type": "code",
   "execution_count": 120,
   "id": "1fc6945c",
   "metadata": {},
   "outputs": [
    {
     "data": {
      "text/plain": [
       "list"
      ]
     },
     "execution_count": 120,
     "metadata": {},
     "output_type": "execute_result"
    }
   ],
   "source": [
    "type(z)"
   ]
  },
  {
   "cell_type": "markdown",
   "id": "650bce50",
   "metadata": {},
   "source": [
    " * Diyelim ki ilk 2 'sini eşitleyip kalan hepsini görmezden gelmek istiyorum."
   ]
  },
  {
   "cell_type": "code",
   "execution_count": 122,
   "id": "f3dc1257",
   "metadata": {},
   "outputs": [],
   "source": [
    "x, y, *_ = (4, 7, 11, 12, 13)"
   ]
  },
  {
   "cell_type": "code",
   "execution_count": 123,
   "id": "3142154f",
   "metadata": {},
   "outputs": [
    {
     "data": {
      "text/plain": [
       "4"
      ]
     },
     "execution_count": 123,
     "metadata": {},
     "output_type": "execute_result"
    }
   ],
   "source": [
    "x"
   ]
  },
  {
   "cell_type": "code",
   "execution_count": 124,
   "id": "8c78a93b",
   "metadata": {},
   "outputs": [
    {
     "data": {
      "text/plain": [
       "7"
      ]
     },
     "execution_count": 124,
     "metadata": {},
     "output_type": "execute_result"
    }
   ],
   "source": [
    "y"
   ]
  },
  {
   "cell_type": "markdown",
   "id": "3a11f28b",
   "metadata": {},
   "source": [
    " * İlk 2 ve son değeri belirli bir değişkene, arada kalanların hepsini başka bir değişkene eşitlemek istiyorsam:"
   ]
  },
  {
   "cell_type": "code",
   "execution_count": 125,
   "id": "0206dab3",
   "metadata": {},
   "outputs": [],
   "source": [
    "x, y, *z, t = (4, 7, 11, 4, 21)"
   ]
  },
  {
   "cell_type": "code",
   "execution_count": 126,
   "id": "7140d56c",
   "metadata": {},
   "outputs": [
    {
     "data": {
      "text/plain": [
       "4"
      ]
     },
     "execution_count": 126,
     "metadata": {},
     "output_type": "execute_result"
    }
   ],
   "source": [
    "x"
   ]
  },
  {
   "cell_type": "code",
   "execution_count": 127,
   "id": "8fe8cf6b",
   "metadata": {},
   "outputs": [
    {
     "data": {
      "text/plain": [
       "7"
      ]
     },
     "execution_count": 127,
     "metadata": {},
     "output_type": "execute_result"
    }
   ],
   "source": [
    "y"
   ]
  },
  {
   "cell_type": "code",
   "execution_count": 128,
   "id": "d8d63b7e",
   "metadata": {},
   "outputs": [
    {
     "data": {
      "text/plain": [
       "[11, 4]"
      ]
     },
     "execution_count": 128,
     "metadata": {},
     "output_type": "execute_result"
    }
   ],
   "source": [
    "z"
   ]
  },
  {
   "cell_type": "code",
   "execution_count": 129,
   "id": "aedef44d",
   "metadata": {},
   "outputs": [
    {
     "data": {
      "text/plain": [
       "21"
      ]
     },
     "execution_count": 129,
     "metadata": {},
     "output_type": "execute_result"
    }
   ],
   "source": [
    "t"
   ]
  },
  {
   "cell_type": "markdown",
   "id": "583d50b7",
   "metadata": {},
   "source": [
    " * Aynı şekilde son 2'yi de belirtebiliriz."
   ]
  },
  {
   "cell_type": "code",
   "execution_count": 130,
   "id": "ef031fb0",
   "metadata": {},
   "outputs": [],
   "source": [
    "x, y, *z, t, u = (4, 7, 11, 4, 21, 32, 2)"
   ]
  },
  {
   "cell_type": "code",
   "execution_count": 131,
   "id": "2e3b9d81",
   "metadata": {},
   "outputs": [
    {
     "data": {
      "text/plain": [
       "[11, 4, 21]"
      ]
     },
     "execution_count": 131,
     "metadata": {},
     "output_type": "execute_result"
    }
   ],
   "source": [
    "z"
   ]
  },
  {
   "cell_type": "code",
   "execution_count": 132,
   "id": "d6b1513c",
   "metadata": {},
   "outputs": [
    {
     "data": {
      "text/plain": [
       "32"
      ]
     },
     "execution_count": 132,
     "metadata": {},
     "output_type": "execute_result"
    }
   ],
   "source": [
    "t"
   ]
  },
  {
   "cell_type": "code",
   "execution_count": 133,
   "id": "6992836b",
   "metadata": {},
   "outputs": [
    {
     "data": {
      "text/plain": [
       "2"
      ]
     },
     "execution_count": 133,
     "metadata": {},
     "output_type": "execute_result"
    }
   ],
   "source": [
    "u"
   ]
  },
  {
   "cell_type": "markdown",
   "id": "c3875104",
   "metadata": {},
   "source": [
    " * Ama aşağıdaki kod error verir, çünkü y ve t için kaç tane alacağını bilmiyor."
   ]
  },
  {
   "cell_type": "code",
   "execution_count": 134,
   "id": "02328ee8",
   "metadata": {},
   "outputs": [
    {
     "ename": "SyntaxError",
     "evalue": "multiple starred expressions in assignment (928660696.py, line 2)",
     "output_type": "error",
     "traceback": [
      "\u001b[1;36m  Input \u001b[1;32mIn [134]\u001b[1;36m\u001b[0m\n\u001b[1;33m    x, *y, *t = (4, 7, 11, 4)\u001b[0m\n\u001b[1;37m    ^\u001b[0m\n\u001b[1;31mSyntaxError\u001b[0m\u001b[1;31m:\u001b[0m multiple starred expressions in assignment\n"
     ]
    }
   ],
   "source": [
    "# It will give an error\n",
    "x, *y, *t = (4, 7, 11, 4)"
   ]
  },
  {
   "cell_type": "code",
   "execution_count": null,
   "id": "2b5c3ddf",
   "metadata": {},
   "outputs": [],
   "source": []
  },
  {
   "cell_type": "markdown",
   "id": "c580c0b7",
   "metadata": {},
   "source": [
    "# Enumerate\n",
    " * for ile non-scalar yapılar içerisinde dolaşırken ya elemanları ya da indexleri üzerinde dolanmıştık, ama neden ikisi de aynı anda olmasın?\n",
    "\n",
    "\n",
    " * Variable Unpacking konusunda bir tuple, liste gibi yapıların değerlerini birden çok değişkene bir seferde eşitlemeyi görmüştük.\n",
    "\n",
    "\n",
    " * Bunun aynısını iterasyonda da yapabiliriz.\n"
   ]
  },
  {
   "cell_type": "code",
   "execution_count": 135,
   "id": "64938f12",
   "metadata": {},
   "outputs": [],
   "source": [
    "l = [(1,2), (10,20)]"
   ]
  },
  {
   "cell_type": "code",
   "execution_count": 136,
   "id": "d502f9b6",
   "metadata": {},
   "outputs": [
    {
     "name": "stdout",
     "output_type": "stream",
     "text": [
      "(1, 2)\n",
      "(10, 20)\n"
     ]
    }
   ],
   "source": [
    "for e in l:\n",
    "    print(e)"
   ]
  },
  {
   "cell_type": "code",
   "execution_count": 137,
   "id": "c637f1e9",
   "metadata": {},
   "outputs": [
    {
     "name": "stdout",
     "output_type": "stream",
     "text": [
      "1\n",
      "2\n",
      "*********\n",
      "10\n",
      "20\n",
      "*********\n"
     ]
    }
   ],
   "source": [
    "for e in l:\n",
    "    a, b = e\n",
    "    print(a)\n",
    "    print(b)\n",
    "    print(\"*********\")"
   ]
  },
  {
   "cell_type": "code",
   "execution_count": 138,
   "id": "81ed6cbf",
   "metadata": {},
   "outputs": [
    {
     "name": "stdout",
     "output_type": "stream",
     "text": [
      "tuple'ın ilk elemanı 1\n",
      "tuple'ın ikinci elemanı 2\n",
      "-----------------------------\n",
      "tuple'ın ilk elemanı 10\n",
      "tuple'ın ikinci elemanı 20\n",
      "-----------------------------\n"
     ]
    }
   ],
   "source": [
    "for a, b in l:\n",
    "    print(\"tuple'ın ilk elemanı\", a)\n",
    "    print(\"tuple'ın ikinci elemanı\", b)\n",
    "    print(\"-----------------------------\")"
   ]
  },
  {
   "cell_type": "markdown",
   "id": "340a6090",
   "metadata": {},
   "source": [
    " * enumerate() bize (index, element) olarak verecek."
   ]
  },
  {
   "cell_type": "code",
   "execution_count": 139,
   "id": "7e337a43",
   "metadata": {},
   "outputs": [],
   "source": [
    "adlar = ['Tyler', 'Blake', 'Cory', 'Cameron']\n"
   ]
  },
  {
   "cell_type": "code",
   "execution_count": 140,
   "id": "29f91015",
   "metadata": {},
   "outputs": [
    {
     "name": "stdout",
     "output_type": "stream",
     "text": [
      "Tyler\n",
      "Blake\n",
      "Cory\n",
      "Cameron\n"
     ]
    }
   ],
   "source": [
    "for e in adlar:\n",
    "    print(e)"
   ]
  },
  {
   "cell_type": "code",
   "execution_count": 141,
   "id": "c99b1bd9",
   "metadata": {},
   "outputs": [
    {
     "name": "stdout",
     "output_type": "stream",
     "text": [
      "0 indexindeki eleman: Tyler\n",
      "1 indexindeki eleman: Blake\n",
      "2 indexindeki eleman: Cory\n",
      "3 indexindeki eleman: Cameron\n"
     ]
    }
   ],
   "source": [
    "for i, e in enumerate(adlar):\n",
    "    print(i, \"indexindeki eleman:\", e)"
   ]
  },
  {
   "cell_type": "markdown",
   "id": "23b7342e",
   "metadata": {},
   "source": [
    " * enumerate() 0'dan başlamak zorunda değil, özellikle kaçtan başlayacağını belirtebiliriz.\n"
   ]
  },
  {
   "cell_type": "code",
   "execution_count": 143,
   "id": "fb1a54e4",
   "metadata": {},
   "outputs": [
    {
     "name": "stdout",
     "output_type": "stream",
     "text": [
      "100 lokasyonunda bulunan eleman: Tyler\n",
      "101 lokasyonunda bulunan eleman: Blake\n",
      "102 lokasyonunda bulunan eleman: Cory\n",
      "103 lokasyonunda bulunan eleman: Cameron\n"
     ]
    }
   ],
   "source": [
    "for i, e in enumerate(adlar, start = 100):\n",
    "    print(i, \"lokasyonunda bulunan eleman:\", e)"
   ]
  },
  {
   "cell_type": "markdown",
   "id": "e2ee6c83",
   "metadata": {},
   "source": [
    "# zip()\n",
    " * Farklı yapıların içinde paralel iterasyon yapmamızı sağlar. \n"
   ]
  },
  {
   "cell_type": "code",
   "execution_count": 154,
   "id": "9ca3a6c5",
   "metadata": {},
   "outputs": [],
   "source": [
    "ogrenciler = [\"ogrenci_1\", \"ogrenci_2\", \"ogrenci_3\"]"
   ]
  },
  {
   "cell_type": "code",
   "execution_count": 155,
   "id": "0e69cee6",
   "metadata": {},
   "outputs": [],
   "source": [
    "notlar = [90,80,72]"
   ]
  },
  {
   "cell_type": "code",
   "execution_count": 156,
   "id": "8713f975",
   "metadata": {},
   "outputs": [
    {
     "name": "stdout",
     "output_type": "stream",
     "text": [
      "ogrenci_1 90\n",
      "ogrenci_2 80\n",
      "ogrenci_3 72\n"
     ]
    }
   ],
   "source": [
    "for s, g in zip(ogrenciler, notlar):\n",
    "    print(s, g)"
   ]
  },
  {
   "cell_type": "code",
   "execution_count": 157,
   "id": "b614d951",
   "metadata": {},
   "outputs": [
    {
     "name": "stdout",
     "output_type": "stream",
     "text": [
      "('ogrenci_1', 90)\n",
      "('ogrenci_2', 80)\n",
      "('ogrenci_3', 72)\n"
     ]
    }
   ],
   "source": [
    "for e in zip(ogrenciler, notlar):\n",
    "    print(e)"
   ]
  },
  {
   "cell_type": "code",
   "execution_count": 158,
   "id": "61327b7c",
   "metadata": {},
   "outputs": [
    {
     "name": "stdout",
     "output_type": "stream",
     "text": [
      "ogrenci_1 90\n",
      "ogrenci_2 80\n",
      "ogrenci_3 72\n"
     ]
    }
   ],
   "source": [
    "for i in range(len(ogrenciler)):\n",
    "    print(ogrenciler[i], notlar[i])"
   ]
  },
  {
   "cell_type": "markdown",
   "id": "e20f7007",
   "metadata": {},
   "source": [
    " * zip() örnek"
   ]
  },
  {
   "cell_type": "code",
   "execution_count": 161,
   "id": "0b95f77f",
   "metadata": {},
   "outputs": [],
   "source": [
    "# Her ayki karı hesaplamak\n",
    "satis = [3500.00, 76300.00, 67200.00]"
   ]
  },
  {
   "cell_type": "code",
   "execution_count": 162,
   "id": "541fdc3c",
   "metadata": {},
   "outputs": [],
   "source": [
    "maliyet = [56700.00, 21900.00, 12100.00]"
   ]
  },
  {
   "cell_type": "code",
   "execution_count": 163,
   "id": "005ad670",
   "metadata": {},
   "outputs": [
    {
     "name": "stdout",
     "output_type": "stream",
     "text": [
      "Total profit: -53200.0\n",
      "Total profit: 54400.0\n",
      "Total profit: 55100.0\n"
     ]
    }
   ],
   "source": [
    "for i in range(len(maliyet)):\n",
    "    s = satis[i]\n",
    "    c = maliyet[i]\n",
    "    \n",
    "    kar = s - c\n",
    "    print(f'Total profit: {kar}')"
   ]
  },
  {
   "cell_type": "code",
   "execution_count": 166,
   "id": "b242140d",
   "metadata": {},
   "outputs": [
    {
     "name": "stdout",
     "output_type": "stream",
     "text": [
      "Total profit: -53200.0\n",
      "Total profit: 54400.0\n",
      "Total profit: 55100.0\n"
     ]
    }
   ],
   "source": [
    "satis = [3500.00, 76300.00, 67200.00]\n",
    "maliyet = [56700.00, 21900.00, 12100.00]\n",
    "for s, c in zip(satis, maliyet):\n",
    "    \n",
    "    kar = s - c\n",
    "    print(f'Total profit: {kar}')"
   ]
  },
  {
   "cell_type": "markdown",
   "id": "470418dd",
   "metadata": {},
   "source": [
    " * zip() ile Dictionary Yaratmak:"
   ]
  },
  {
   "cell_type": "code",
   "execution_count": 167,
   "id": "b1d8e3ce",
   "metadata": {},
   "outputs": [],
   "source": [
    "keys = ['isim', 'soyad', 'ulke', 'is']\n",
    "values = ['Denis', 'Walker', 'Turkey', 'data scientist']"
   ]
  },
  {
   "cell_type": "code",
   "execution_count": 173,
   "id": "0f9cf65b",
   "metadata": {},
   "outputs": [],
   "source": [
    "d = {}\n",
    "for k, v in zip(keys, values):\n",
    "    d[k] = v"
   ]
  },
  {
   "cell_type": "code",
   "execution_count": 170,
   "id": "3a6bc382",
   "metadata": {},
   "outputs": [
    {
     "data": {
      "text/plain": [
       "{'isim': 'Denis', 'soyad': 'Walker', 'ulke': 'Turkey', 'is': 'data scientist'}"
      ]
     },
     "execution_count": 170,
     "metadata": {},
     "output_type": "execute_result"
    }
   ],
   "source": [
    "d"
   ]
  },
  {
   "cell_type": "code",
   "execution_count": 174,
   "id": "0a88b34c",
   "metadata": {},
   "outputs": [],
   "source": [
    "d = {}\n",
    "for i in range(len(keys)):\n",
    "    k = keys[i]\n",
    "    v = values[i]\n",
    "    \n",
    "    d[k] = v"
   ]
  },
  {
   "cell_type": "code",
   "execution_count": 175,
   "id": "469a92b3",
   "metadata": {},
   "outputs": [
    {
     "data": {
      "text/plain": [
       "{'isim': 'Denis', 'soyad': 'Walker', 'ulke': 'Turkey', 'is': 'data scientist'}"
      ]
     },
     "execution_count": 175,
     "metadata": {},
     "output_type": "execute_result"
    }
   ],
   "source": [
    "d"
   ]
  },
  {
   "cell_type": "code",
   "execution_count": 172,
   "id": "371ce7f3",
   "metadata": {},
   "outputs": [
    {
     "data": {
      "text/plain": [
       "'Denis'"
      ]
     },
     "execution_count": 172,
     "metadata": {},
     "output_type": "execute_result"
    }
   ],
   "source": [
    "d[\"isim\"]"
   ]
  },
  {
   "cell_type": "markdown",
   "id": "7dc6b312",
   "metadata": {},
   "source": [
    "# Fonksiyonlar\n",
    "\n",
    "\n",
    " * Çok kod yazmak her zaman iyi bir şey demek değil.\n",
    "\n",
    "\n",
    " * Minimal ve okunabilir olması daha önemli.\n",
    "\n",
    "\n",
    " * Gereksiz kod tekrarından kaçınmak gerekir.\n",
    "\n",
    "\n",
    " * Bu konularda gayet yardımcı olabilecek bir yapıyı göreceğiz bugün. - fonksiyonlar\n",
    "\n",
    "\n",
    " * Belirli Fonksiyonalite katan kod bloklarını belirli bir yapı altında tutup, o işleme ihtiyaç duyduğum zaman tekrar tekrar kullanabilirim. Bu yapı fonksiyonlar\n",
    "\n",
    "\n",
    " * Fonksiyonlar kodumuzda abstraction (soyutlama) ve decomposition (problemi küçük parçalara ayırma) (modülerlik) yapmamızı sağlar.\n",
    "\n",
    "\n",
    "# Abstraction Nedir?\n",
    "\n",
    "\n",
    "\n",
    "Bir araba düşünün:\n",
    "\n",
    "\n",
    "\n",
    " * Araba bizi istediğimiz yere götüren bir araçtır.\n",
    "\n",
    "\n",
    " * Arabanın hareketini sağlayan arka planda çokça mekanizma var.\n",
    "\n",
    "\n",
    " * Motor, yanma vs gibi...\n",
    "\n",
    "\n",
    " * Ama aracı kullanırken bunları hiç düşünmüyoruz, sürmemiz için gerekli olan sadece pedallara basmak ve direksiyonu çevirmek.\n",
    "\n",
    "\n",
    " * abstraction 'nın temel mantığı ayrıntılardansa bütünü düşünmek. Arabayı kullanmak için, arabanın nasıl çalıştığının ayrıntısını bilmeme gerek yok. Tek bilmem gereken direksiyon ve pedallar ile nasıl kontrol edebileceğim.\n",
    "\n",
    "\n",
    "\n",
    "Bu mantık yanlış anlaşılmasın. Bu \"Kodun bazı kısımlarını yazmakla ilgilenmeyeceğiz.\" anlamına gelmiyor. İstediğimiz komutlar bütününü bir fonksiyon altında toplayıp (bu örnekte tüm o ateşleme, motorun çalışmasını pedal fonksiyonu altına topladığınızı düşünün), artık o eylemi yapmak istediğim zaman sadece o fonksiyonu çağırıyorum ve bu fonksiyonun yaptığını kullanarak daha komplike davranışlar tanımlayabiliyorum. Buradaki en önemli nokta, üst üste koyarak inşa ettiğim yapıda yazdığım fonksiyonların ayrıntılarındansa ne yaptıklarını bilip ona göre üzerilerine, onları yapının bir parçası olarak görerek mantık kurmak.\n",
    "\n",
    "\n",
    "\n",
    "Özet olarak: Fonksiyonun o işi nasıl yaptığıyla ne yaptığını ayırmak ve ne yaptığına odaklanıp onun üzerine mantık kurmak.\n",
    "\n",
    "# Decomposition Nedir?\n",
    "\n",
    "\n",
    "\n",
    "Elimdeki problemi kendi içerisinde anlamlı, daha küçük problemlere bölmektir. Arabanın çalışması arkada yatan bir çok mekanizmayla gerçekleşir. Motorun ateşlenmesi, havanın motora alınması, yakıtın aktarılması vs... Bunların hepsini aslında ayrı ayrı fonksiyonlar olarak düşünebiliriz. Problemi (arabanın hareket etmesini) alt birimlere ayırıp, tanımlayıp, çözüyoruz. Birden çok alt yapı bir arada çalışıp daha büyük bir sistem oluşturuyor.\n",
    "\n",
    "\n",
    "\n",
    "Kodumuzun farklı yerlerinde kullanılabilecek, beraber bir mantık oluşturacak kodlarımı fonksiyon tanımlayıp içine yazacağım.\n",
    "\n",
    "\n",
    "Fonksiyonların adı, parametreleri(0 veya daha fazla), açıklaması(opsiyoneli ama iyi bir pratik), ve kodları bulunur.\n",
    "\n",
    "\n",
    "Sadece adlarını yazınca çağrılmazlar. () ile çağırmamız lazım (function call veya function invocation olarak geçer.)\n"
   ]
  },
  {
   "cell_type": "markdown",
   "id": "9c4b0cc4",
   "metadata": {},
   "source": [
    " * Bir fonksiyonu çalıştırdığımızda onun sonucuyla bir şeyler yapmak isteyebilirim. Sonucu bana versin diye özellikle söylemem lazım ve bunu return keyword(anahtar kelime)'u ile sağlayacağız.\n",
    " * return yazmasaydık fonksiyon hiç bir şey döndürmezdi.\n",
    " * fonksiyon tanımladığımı Python'a anlatmak için yapım:\n",
    " \n",
    " def fonksiyonun_adı(input):"
   ]
  },
  {
   "cell_type": "markdown",
   "id": "54b86103",
   "metadata": {},
   "source": [
    " * öbür yapılarda da olduğu gibi, bir kod bloğunun belirttiğimiz yapıya ait olduğunu anlatmak için boşluk bırakarak içine yazmamız gerekiyor.\n",
    " * Verdiğimiz değerin karesini alan bir fonksiyon yazalım.\n"
   ]
  },
  {
   "cell_type": "code",
   "execution_count": 178,
   "id": "66f419e6",
   "metadata": {},
   "outputs": [],
   "source": [
    "def square(x):\n",
    "    x * x"
   ]
  },
  {
   "cell_type": "markdown",
   "id": "647b2dbe",
   "metadata": {},
   "source": [
    " * fonksiyonu tanımladıktan sonra tanımladığımız adla onu çağırabiliriz. Yapımız şöyle olacak: fonksiyonun_adı(input), bir fonksiyonu çağırmak için inputları ()'ın içine yazmalıyız. Bazı durumlarda hiç input olmayabilir, bazı durumlarda birden çok olabilir."
   ]
  },
  {
   "cell_type": "code",
   "execution_count": 179,
   "id": "e40ee2f7",
   "metadata": {},
   "outputs": [],
   "source": [
    "square(3)\n",
    "a = square(3)"
   ]
  },
  {
   "cell_type": "code",
   "execution_count": 182,
   "id": "44310d0f",
   "metadata": {},
   "outputs": [
    {
     "name": "stdout",
     "output_type": "stream",
     "text": [
      "None\n"
     ]
    }
   ],
   "source": [
    "a\n",
    "print(a)"
   ]
  },
  {
   "cell_type": "code",
   "execution_count": 183,
   "id": "e308ef8e",
   "metadata": {},
   "outputs": [
    {
     "data": {
      "text/plain": [
       "NoneType"
      ]
     },
     "execution_count": 183,
     "metadata": {},
     "output_type": "execute_result"
    }
   ],
   "source": [
    "type(a)"
   ]
  },
  {
   "cell_type": "code",
   "execution_count": 184,
   "id": "92409919",
   "metadata": {},
   "outputs": [
    {
     "data": {
      "text/plain": [
       "NoneType"
      ]
     },
     "execution_count": 184,
     "metadata": {},
     "output_type": "execute_result"
    }
   ],
   "source": [
    "type(square(3))"
   ]
  },
  {
   "cell_type": "markdown",
   "id": "d14d03b2",
   "metadata": {},
   "source": [
    " * bize x*x i değer olarak vermedi. Vermesi için bana o değeri döndür diye özellikle söylemem lazım. Bunu return ile sağlıyoruz."
   ]
  },
  {
   "cell_type": "code",
   "execution_count": 185,
   "id": "37ba243c",
   "metadata": {},
   "outputs": [
    {
     "data": {
      "text/plain": [
       "4"
      ]
     },
     "execution_count": 185,
     "metadata": {},
     "output_type": "execute_result"
    }
   ],
   "source": [
    "def square(x):\n",
    "    return x * x\n",
    "square(2)"
   ]
  },
  {
   "cell_type": "code",
   "execution_count": 187,
   "id": "7b6febd0",
   "metadata": {},
   "outputs": [
    {
     "data": {
      "text/plain": [
       "4"
      ]
     },
     "execution_count": 187,
     "metadata": {},
     "output_type": "execute_result"
    }
   ],
   "source": [
    "a = square(2)\n",
    "a"
   ]
  },
  {
   "cell_type": "code",
   "execution_count": 188,
   "id": "6118e202",
   "metadata": {},
   "outputs": [],
   "source": [
    "b = 4"
   ]
  },
  {
   "cell_type": "code",
   "execution_count": 189,
   "id": "2fa1d48d",
   "metadata": {},
   "outputs": [
    {
     "data": {
      "text/plain": [
       "6"
      ]
     },
     "execution_count": 189,
     "metadata": {},
     "output_type": "execute_result"
    }
   ],
   "source": [
    "b + 2"
   ]
  },
  {
   "cell_type": "markdown",
   "id": "c2b276db",
   "metadata": {},
   "source": [
    " * Bu döndürülen değerin int 4 'ten bir farkı yok, nereden nasıl geldiği önemli değil, a = 4 dediğimdeki 4 ile aynı. Bu değerle istediğimi yapabiliriz"
   ]
  },
  {
   "cell_type": "code",
   "execution_count": 190,
   "id": "15f256b9",
   "metadata": {},
   "outputs": [
    {
     "data": {
      "text/plain": [
       "5"
      ]
     },
     "execution_count": 190,
     "metadata": {},
     "output_type": "execute_result"
    }
   ],
   "source": [
    "1 + square(2)"
   ]
  },
  {
   "cell_type": "markdown",
   "id": "38072bc3",
   "metadata": {},
   "source": [
    " * Bilgisayar için o da sadece bir değerdi. Aşağıdaki örnekte de square(3) bize 9 döndürüyor, bilgisayar için aşağıdaki kod, square(9) ile aynıdır."
   ]
  },
  {
   "cell_type": "code",
   "execution_count": 191,
   "id": "fa24a67e",
   "metadata": {},
   "outputs": [
    {
     "data": {
      "text/plain": [
       "81"
      ]
     },
     "execution_count": 191,
     "metadata": {},
     "output_type": "execute_result"
    }
   ],
   "source": [
    "square(square(3))"
   ]
  },
  {
   "cell_type": "markdown",
   "id": "71865c75",
   "metadata": {},
   "source": [
    " * hiç bir inputu olmaya da bilirdi"
   ]
  },
  {
   "cell_type": "code",
   "execution_count": 192,
   "id": "2900ad7a",
   "metadata": {},
   "outputs": [],
   "source": [
    "def weird():\n",
    "    return 5"
   ]
  },
  {
   "cell_type": "code",
   "execution_count": 193,
   "id": "9f3e622f",
   "metadata": {},
   "outputs": [
    {
     "data": {
      "text/plain": [
       "5"
      ]
     },
     "execution_count": 193,
     "metadata": {},
     "output_type": "execute_result"
    }
   ],
   "source": [
    "weird()"
   ]
  },
  {
   "cell_type": "markdown",
   "id": "c0a8d1a8",
   "metadata": {},
   "source": [
    " * Fonksiyonlar return'e geldikten sonrasına bakmıyor, return 'ün sağına yazılan değeri veriyor ve fonksiyondan çıkıyor."
   ]
  },
  {
   "cell_type": "code",
   "execution_count": 194,
   "id": "a777e045",
   "metadata": {},
   "outputs": [],
   "source": [
    "def square(x):\n",
    "    \n",
    "    res = x * x\n",
    "    \n",
    "    return res\n",
    "    print(\"Square of \" + str(x) + \": \" + str(res))"
   ]
  },
  {
   "cell_type": "markdown",
   "id": "17b1ee81",
   "metadata": {},
   "source": [
    " * Bu yüzden burada bastırma kısmını yapmadı çünkü o kod return 'ün altında yer alıyor."
   ]
  },
  {
   "cell_type": "code",
   "execution_count": 195,
   "id": "16c37b51",
   "metadata": {},
   "outputs": [
    {
     "data": {
      "text/plain": [
       "16"
      ]
     },
     "execution_count": 195,
     "metadata": {},
     "output_type": "execute_result"
    }
   ],
   "source": [
    "square(4)"
   ]
  },
  {
   "cell_type": "code",
   "execution_count": 196,
   "id": "6b0b33bd",
   "metadata": {},
   "outputs": [
    {
     "data": {
      "text/plain": [
       "18"
      ]
     },
     "execution_count": 196,
     "metadata": {},
     "output_type": "execute_result"
    }
   ],
   "source": [
    "square(4) + 2"
   ]
  },
  {
   "cell_type": "code",
   "execution_count": 197,
   "id": "13439252",
   "metadata": {},
   "outputs": [],
   "source": [
    "def square(x):\n",
    "    \n",
    "    res = x * x\n",
    "    \n",
    "    print(\"Square of \" + str(x) + \": \" + str(res))\n",
    "    \n",
    "    return res"
   ]
  },
  {
   "cell_type": "code",
   "execution_count": 198,
   "id": "a80ac3ef",
   "metadata": {},
   "outputs": [
    {
     "name": "stdout",
     "output_type": "stream",
     "text": [
      "Square of 4: 16\n"
     ]
    },
    {
     "data": {
      "text/plain": [
       "16"
      ]
     },
     "execution_count": 198,
     "metadata": {},
     "output_type": "execute_result"
    }
   ],
   "source": [
    "square(4)"
   ]
  },
  {
   "cell_type": "markdown",
   "id": "6547e4c7",
   "metadata": {},
   "source": [
    " * Fonksiyona durumsallık da katabiliriz."
   ]
  },
  {
   "cell_type": "code",
   "execution_count": 199,
   "id": "e68035d8",
   "metadata": {},
   "outputs": [],
   "source": [
    "def f(x):\n",
    "    res = x * x\n",
    "    \n",
    "    if x % 2 == 0:\n",
    "        return res\n",
    "    else:\n",
    "        return res + 10\n",
    "    \n",
    "    print(\"Square of \" + str(x) + \": \" + str(res))"
   ]
  },
  {
   "cell_type": "code",
   "execution_count": 200,
   "id": "c8861180",
   "metadata": {},
   "outputs": [
    {
     "data": {
      "text/plain": [
       "100"
      ]
     },
     "execution_count": 200,
     "metadata": {},
     "output_type": "execute_result"
    }
   ],
   "source": [
    "f(10)"
   ]
  },
  {
   "cell_type": "code",
   "execution_count": 201,
   "id": "203d22e4",
   "metadata": {},
   "outputs": [
    {
     "data": {
      "text/plain": [
       "179"
      ]
     },
     "execution_count": 201,
     "metadata": {},
     "output_type": "execute_result"
    }
   ],
   "source": [
    "f(13)"
   ]
  },
  {
   "cell_type": "markdown",
   "id": "010a982e",
   "metadata": {},
   "source": [
    " * Fonksiyonların içinde döngü mantığı da olabilir."
   ]
  },
  {
   "cell_type": "code",
   "execution_count": 202,
   "id": "240d9dbd",
   "metadata": {},
   "outputs": [],
   "source": [
    "x = 300"
   ]
  },
  {
   "cell_type": "code",
   "execution_count": 217,
   "id": "9c9df170",
   "metadata": {},
   "outputs": [],
   "source": [
    "def f(x):\n",
    "    \n",
    "    res = x * x\n",
    "    \n",
    "    for i in range(10):\n",
    "        res += 20\n",
    "        return res\n",
    "    print(\"hey\")\n"
   ]
  },
  {
   "cell_type": "code",
   "execution_count": 218,
   "id": "7ce7328b",
   "metadata": {},
   "outputs": [
    {
     "data": {
      "text/plain": [
       "120"
      ]
     },
     "execution_count": 218,
     "metadata": {},
     "output_type": "execute_result"
    }
   ],
   "source": [
    "f(10)"
   ]
  },
  {
   "cell_type": "code",
   "execution_count": 219,
   "id": "7c56da35",
   "metadata": {},
   "outputs": [
    {
     "data": {
      "text/plain": [
       "143"
      ]
     },
     "execution_count": 219,
     "metadata": {},
     "output_type": "execute_result"
    }
   ],
   "source": [
    "f(10) + 23"
   ]
  },
  {
   "cell_type": "code",
   "execution_count": 212,
   "id": "201ee521",
   "metadata": {},
   "outputs": [],
   "source": [
    "def f(x):\n",
    "    \n",
    "    res = x * x\n",
    "    \n",
    "    for i in range(10):\n",
    "        res += 20\n",
    "        \n",
    "    return res"
   ]
  },
  {
   "cell_type": "code",
   "execution_count": 213,
   "id": "ca03b272",
   "metadata": {},
   "outputs": [
    {
     "data": {
      "text/plain": [
       "300"
      ]
     },
     "execution_count": 213,
     "metadata": {},
     "output_type": "execute_result"
    }
   ],
   "source": [
    "f(10)"
   ]
  },
  {
   "cell_type": "code",
   "execution_count": 221,
   "id": "22ad2da9",
   "metadata": {},
   "outputs": [],
   "source": [
    "def f(x):\n",
    "    \n",
    "    l = []\n",
    "    res = x * x\n",
    "    for i in range(10):\n",
    "        res += 20\n",
    "        l.append(res)\n",
    "    return l"
   ]
  },
  {
   "cell_type": "code",
   "execution_count": 222,
   "id": "1660aca3",
   "metadata": {},
   "outputs": [
    {
     "data": {
      "text/plain": [
       "[120, 140, 160, 180, 200, 220, 240, 260, 280, 300]"
      ]
     },
     "execution_count": 222,
     "metadata": {},
     "output_type": "execute_result"
    }
   ],
   "source": [
    "f(10)"
   ]
  },
  {
   "cell_type": "markdown",
   "id": "e4aa684d",
   "metadata": {},
   "source": [
    "# Void Fonksiyonlar (Değer Döndürmeyen Fonksiyonlar)"
   ]
  },
  {
   "cell_type": "code",
   "execution_count": 223,
   "id": "49b672c8",
   "metadata": {},
   "outputs": [],
   "source": [
    "def f(x):\n",
    "    x = 2"
   ]
  },
  {
   "cell_type": "code",
   "execution_count": 224,
   "id": "4eb42601",
   "metadata": {},
   "outputs": [],
   "source": [
    "f(2)"
   ]
  },
  {
   "cell_type": "code",
   "execution_count": 225,
   "id": "58a9e556",
   "metadata": {},
   "outputs": [
    {
     "ename": "TypeError",
     "evalue": "unsupported operand type(s) for +: 'NoneType' and 'int'",
     "output_type": "error",
     "traceback": [
      "\u001b[1;31m---------------------------------------------------------------------------\u001b[0m",
      "\u001b[1;31mTypeError\u001b[0m                                 Traceback (most recent call last)",
      "Input \u001b[1;32mIn [225]\u001b[0m, in \u001b[0;36m<cell line: 1>\u001b[1;34m()\u001b[0m\n\u001b[1;32m----> 1\u001b[0m \u001b[43mf\u001b[49m\u001b[43m(\u001b[49m\u001b[38;5;241;43m10\u001b[39;49m\u001b[43m)\u001b[49m\u001b[43m \u001b[49m\u001b[38;5;241;43m+\u001b[39;49m\u001b[43m \u001b[49m\u001b[38;5;241;43m4\u001b[39;49m\n",
      "\u001b[1;31mTypeError\u001b[0m: unsupported operand type(s) for +: 'NoneType' and 'int'"
     ]
    }
   ],
   "source": [
    "f(10) + 4"
   ]
  },
  {
   "cell_type": "code",
   "execution_count": 226,
   "id": "6b832560",
   "metadata": {},
   "outputs": [
    {
     "name": "stdout",
     "output_type": "stream",
     "text": [
      "None\n"
     ]
    }
   ],
   "source": [
    "print(f(3))"
   ]
  },
  {
   "cell_type": "code",
   "execution_count": 227,
   "id": "65b7b2bf",
   "metadata": {},
   "outputs": [
    {
     "data": {
      "text/plain": [
       "NoneType"
      ]
     },
     "execution_count": 227,
     "metadata": {},
     "output_type": "execute_result"
    }
   ],
   "source": [
    "type(f(3))"
   ]
  },
  {
   "cell_type": "code",
   "execution_count": 228,
   "id": "dfb5b58b",
   "metadata": {},
   "outputs": [
    {
     "name": "stdout",
     "output_type": "stream",
     "text": [
      "3 in/ün/un karesi: 9\n"
     ]
    }
   ],
   "source": [
    "# Bu kod x in karesini değer olarak bize vermiyor, sadece ekrana bastıracak\n",
    "def square(x):\n",
    "    \n",
    "    print(x,\"in/ün/un karesi:\", x*x)\n",
    "\n",
    "\n",
    "square(3)"
   ]
  },
  {
   "cell_type": "code",
   "execution_count": 229,
   "id": "043cd26f",
   "metadata": {},
   "outputs": [
    {
     "name": "stdout",
     "output_type": "stream",
     "text": [
      "4 in/ün/un karesi: 16\n"
     ]
    },
    {
     "data": {
      "text/plain": [
       "NoneType"
      ]
     },
     "execution_count": 229,
     "metadata": {},
     "output_type": "execute_result"
    }
   ],
   "source": [
    "type(square(4))"
   ]
  },
  {
   "cell_type": "code",
   "execution_count": 230,
   "id": "9ebb61de",
   "metadata": {},
   "outputs": [],
   "source": [
    "# hem bir değer bastırıp aynı anda o değeri döndüre de bilirdi\n",
    "\n",
    "def square(x):\n",
    "    \n",
    "    res = x * x\n",
    "    \n",
    "    print(x,\"in/ün/un karesi:\", x*x)\n",
    "    \n",
    "    return res"
   ]
  },
  {
   "cell_type": "code",
   "execution_count": 231,
   "id": "78992be9",
   "metadata": {},
   "outputs": [
    {
     "name": "stdout",
     "output_type": "stream",
     "text": [
      "4 in/ün/un karesi: 16\n"
     ]
    },
    {
     "data": {
      "text/plain": [
       "16"
      ]
     },
     "execution_count": 231,
     "metadata": {},
     "output_type": "execute_result"
    }
   ],
   "source": [
    "square(4)"
   ]
  },
  {
   "cell_type": "code",
   "execution_count": 232,
   "id": "0b4cca00",
   "metadata": {},
   "outputs": [
    {
     "name": "stdout",
     "output_type": "stream",
     "text": [
      "4 in/ün/un karesi: 16\n"
     ]
    },
    {
     "data": {
      "text/plain": [
       "18"
      ]
     },
     "execution_count": 232,
     "metadata": {},
     "output_type": "execute_result"
    }
   ],
   "source": [
    "square(4) + 2"
   ]
  },
  {
   "cell_type": "markdown",
   "id": "e287b0f2",
   "metadata": {},
   "source": [
    "# Fonksiyonlara Açıklama Yazmak "
   ]
  },
  {
   "cell_type": "code",
   "execution_count": null,
   "id": "5da2a9bb",
   "metadata": {},
   "outputs": [],
   "source": [
    "def square(x):\n",
    "    \n",
    "    res = x * x\n",
    "    \n",
    "    return res"
   ]
  },
  {
   "cell_type": "code",
   "execution_count": 238,
   "id": "9cb3c87c",
   "metadata": {},
   "outputs": [
    {
     "name": "stdout",
     "output_type": "stream",
     "text": [
      "Object `square # jupyter notebookda bana çalıştırdığım fonksiyonun açıklamasını verir.` not found.\n"
     ]
    }
   ],
   "source": [
    "?square # jupyter notebookda bana çalıştırdığım fonksiyonun açıklamasını verir."
   ]
  },
  {
   "cell_type": "code",
   "execution_count": 237,
   "id": "a529a98f",
   "metadata": {},
   "outputs": [
    {
     "name": "stdout",
     "output_type": "stream",
     "text": [
      "Object `square # iki tane kullanırsam bana daha detaylı bir açıklama verir` not found.\n"
     ]
    }
   ],
   "source": [
    "??square # iki tane kullanırsam bana daha detaylı bir açıklama verir"
   ]
  },
  {
   "cell_type": "code",
   "execution_count": 240,
   "id": "ce4a3253",
   "metadata": {},
   "outputs": [],
   "source": [
    "def square(x):\n",
    "    \"\"\"\n",
    "    x'in karesini hesaplar\n",
    "    \"\"\"\n",
    "    return x * x"
   ]
  },
  {
   "cell_type": "code",
   "execution_count": 241,
   "id": "0bb91fbf",
   "metadata": {},
   "outputs": [],
   "source": [
    "?square"
   ]
  },
  {
   "cell_type": "code",
   "execution_count": 242,
   "id": "cdc852e0",
   "metadata": {},
   "outputs": [],
   "source": [
    "??square"
   ]
  },
  {
   "cell_type": "markdown",
   "id": "122440fd",
   "metadata": {},
   "source": [
    "# Birden Çok Input\n",
    " * Fonksiyonların birden çok parametresi olabilir."
   ]
  },
  {
   "cell_type": "code",
   "execution_count": 243,
   "id": "8d3c60b1",
   "metadata": {},
   "outputs": [],
   "source": [
    "def square(x):\n",
    "    return x * x"
   ]
  },
  {
   "cell_type": "code",
   "execution_count": 244,
   "id": "5c35d56c",
   "metadata": {},
   "outputs": [
    {
     "data": {
      "text/plain": [
       "9"
      ]
     },
     "execution_count": 244,
     "metadata": {},
     "output_type": "execute_result"
    }
   ],
   "source": [
    "square(3)"
   ]
  },
  {
   "cell_type": "code",
   "execution_count": 245,
   "id": "e735053a",
   "metadata": {},
   "outputs": [
    {
     "data": {
      "text/plain": [
       "8"
      ]
     },
     "execution_count": 245,
     "metadata": {},
     "output_type": "execute_result"
    }
   ],
   "source": [
    "def power(x, y):\n",
    "    \n",
    "    return x ** y\n",
    "power(2, 3)"
   ]
  },
  {
   "cell_type": "markdown",
   "id": "2c522c56",
   "metadata": {},
   "source": [
    " # Birden Çok Değer Döndüren Fonksiyonlar"
   ]
  },
  {
   "cell_type": "code",
   "execution_count": 246,
   "id": "a1ae3c83",
   "metadata": {},
   "outputs": [],
   "source": [
    "def f(x):\n",
    "    \n",
    "    return 2*x, 20*x"
   ]
  },
  {
   "cell_type": "code",
   "execution_count": 247,
   "id": "c998dba6",
   "metadata": {},
   "outputs": [
    {
     "data": {
      "text/plain": [
       "(20, 200)"
      ]
     },
     "execution_count": 247,
     "metadata": {},
     "output_type": "execute_result"
    }
   ],
   "source": [
    "f(10)"
   ]
  },
  {
   "cell_type": "markdown",
   "id": "654ebb8d",
   "metadata": {},
   "source": [
    " * Bana sonucu tuple olarak döndürdü.\n",
    "\n",
    "\n",
    " * Variable Unpacking kısmında gördüğümüz gibi bu iki değeri farklı değişkenlere eşitleyebilirim.\n",
    " "
   ]
  },
  {
   "cell_type": "code",
   "execution_count": 248,
   "id": "4e4a887a",
   "metadata": {},
   "outputs": [],
   "source": [
    "a, b = f(10)"
   ]
  },
  {
   "cell_type": "code",
   "execution_count": 249,
   "id": "e28041e1",
   "metadata": {},
   "outputs": [
    {
     "data": {
      "text/plain": [
       "20"
      ]
     },
     "execution_count": 249,
     "metadata": {},
     "output_type": "execute_result"
    }
   ],
   "source": [
    "a"
   ]
  },
  {
   "cell_type": "code",
   "execution_count": 250,
   "id": "ba2474eb",
   "metadata": {},
   "outputs": [
    {
     "data": {
      "text/plain": [
       "200"
      ]
     },
     "execution_count": 250,
     "metadata": {},
     "output_type": "execute_result"
    }
   ],
   "source": [
    "b"
   ]
  },
  {
   "cell_type": "code",
   "execution_count": 251,
   "id": "c3ab305c",
   "metadata": {},
   "outputs": [],
   "source": [
    "def f(x,y):\n",
    "    \n",
    "    return 2*x*y, (10*x)**y"
   ]
  },
  {
   "cell_type": "code",
   "execution_count": 252,
   "id": "64f6cf42",
   "metadata": {},
   "outputs": [
    {
     "data": {
      "text/plain": [
       "(40, 10000)"
      ]
     },
     "execution_count": 252,
     "metadata": {},
     "output_type": "execute_result"
    }
   ],
   "source": [
    "f(10,2)"
   ]
  },
  {
   "cell_type": "markdown",
   "id": "a1abbe97",
   "metadata": {},
   "source": [
    "# Predefined Parameters"
   ]
  },
  {
   "cell_type": "code",
   "execution_count": 276,
   "id": "194da099",
   "metadata": {},
   "outputs": [],
   "source": [
    "def hello(end, start = \"Hello\"):\n",
    "    \n",
    "    print(start + \" \" + end)"
   ]
  },
  {
   "cell_type": "code",
   "execution_count": 277,
   "id": "0567041d",
   "metadata": {},
   "outputs": [
    {
     "name": "stdout",
     "output_type": "stream",
     "text": [
      "Hello Denis\n"
     ]
    }
   ],
   "source": [
    "hello(\"Denis\")"
   ]
  },
  {
   "cell_type": "code",
   "execution_count": 279,
   "id": "a72f48b4",
   "metadata": {},
   "outputs": [
    {
     "name": "stdout",
     "output_type": "stream",
     "text": [
      "Hey Denis\n"
     ]
    }
   ],
   "source": [
    "hello(\"Denis\", start = \"Hey\")"
   ]
  },
  {
   "cell_type": "code",
   "execution_count": 280,
   "id": "4bd8ff1d",
   "metadata": {},
   "outputs": [
    {
     "name": "stdout",
     "output_type": "stream",
     "text": [
      "Hey Denis\n"
     ]
    }
   ],
   "source": [
    "hello(\"Denis\",\"Hey\")"
   ]
  },
  {
   "cell_type": "code",
   "execution_count": 281,
   "id": "2f2ccd57",
   "metadata": {},
   "outputs": [
    {
     "name": "stdout",
     "output_type": "stream",
     "text": [
      "Hello Denis\n"
     ]
    }
   ],
   "source": [
    "hello(\"Denis\")"
   ]
  },
  {
   "cell_type": "code",
   "execution_count": 282,
   "id": "dbb02a84",
   "metadata": {},
   "outputs": [
    {
     "data": {
      "text/plain": [
       "3"
      ]
     },
     "execution_count": 282,
     "metadata": {},
     "output_type": "execute_result"
    }
   ],
   "source": [
    "def power(x, y = 1):\n",
    "    \n",
    "    return x ** y\n",
    "power(3)"
   ]
  },
  {
   "cell_type": "code",
   "execution_count": 283,
   "id": "1dc14233",
   "metadata": {},
   "outputs": [
    {
     "data": {
      "text/plain": [
       "16"
      ]
     },
     "execution_count": 283,
     "metadata": {},
     "output_type": "execute_result"
    }
   ],
   "source": [
    "power (4, 2)"
   ]
  },
  {
   "cell_type": "code",
   "execution_count": 284,
   "id": "765e33bf",
   "metadata": {},
   "outputs": [
    {
     "ename": "SyntaxError",
     "evalue": "non-default argument follows default argument (3278829179.py, line 3)",
     "output_type": "error",
     "traceback": [
      "\u001b[1;36m  Input \u001b[1;32mIn [284]\u001b[1;36m\u001b[0m\n\u001b[1;33m    def hello(start = \"Hello\", end):\u001b[0m\n\u001b[1;37m                                  ^\u001b[0m\n\u001b[1;31mSyntaxError\u001b[0m\u001b[1;31m:\u001b[0m non-default argument follows default argument\n"
     ]
    }
   ],
   "source": [
    "# Aksini belirtmezsek predefined değerleri kullanacak fonksiyon\n",
    "# predefined olarak vereceğimiz değerleri en sona yazmalıyız yoksa hata alırız\n",
    "def hello(start = \"Hello\", end):\n",
    "    \n",
    "    print(start + end)"
   ]
  },
  {
   "cell_type": "code",
   "execution_count": 285,
   "id": "0dc45c13",
   "metadata": {},
   "outputs": [],
   "source": [
    "def f(x, y = 1, z = 2):\n",
    "    \n",
    "    return x + y + z"
   ]
  },
  {
   "cell_type": "code",
   "execution_count": 286,
   "id": "86373ac5",
   "metadata": {},
   "outputs": [
    {
     "data": {
      "text/plain": [
       "5"
      ]
     },
     "execution_count": 286,
     "metadata": {},
     "output_type": "execute_result"
    }
   ],
   "source": [
    "f(2)"
   ]
  },
  {
   "cell_type": "code",
   "execution_count": 287,
   "id": "67e60a8e",
   "metadata": {},
   "outputs": [
    {
     "data": {
      "text/plain": [
       "9"
      ]
     },
     "execution_count": 287,
     "metadata": {},
     "output_type": "execute_result"
    }
   ],
   "source": [
    "f(2, 5)"
   ]
  },
  {
   "cell_type": "code",
   "execution_count": 288,
   "id": "c568d2a1",
   "metadata": {},
   "outputs": [
    {
     "data": {
      "text/plain": [
       "13"
      ]
     },
     "execution_count": 288,
     "metadata": {},
     "output_type": "execute_result"
    }
   ],
   "source": [
    "f(2, 5, 6)"
   ]
  },
  {
   "cell_type": "markdown",
   "id": "8585f0f2",
   "metadata": {},
   "source": [
    "# Argümanların Değerlerinin Güncellenip Güncellenmediği Durumlar\n",
    " * Integer ve Floatların Değerlerin Değişmez"
   ]
  },
  {
   "cell_type": "code",
   "execution_count": 289,
   "id": "9287712a",
   "metadata": {},
   "outputs": [],
   "source": [
    "a = 2"
   ]
  },
  {
   "cell_type": "code",
   "execution_count": 292,
   "id": "52739b78",
   "metadata": {},
   "outputs": [],
   "source": [
    "def f(x):\n",
    "    x = 4\n",
    "    return x"
   ]
  },
  {
   "cell_type": "code",
   "execution_count": 293,
   "id": "dfe418c5",
   "metadata": {},
   "outputs": [
    {
     "data": {
      "text/plain": [
       "4"
      ]
     },
     "execution_count": 293,
     "metadata": {},
     "output_type": "execute_result"
    }
   ],
   "source": [
    "f(a)"
   ]
  },
  {
   "cell_type": "code",
   "execution_count": 294,
   "id": "c0d49979",
   "metadata": {},
   "outputs": [
    {
     "data": {
      "text/plain": [
       "2"
      ]
     },
     "execution_count": 294,
     "metadata": {},
     "output_type": "execute_result"
    }
   ],
   "source": [
    "a"
   ]
  },
  {
   "cell_type": "code",
   "execution_count": 295,
   "id": "71dd23dc",
   "metadata": {},
   "outputs": [],
   "source": [
    "b = 3.4"
   ]
  },
  {
   "cell_type": "code",
   "execution_count": 296,
   "id": "f292105f",
   "metadata": {},
   "outputs": [
    {
     "data": {
      "text/plain": [
       "4"
      ]
     },
     "execution_count": 296,
     "metadata": {},
     "output_type": "execute_result"
    }
   ],
   "source": [
    "f(b)"
   ]
  },
  {
   "cell_type": "code",
   "execution_count": 297,
   "id": "ee758c7f",
   "metadata": {},
   "outputs": [
    {
     "data": {
      "text/plain": [
       "3.4"
      ]
     },
     "execution_count": 297,
     "metadata": {},
     "output_type": "execute_result"
    }
   ],
   "source": [
    "b"
   ]
  },
  {
   "cell_type": "markdown",
   "id": "8ebf6b0d",
   "metadata": {},
   "source": [
    " * LİSTLER"
   ]
  },
  {
   "cell_type": "code",
   "execution_count": 298,
   "id": "5b7bd4a2",
   "metadata": {},
   "outputs": [],
   "source": [
    "l = [1,2,3]"
   ]
  },
  {
   "cell_type": "code",
   "execution_count": 299,
   "id": "f0f403c0",
   "metadata": {},
   "outputs": [],
   "source": [
    "l2 = l.copy()"
   ]
  },
  {
   "cell_type": "code",
   "execution_count": 300,
   "id": "8beb8cbc",
   "metadata": {},
   "outputs": [
    {
     "data": {
      "text/plain": [
       "[1, 2, 3]"
      ]
     },
     "execution_count": 300,
     "metadata": {},
     "output_type": "execute_result"
    }
   ],
   "source": [
    "l2"
   ]
  },
  {
   "cell_type": "code",
   "execution_count": 301,
   "id": "2ac9724b",
   "metadata": {},
   "outputs": [
    {
     "data": {
      "text/plain": [
       "[1, 2, 3]"
      ]
     },
     "execution_count": 301,
     "metadata": {},
     "output_type": "execute_result"
    }
   ],
   "source": [
    "l"
   ]
  },
  {
   "cell_type": "code",
   "execution_count": 302,
   "id": "f4ea9b76",
   "metadata": {},
   "outputs": [],
   "source": [
    "l2[0] = 10"
   ]
  },
  {
   "cell_type": "code",
   "execution_count": 303,
   "id": "a2bad173",
   "metadata": {},
   "outputs": [
    {
     "data": {
      "text/plain": [
       "[1, 2, 3]"
      ]
     },
     "execution_count": 303,
     "metadata": {},
     "output_type": "execute_result"
    }
   ],
   "source": [
    "l"
   ]
  },
  {
   "cell_type": "code",
   "execution_count": 304,
   "id": "77d78761",
   "metadata": {},
   "outputs": [],
   "source": [
    "def f(l):\n",
    "    l[0] = \"a\"\n",
    "    return l"
   ]
  },
  {
   "cell_type": "code",
   "execution_count": 305,
   "id": "b3e5fba8",
   "metadata": {},
   "outputs": [
    {
     "data": {
      "text/plain": [
       "['a', 2, 3]"
      ]
     },
     "execution_count": 305,
     "metadata": {},
     "output_type": "execute_result"
    }
   ],
   "source": [
    "f(l)"
   ]
  },
  {
   "cell_type": "code",
   "execution_count": 306,
   "id": "fe5c47a6",
   "metadata": {},
   "outputs": [
    {
     "data": {
      "text/plain": [
       "['a', 2, 3]"
      ]
     },
     "execution_count": 306,
     "metadata": {},
     "output_type": "execute_result"
    }
   ],
   "source": [
    "l"
   ]
  },
  {
   "cell_type": "code",
   "execution_count": 307,
   "id": "6c4faaf0",
   "metadata": {},
   "outputs": [],
   "source": [
    "def f(l): l = [\"a\", \"b\", \"c\"] # l[0] = [\"a\", \"b\", \"c\"] return l"
   ]
  },
  {
   "cell_type": "code",
   "execution_count": 308,
   "id": "e81a8c7b",
   "metadata": {},
   "outputs": [],
   "source": [
    "l = [1,2,3]"
   ]
  },
  {
   "cell_type": "code",
   "execution_count": 309,
   "id": "7057d96d",
   "metadata": {},
   "outputs": [],
   "source": [
    "def f(x):\n",
    "    \n",
    "    x[0] = 2\n",
    "    \n",
    "    return x"
   ]
  },
  {
   "cell_type": "code",
   "execution_count": 310,
   "id": "686238dd",
   "metadata": {},
   "outputs": [],
   "source": [
    "def f(penguin):\n",
    "    \n",
    "    penguin[0] = 2\n",
    "    \n",
    "    return penguin"
   ]
  },
  {
   "cell_type": "code",
   "execution_count": 311,
   "id": "41188248",
   "metadata": {},
   "outputs": [
    {
     "data": {
      "text/plain": [
       "[2, 2, 3]"
      ]
     },
     "execution_count": 311,
     "metadata": {},
     "output_type": "execute_result"
    }
   ],
   "source": [
    "f(l)"
   ]
  },
  {
   "cell_type": "code",
   "execution_count": 312,
   "id": "0a2209a9",
   "metadata": {},
   "outputs": [
    {
     "data": {
      "text/plain": [
       "[2, 2, 3]"
      ]
     },
     "execution_count": 312,
     "metadata": {},
     "output_type": "execute_result"
    }
   ],
   "source": [
    "l"
   ]
  },
  {
   "cell_type": "code",
   "execution_count": 313,
   "id": "5660bc71",
   "metadata": {},
   "outputs": [],
   "source": [
    "l = [1,2,3]"
   ]
  },
  {
   "cell_type": "code",
   "execution_count": 314,
   "id": "5c049d81",
   "metadata": {},
   "outputs": [],
   "source": [
    "def f(x):\n",
    "    l2 = x.copy()\n",
    "    l2[0] = 2\n",
    "    \n",
    "    return l2"
   ]
  },
  {
   "cell_type": "code",
   "execution_count": 315,
   "id": "cdc00879",
   "metadata": {},
   "outputs": [
    {
     "data": {
      "text/plain": [
       "[2, 2, 3]"
      ]
     },
     "execution_count": 315,
     "metadata": {},
     "output_type": "execute_result"
    }
   ],
   "source": [
    "f(l)"
   ]
  },
  {
   "cell_type": "code",
   "execution_count": 316,
   "id": "ff82c611",
   "metadata": {},
   "outputs": [
    {
     "data": {
      "text/plain": [
       "[1, 2, 3]"
      ]
     },
     "execution_count": 316,
     "metadata": {},
     "output_type": "execute_result"
    }
   ],
   "source": [
    "l"
   ]
  },
  {
   "cell_type": "markdown",
   "id": "f7e490fd",
   "metadata": {},
   "source": [
    "# First Class Function\n",
    "\n",
    "\n",
    " Python'da fonksiyonlar first class function olarak değerlendirilir. Bunun anlamı fonksiyonların diğer veri tipleri gibi manipüle edilebilir ve başka fonksiyonlara argüman olarak verilebilir.\n",
    "\n",
    "\n",
    " Bir fonksiyonu bir değişkene atayabiliriz.\n",
    "\n"
   ]
  },
  {
   "cell_type": "code",
   "execution_count": 320,
   "id": "29d92252",
   "metadata": {},
   "outputs": [],
   "source": [
    "def kare(x):\n",
    "    return x**2"
   ]
  },
  {
   "cell_type": "code",
   "execution_count": 321,
   "id": "6464d2cd",
   "metadata": {},
   "outputs": [],
   "source": [
    "a = kare"
   ]
  },
  {
   "cell_type": "code",
   "execution_count": 322,
   "id": "2574c563",
   "metadata": {},
   "outputs": [
    {
     "data": {
      "text/plain": [
       "25"
      ]
     },
     "execution_count": 322,
     "metadata": {},
     "output_type": "execute_result"
    }
   ],
   "source": [
    "kare(5)"
   ]
  },
  {
   "cell_type": "code",
   "execution_count": 323,
   "id": "c03d3b41",
   "metadata": {},
   "outputs": [
    {
     "data": {
      "text/plain": [
       "25"
      ]
     },
     "execution_count": 323,
     "metadata": {},
     "output_type": "execute_result"
    }
   ],
   "source": [
    "a(5)"
   ]
  },
  {
   "cell_type": "markdown",
   "id": "c437334b",
   "metadata": {},
   "source": [
    " Bir fonksiyonu başka bir fonksiyona argüman olarak verebiliriz."
   ]
  },
  {
   "cell_type": "code",
   "execution_count": 324,
   "id": "7f0f5586",
   "metadata": {},
   "outputs": [],
   "source": [
    "def f2(x, f):\n",
    "    return f(x) + 4"
   ]
  },
  {
   "cell_type": "code",
   "execution_count": 325,
   "id": "14745548",
   "metadata": {},
   "outputs": [
    {
     "data": {
      "text/plain": [
       "13"
      ]
     },
     "execution_count": 325,
     "metadata": {},
     "output_type": "execute_result"
    }
   ],
   "source": [
    "f2(3, kare)"
   ]
  },
  {
   "cell_type": "code",
   "execution_count": 326,
   "id": "5392ba1b",
   "metadata": {},
   "outputs": [],
   "source": [
    "def f3(x):\n",
    "    return x**5"
   ]
  },
  {
   "cell_type": "code",
   "execution_count": 327,
   "id": "a4899779",
   "metadata": {},
   "outputs": [
    {
     "data": {
      "text/plain": [
       "36"
      ]
     },
     "execution_count": 327,
     "metadata": {},
     "output_type": "execute_result"
    }
   ],
   "source": [
    "f2(2, f3)"
   ]
  },
  {
   "cell_type": "markdown",
   "id": "d9c826e0",
   "metadata": {},
   "source": [
    "# Fonksiyonları Obje Olarak Kullanmak\n",
    "\n",
    "\n",
    "Python'da fonksiyonların first class function olduklarını konuşmuştuk.\n",
    "\n",
    "\n",
    "Şimdi bu mantığı kullanarak belirli fonksiyonları listenin elemanlarına uygulayacağız.\n"
   ]
  },
  {
   "cell_type": "code",
   "execution_count": 331,
   "id": "42cf00f6",
   "metadata": {},
   "outputs": [],
   "source": [
    "l = [1,2,3,4]"
   ]
  },
  {
   "cell_type": "code",
   "execution_count": 332,
   "id": "8f919368",
   "metadata": {},
   "outputs": [],
   "source": [
    "def apply(l, f):\n",
    "    \"\"\"\n",
    "    l bir liste, \n",
    "    f listenin tüm elemanlarına uygulanacak fonksiyon\n",
    "    sonunda listenin orijinali elemanlarına fonksiyonun uygulanmış haliyle güncellenir\n",
    "    \"\"\"\n",
    "    \n",
    "    n = len(l)\n",
    "    \n",
    "    for i in range(n):\n",
    "        l[i] = f(l[i])"
   ]
  },
  {
   "cell_type": "code",
   "execution_count": 333,
   "id": "f76d83db",
   "metadata": {},
   "outputs": [],
   "source": [
    "def kare(x):\n",
    "    return x**2"
   ]
  },
  {
   "cell_type": "code",
   "execution_count": 334,
   "id": "ee3036f1",
   "metadata": {},
   "outputs": [],
   "source": [
    "apply(l,kare)"
   ]
  },
  {
   "cell_type": "code",
   "execution_count": 335,
   "id": "3ab61935",
   "metadata": {},
   "outputs": [
    {
     "data": {
      "text/plain": [
       "[1, 4, 9, 16]"
      ]
     },
     "execution_count": 335,
     "metadata": {},
     "output_type": "execute_result"
    }
   ],
   "source": [
    "l"
   ]
  },
  {
   "cell_type": "markdown",
   "id": "653b47fe",
   "metadata": {},
   "source": [
    " Tüm elemanlara fonksiyon uygulandı ve güncelledik."
   ]
  },
  {
   "cell_type": "code",
   "execution_count": 336,
   "id": "65d3c1c0",
   "metadata": {},
   "outputs": [],
   "source": [
    "l = [1,2,3,4]"
   ]
  },
  {
   "cell_type": "code",
   "execution_count": 337,
   "id": "2666cacb",
   "metadata": {},
   "outputs": [],
   "source": [
    "def kup(x):\n",
    "    return x**3\n",
    "apply(l, kup)"
   ]
  },
  {
   "cell_type": "code",
   "execution_count": 338,
   "id": "2447460f",
   "metadata": {},
   "outputs": [
    {
     "data": {
      "text/plain": [
       "[1, 8, 27, 64]"
      ]
     },
     "execution_count": 338,
     "metadata": {},
     "output_type": "execute_result"
    }
   ],
   "source": [
    "l"
   ]
  },
  {
   "cell_type": "markdown",
   "id": "6a2a1687",
   "metadata": {},
   "source": [
    " Fonksiyonlar Listesini Belirli Bir Değere Uygulamak\n"
   ]
  },
  {
   "cell_type": "code",
   "execution_count": 341,
   "id": "f01d814d",
   "metadata": {},
   "outputs": [],
   "source": [
    "def apply_funcs(f_list, x):\n",
    "    l = []\n",
    "    for f in f_list:\n",
    "        l.append(f(x))\n",
    "    \n",
    "    return l"
   ]
  },
  {
   "cell_type": "code",
   "execution_count": 343,
   "id": "7b1c8a4b",
   "metadata": {},
   "outputs": [
    {
     "data": {
      "text/plain": [
       "[25, 125]"
      ]
     },
     "execution_count": 343,
     "metadata": {},
     "output_type": "execute_result"
    }
   ],
   "source": [
    "apply_funcs([kare, kup], 5)"
   ]
  },
  {
   "cell_type": "markdown",
   "id": "4b176fe6",
   "metadata": {},
   "source": [
    "# Underscore Placeholders\n",
    "\n",
    "\n",
    "\n",
    "\n",
    "\n",
    "\n",
    "\n",
    "\n"
   ]
  },
  {
   "cell_type": "code",
   "execution_count": 345,
   "id": "da9d8eab",
   "metadata": {},
   "outputs": [],
   "source": [
    "num_1 = 90000000000"
   ]
  },
  {
   "cell_type": "markdown",
   "id": "4d085aa4",
   "metadata": {},
   "source": [
    " * Kaç tane 0 var burada ? 1,2,3,4... bir tanesini atladım mı? Nerede kalmıştım, başa dönüp bir daha sayayım... Pff yok mu bunun daha okunabilir bir yolu?\n",
    "\n",
    "\n",
    " * Cevap tabii ki de evet. Sayıları arka planda algılanmasını değiştirmeden, ama bize daha kolay okunabilir yapan bir yöntem var.\n"
   ]
  },
  {
   "cell_type": "code",
   "execution_count": 346,
   "id": "8bce6b50",
   "metadata": {},
   "outputs": [],
   "source": [
    "num_2 = 90_000_000_000"
   ]
  },
  {
   "cell_type": "markdown",
   "id": "5aab878c",
   "metadata": {},
   "source": [
    " * Sayıların arasına alttan çizgi koymak!\n",
    "\n",
    "\n",
    " * Bu bilgisayarın sayıları algılamasını değiştirmiyor, o onları görmezden geliyor, ama bizim için daha okunabilir oluyor.\n",
    "\n"
   ]
  },
  {
   "cell_type": "code",
   "execution_count": 347,
   "id": "213f196a",
   "metadata": {},
   "outputs": [
    {
     "data": {
      "text/plain": [
       "90000000000"
      ]
     },
     "execution_count": 347,
     "metadata": {},
     "output_type": "execute_result"
    }
   ],
   "source": [
    "num_1"
   ]
  },
  {
   "cell_type": "code",
   "execution_count": 349,
   "id": "c009d601",
   "metadata": {},
   "outputs": [
    {
     "data": {
      "text/plain": [
       "90000000000"
      ]
     },
     "execution_count": 349,
     "metadata": {},
     "output_type": "execute_result"
    }
   ],
   "source": [
    "num_2"
   ]
  },
  {
   "cell_type": "markdown",
   "id": "64644f4b",
   "metadata": {},
   "source": [
    " * Bilgisayar için 90_000_000_000 ile 90000000000 sayısının hiç bir farkı yok!\n"
   ]
  },
  {
   "cell_type": "code",
   "execution_count": 350,
   "id": "721767ba",
   "metadata": {},
   "outputs": [
    {
     "data": {
      "text/plain": [
       "int"
      ]
     },
     "execution_count": 350,
     "metadata": {},
     "output_type": "execute_result"
    }
   ],
   "source": [
    "type(90_000_000_000)"
   ]
  },
  {
   "cell_type": "code",
   "execution_count": 352,
   "id": "b9d799a1",
   "metadata": {},
   "outputs": [
    {
     "data": {
      "text/plain": [
       "int"
      ]
     },
     "execution_count": 352,
     "metadata": {},
     "output_type": "execute_result"
    }
   ],
   "source": [
    "type(90000000000)"
   ]
  },
  {
   "cell_type": "code",
   "execution_count": 353,
   "id": "7bfac841",
   "metadata": {},
   "outputs": [],
   "source": [
    "num_1 = 90000000000"
   ]
  },
  {
   "cell_type": "code",
   "execution_count": 354,
   "id": "1a96f09c",
   "metadata": {},
   "outputs": [],
   "source": [
    "num_2 = 90_000_000_000"
   ]
  },
  {
   "cell_type": "code",
   "execution_count": 355,
   "id": "baf15a06",
   "metadata": {},
   "outputs": [
    {
     "data": {
      "text/plain": [
       "0"
      ]
     },
     "execution_count": 355,
     "metadata": {},
     "output_type": "execute_result"
    }
   ],
   "source": [
    "num_1 - num_2"
   ]
  },
  {
   "cell_type": "markdown",
   "id": "4ebb101e",
   "metadata": {},
   "source": [
    " * Bu mantığı float veri tipleri için de kullanabiliriz."
   ]
  },
  {
   "cell_type": "code",
   "execution_count": 356,
   "id": "922170ee",
   "metadata": {},
   "outputs": [],
   "source": [
    "num_3 = 0.12_11_12"
   ]
  },
  {
   "cell_type": "code",
   "execution_count": 357,
   "id": "55e21d88",
   "metadata": {},
   "outputs": [
    {
     "data": {
      "text/plain": [
       "0.121112"
      ]
     },
     "execution_count": 357,
     "metadata": {},
     "output_type": "execute_result"
    }
   ],
   "source": [
    "num_3"
   ]
  },
  {
   "cell_type": "markdown",
   "id": "42852543",
   "metadata": {},
   "source": [
    "# F-Strings\n",
    "\n",
    "\n",
    " * Değişkenlerimizin değerlerini direkt olarak string'lerin içine koymak isteyebiliriz.\n",
    "\n",
    "\n",
    " * f-string de yaptığımız tek şey aslında değişkenlerin değerlerini veya hesaplamaların sonucunu stringin içine gömmek.\n",
    "\n",
    "\n",
    " * f\"...\" diye göreceğimiz yapının adını String Interpolation diye görebilirsiniz.\n"
   ]
  },
  {
   "cell_type": "code",
   "execution_count": 358,
   "id": "61bb171c",
   "metadata": {},
   "outputs": [],
   "source": [
    "x = 2"
   ]
  },
  {
   "cell_type": "markdown",
   "id": "e3811e69",
   "metadata": {},
   "source": [
    " * Diyelim ki ekrana x'in değerini bastırmak istiyorum. Bu durumda istediğim şey \"x in değeri 2\" diye bastırmak. Bunu şöyle yapabilirim:"
   ]
  },
  {
   "cell_type": "code",
   "execution_count": 359,
   "id": "ff68ce27",
   "metadata": {},
   "outputs": [
    {
     "data": {
      "text/plain": [
       "'x in değeri 2'"
      ]
     },
     "execution_count": 359,
     "metadata": {},
     "output_type": "execute_result"
    }
   ],
   "source": [
    "\"x in değeri\" + \" \" + str(x)"
   ]
  },
  {
   "cell_type": "markdown",
   "id": "dd192fe8",
   "metadata": {},
   "source": [
    " * Ama ayrı ayrı yazmaya ihtiyaç olmadan direkt x'in değerini string'in içine gömebilseydim daha iyi olmaz mıydı ?"
   ]
  },
  {
   "cell_type": "code",
   "execution_count": 360,
   "id": "297c65cf",
   "metadata": {},
   "outputs": [
    {
     "data": {
      "text/plain": [
       "'x in değeri 2'"
      ]
     },
     "execution_count": 360,
     "metadata": {},
     "output_type": "execute_result"
    }
   ],
   "source": [
    "f\"x in değeri {x}\""
   ]
  },
  {
   "cell_type": "markdown",
   "id": "753a0d40",
   "metadata": {},
   "source": [
    " * İçine değer gömeceğimiz string'i tanımlarken başına f yazarak başlıyoruz f\"....\". Gömmek istediğimiz değeri/değişkeni süslü parantez içine yazıyoruz f\".....{}....\". Birden çok değer de gömmek isteyebiliriz, o zaman kaç tane yapacaksak o kadar süslü parantez koymamız gerekirdi f\".....{}....{}..\"\n",
    "\n",
    "\n",
    " * Python'ın yaptığı şey süslü parantezin içini hesaplayıp stringin içine gömmek.\n"
   ]
  },
  {
   "cell_type": "code",
   "execution_count": 361,
   "id": "abb8d55f",
   "metadata": {},
   "outputs": [
    {
     "data": {
      "text/plain": [
       "'x in değerinin iki fazlası 4'"
      ]
     },
     "execution_count": 361,
     "metadata": {},
     "output_type": "execute_result"
    }
   ],
   "source": [
    "f\"x in değerinin iki fazlası {x+2}\""
   ]
  },
  {
   "cell_type": "markdown",
   "id": "f3ccda13",
   "metadata": {},
   "source": [
    " * {x+2} kısmında python x+2'yi hesapladı ve string'in içine cevabın değerini gömdü.\n"
   ]
  },
  {
   "cell_type": "code",
   "execution_count": 362,
   "id": "c59747d6",
   "metadata": {},
   "outputs": [
    {
     "name": "stdout",
     "output_type": "stream",
     "text": [
      "İsim:sema\n"
     ]
    }
   ],
   "source": [
    "isim = input(\"İsim:\")"
   ]
  },
  {
   "cell_type": "code",
   "execution_count": 363,
   "id": "130d4c89",
   "metadata": {},
   "outputs": [
    {
     "data": {
      "text/plain": [
       "'verilen isim sema'"
      ]
     },
     "execution_count": 363,
     "metadata": {},
     "output_type": "execute_result"
    }
   ],
   "source": [
    "f\"verilen isim {isim}\""
   ]
  },
  {
   "cell_type": "code",
   "execution_count": null,
   "id": "572f260b",
   "metadata": {},
   "outputs": [],
   "source": [
    "l = [1,2,3,4]"
   ]
  },
  {
   "cell_type": "code",
   "execution_count": 364,
   "id": "2683809f",
   "metadata": {},
   "outputs": [
    {
     "data": {
      "text/plain": [
       "'verilen liste [1, 8, 27, 64]'"
      ]
     },
     "execution_count": 364,
     "metadata": {},
     "output_type": "execute_result"
    }
   ],
   "source": [
    "f\"verilen liste {l}\""
   ]
  },
  {
   "cell_type": "markdown",
   "id": "81e5e2f6",
   "metadata": {},
   "source": [
    " * {} içerisine değeri hesaplanacak herhangi bir şey yazılabilir."
   ]
  },
  {
   "cell_type": "code",
   "execution_count": 365,
   "id": "cc4e1380",
   "metadata": {},
   "outputs": [
    {
     "data": {
      "text/plain": [
       "'verilen isim Sema'"
      ]
     },
     "execution_count": 365,
     "metadata": {},
     "output_type": "execute_result"
    }
   ],
   "source": [
    "f\"verilen isim {isim.capitalize()}\""
   ]
  },
  {
   "cell_type": "markdown",
   "id": "03aa478f",
   "metadata": {},
   "source": [
    " * Süslü parantezin içine fonksiyon da yazabiliriz."
   ]
  },
  {
   "cell_type": "code",
   "execution_count": 366,
   "id": "4eb5dc3f",
   "metadata": {},
   "outputs": [],
   "source": [
    "def kare(x):\n",
    "    return x**2"
   ]
  },
  {
   "cell_type": "code",
   "execution_count": 367,
   "id": "27c74535",
   "metadata": {},
   "outputs": [],
   "source": [
    "x = 10"
   ]
  },
  {
   "cell_type": "code",
   "execution_count": 368,
   "id": "27716f87",
   "metadata": {},
   "outputs": [
    {
     "data": {
      "text/plain": [
       "'10 sayısının karesi 100'"
      ]
     },
     "execution_count": 368,
     "metadata": {},
     "output_type": "execute_result"
    }
   ],
   "source": [
    "f\"{x} sayısının karesi {kare(x)}\""
   ]
  },
  {
   "cell_type": "code",
   "execution_count": null,
   "id": "1b398428",
   "metadata": {},
   "outputs": [],
   "source": []
  },
  {
   "cell_type": "code",
   "execution_count": null,
   "id": "f4ec2360",
   "metadata": {},
   "outputs": [],
   "source": []
  },
  {
   "cell_type": "code",
   "execution_count": null,
   "id": "8cbea03f",
   "metadata": {},
   "outputs": [],
   "source": []
  },
  {
   "cell_type": "code",
   "execution_count": null,
   "id": "30caa6e0",
   "metadata": {},
   "outputs": [],
   "source": []
  },
  {
   "cell_type": "code",
   "execution_count": 24,
   "id": "0ac552e3",
   "metadata": {},
   "outputs": [
    {
     "name": "stdout",
     "output_type": "stream",
     "text": [
      "20 4 12\n"
     ]
    }
   ],
   "source": [
    "def foo(a, b=4, c=6):\n",
    "    print(a, b, c)\n",
    " \n",
    "foo(20, c=12)"
   ]
  },
  {
   "cell_type": "code",
   "execution_count": 25,
   "id": "a43f12df",
   "metadata": {},
   "outputs": [
    {
     "name": "stdout",
     "output_type": "stream",
     "text": [
      "[5, 11, 37]\n"
     ]
    }
   ],
   "source": [
    "numbers = [1, 1, 2, 3, 5, 8, 13, 21, 34, 55]\n",
    "result = [num + 3 for num in numbers if num % 2 == 0]\n",
    "print(result)"
   ]
  },
  {
   "cell_type": "code",
   "execution_count": null,
   "id": "5c32c7b3",
   "metadata": {},
   "outputs": [],
   "source": []
  },
  {
   "cell_type": "markdown",
   "id": "840d9293",
   "metadata": {},
   "source": []
  }
 ],
 "metadata": {
  "kernelspec": {
   "display_name": "Python 3 (ipykernel)",
   "language": "python",
   "name": "python3"
  },
  "language_info": {
   "codemirror_mode": {
    "name": "ipython",
    "version": 3
   },
   "file_extension": ".py",
   "mimetype": "text/x-python",
   "name": "python",
   "nbconvert_exporter": "python",
   "pygments_lexer": "ipython3",
   "version": "3.9.12"
  }
 },
 "nbformat": 4,
 "nbformat_minor": 5
}
